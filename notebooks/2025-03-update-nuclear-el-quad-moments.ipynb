{
 "cells": [
  {
   "cell_type": "markdown",
   "id": "1e39a03a-a70e-4fdf-a630-92252c304d31",
   "metadata": {},
   "source": [
    "# Parse \"Table of Nuclear Electric Quadrupole Moments\"\n",
    "\n",
    "source: https://www-nds.iaea.org/publications/indc/indc-nds-0833/"
   ]
  },
  {
   "cell_type": "code",
   "execution_count": 1,
   "id": "c7973671-96f6-45ec-b10c-2d03b8e37453",
   "metadata": {},
   "outputs": [],
   "source": [
    "from fractions import Fraction\n",
    "from pathlib import Path\n",
    "import re\n",
    "\n",
    "import camelot\n",
    "from camelot.io import read_pdf\n",
    "import pandas as pd\n",
    "import numpy as np\n",
    "import polars as pl"
   ]
  },
  {
   "cell_type": "code",
   "execution_count": 2,
   "id": "b0ada16e-5b13-44ef-91cb-96ca935739f7",
   "metadata": {},
   "outputs": [
    {
     "data": {
      "text/plain": [
       "polars.config.Config"
      ]
     },
     "execution_count": 2,
     "metadata": {},
     "output_type": "execute_result"
    }
   ],
   "source": [
    "pl.Config.set_tbl_rows(100)"
   ]
  },
  {
   "cell_type": "code",
   "execution_count": 22,
   "id": "33e431f2-3553-4b35-9915-61d6a3b82d7d",
   "metadata": {},
   "outputs": [],
   "source": [
    "pdf = Path(\"../data/indc-nds-0833.pdf\")\n",
    "# tabs = read_pdf(str(pdf), pages=\"19-66\", flavor=\"stream\", edge_tol=500, r_tol=10)\n",
    "tabs = read_pdf(str(pdf), pages=\"19-66\", flavor=\"stream\", columns=['115,171,212,261,306,385,444,508,585'], table_areas=['50,545,701,50'])"
   ]
  },
  {
   "cell_type": "code",
   "execution_count": 32,
   "id": "54e803e1-7854-4e6c-b367-4cb41a3ef9ed",
   "metadata": {},
   "outputs": [],
   "source": [
    "df = pd.concat([t.df.replace(\"\", None).dropna(axis=\"index\", how=\"all\") for t in tabs])\n",
    "# drop first row and set columns\n",
    "df = df.iloc[1:]\n",
    "df.columns = [\"Element\", \"Isotope\", \"E(level)\", \"T1/2\", \"s/p\", \"Q(b)\", \"ref.std.\", \"method\", \"NSR Keynumber\", \"Journal Reference\"]\n",
    "# save\n",
    "df.to_parquet(\"nuc-el-quad-mom-raw.parquet\")"
   ]
  },
  {
   "cell_type": "markdown",
   "id": "f0476f06-3422-4d41-8fbb-c3e4b659d031",
   "metadata": {},
   "source": [
    "## Process extracted table"
   ]
  },
  {
   "cell_type": "code",
   "execution_count": 63,
   "id": "474aa3e4-1384-4149-b20f-2995b17f4cf0",
   "metadata": {},
   "outputs": [],
   "source": [
    "qmom = pl.read_parquet(\"nuc-el-quad-mom-raw.parquet\").select([\"Isotope\", \"E(level)\", \"s/p\", \"Q(b)\"])\n",
    "\n",
    "# drop all rows where all values are null and keep only ground state nuclei\n",
    "qmom = qmom.drop_nulls(subset=\"Q(b)\").filter(pl.col(\"E(level)\") == \"0\")\n",
    "\n",
    "# get atomic and mass number and symbol\n",
    "pattern = r\"(\\d+)\\s*([A-Za-z]+)\\s*(\\d+)\"\n",
    "qmom = qmom.with_columns(\n",
    "    captures=pl.col(\"Isotope\").str.extract_groups(pattern)\n",
    ").with_columns(\n",
    "    atomic_number=pl.col(\"captures\").struct[\"1\"].cast(pl.Int64),\n",
    "    symbol=pl.col(\"captures\").struct[\"2\"],\n",
    "    mass_number=pl.col(\"captures\").struct[\"3\"].cast(pl.Int64),\n",
    ").drop(\"captures\")"
   ]
  },
  {
   "cell_type": "code",
   "execution_count": 64,
   "id": "37fa7b18-6a4a-492e-b444-fc021db547ca",
   "metadata": {},
   "outputs": [],
   "source": [
    "# parse spin and parity\n",
    "spin_re = r\"(?P<spin>\\d+/\\d+|\\d+)(?P<parity>[+-]?)\"\n",
    "qmom = qmom.with_columns(captures=pl.col(\"s/p\").str.extract_groups(spin_re)).unnest(\n",
    "    \"captures\"\n",
    ")"
   ]
  },
  {
   "cell_type": "code",
   "execution_count": 65,
   "id": "9bf442b6-cdc1-4926-abfb-2af07720b21a",
   "metadata": {},
   "outputs": [],
   "source": [
    "# parse nuclear electric quadrupole moments and uncertainties\n",
    "val_unc_re = r\"(?P<value_sign>[+-])?(?P<value_lead>\\d+)\\.?(?P<value_decimals>\\d+)?\\s*\\(?(?P<value_unc>\\d+(?:\\.\\d+)?)\\)?\"\n",
    "qmom = (\n",
    "    qmom.with_columns(captures=pl.col(\"Q(b)\").str.extract_groups(val_unc_re))\n",
    "    .unnest(\"captures\")\n",
    "    .with_columns(\n",
    "        value_precision=pl.col(\"value_decimals\").str.len_chars().cast(pl.Int32),\n",
    "    )\n",
    "    .with_columns(\n",
    "        quadrupole_moment=pl.concat_str(\n",
    "            pl.col(\"value_sign\"),\n",
    "            pl.col(\"value_lead\"),\n",
    "            pl.lit(\".\"),\n",
    "            pl.col(\"value_decimals\"),\n",
    "            ignore_nulls=True,\n",
    "        ).cast(pl.Float32),\n",
    "        quadrupole_moment_uncertainty=pl.lit(10.0, dtype=pl.Float32).pow(\n",
    "            -pl.col(\"value_precision\").cast(pl.Float32)\n",
    "        )\n",
    "        * pl.col(\"value_unc\").cast(pl.Float32),\n",
    "    )\n",
    ")"
   ]
  },
  {
   "cell_type": "code",
   "execution_count": 66,
   "id": "01ce9211-b2f2-4371-a0bb-9e55dddf549e",
   "metadata": {},
   "outputs": [
    {
     "data": {
      "text/html": [
       "<div><style>\n",
       ".dataframe > thead > tr,\n",
       ".dataframe > tbody > tr {\n",
       "  text-align: right;\n",
       "  white-space: pre-wrap;\n",
       "}\n",
       "</style>\n",
       "<small>shape: (597, 16)</small><table border=\"1\" class=\"dataframe\"><thead><tr><th>Isotope</th><th>E(level)</th><th>s/p</th><th>Q(b)</th><th>atomic_number</th><th>symbol</th><th>mass_number</th><th>spin</th><th>parity</th><th>value_sign</th><th>value_lead</th><th>value_decimals</th><th>value_unc</th><th>value_precision</th><th>quadrupole_moment</th><th>quadrupole_moment_uncertainty</th></tr><tr><td>str</td><td>str</td><td>str</td><td>str</td><td>i64</td><td>str</td><td>i64</td><td>str</td><td>str</td><td>str</td><td>str</td><td>str</td><td>str</td><td>i32</td><td>f32</td><td>f32</td></tr></thead><tbody><tr><td>&quot;1 H 2&quot;</td><td>&quot;0&quot;</td><td>&quot;1+&quot;</td><td>&quot;+0.0028578(3)&quot;</td><td>1</td><td>&quot;H&quot;</td><td>2</td><td>&quot;1&quot;</td><td>&quot;+&quot;</td><td>&quot;+&quot;</td><td>&quot;0&quot;</td><td>&quot;0028578&quot;</td><td>&quot;3&quot;</td><td>7</td><td>0.002858</td><td>3.0000e-7</td></tr><tr><td>&quot;3 Li 6&quot;</td><td>&quot;0&quot;</td><td>&quot;1+&quot;</td><td>&quot;-0.000806(6)&quot;</td><td>3</td><td>&quot;Li&quot;</td><td>6</td><td>&quot;1&quot;</td><td>&quot;+&quot;</td><td>&quot;-&quot;</td><td>&quot;0&quot;</td><td>&quot;000806&quot;</td><td>&quot;6&quot;</td><td>6</td><td>-0.000806</td><td>0.000006</td></tr><tr><td>&quot;3 Li 7&quot;</td><td>&quot;0&quot;</td><td>&quot;3/2-&quot;</td><td>&quot;-0.0400(3)&quot;</td><td>3</td><td>&quot;Li&quot;</td><td>7</td><td>&quot;3/2&quot;</td><td>&quot;-&quot;</td><td>&quot;-&quot;</td><td>&quot;0&quot;</td><td>&quot;0400&quot;</td><td>&quot;3&quot;</td><td>4</td><td>-0.04</td><td>0.0003</td></tr><tr><td>&quot;3 Li 8&quot;</td><td>&quot;0&quot;</td><td>&quot;2+&quot;</td><td>&quot;+0.0314(2)&quot;</td><td>3</td><td>&quot;Li&quot;</td><td>8</td><td>&quot;2&quot;</td><td>&quot;+&quot;</td><td>&quot;+&quot;</td><td>&quot;0&quot;</td><td>&quot;0314&quot;</td><td>&quot;2&quot;</td><td>4</td><td>0.0314</td><td>0.0002</td></tr><tr><td>&quot;3 Li 9&quot;</td><td>&quot;0&quot;</td><td>&quot;3/2-&quot;</td><td>&quot;-0.0304(2)&quot;</td><td>3</td><td>&quot;Li&quot;</td><td>9</td><td>&quot;3/2&quot;</td><td>&quot;-&quot;</td><td>&quot;-&quot;</td><td>&quot;0&quot;</td><td>&quot;0304&quot;</td><td>&quot;2&quot;</td><td>4</td><td>-0.0304</td><td>0.0002</td></tr><tr><td>&quot;3 Li 11&quot;</td><td>&quot;0&quot;</td><td>&quot;3/2-&quot;</td><td>&quot;(-)0.0333(5)&quot;</td><td>3</td><td>&quot;Li&quot;</td><td>11</td><td>&quot;3/2&quot;</td><td>&quot;-&quot;</td><td>null</td><td>&quot;0&quot;</td><td>&quot;0333&quot;</td><td>&quot;5&quot;</td><td>4</td><td>0.0333</td><td>0.0005</td></tr><tr><td>&quot;4 Be 9&quot;</td><td>&quot;0&quot;</td><td>&quot;3/2-&quot;</td><td>&quot;+0.0529(4)&quot;</td><td>4</td><td>&quot;Be&quot;</td><td>9</td><td>&quot;3/2&quot;</td><td>&quot;-&quot;</td><td>&quot;+&quot;</td><td>&quot;0&quot;</td><td>&quot;0529&quot;</td><td>&quot;4&quot;</td><td>4</td><td>0.0529</td><td>0.0004</td></tr><tr><td>&quot;5 B 8&quot;</td><td>&quot;0&quot;</td><td>&quot;2+&quot;</td><td>&quot;+0.0643(14)&quot;</td><td>5</td><td>&quot;B&quot;</td><td>8</td><td>&quot;2&quot;</td><td>&quot;+&quot;</td><td>&quot;+&quot;</td><td>&quot;0&quot;</td><td>&quot;0643&quot;</td><td>&quot;14&quot;</td><td>4</td><td>0.0643</td><td>0.0014</td></tr><tr><td>&quot;5 B 10&quot;</td><td>&quot;0&quot;</td><td>&quot;3+&quot;</td><td>&quot;+0.0846(2)&quot;</td><td>5</td><td>&quot;B&quot;</td><td>10</td><td>&quot;3&quot;</td><td>&quot;+&quot;</td><td>&quot;+&quot;</td><td>&quot;0&quot;</td><td>&quot;0846&quot;</td><td>&quot;2&quot;</td><td>4</td><td>0.0846</td><td>0.0002</td></tr><tr><td>&quot;5 B 11&quot;</td><td>&quot;0&quot;</td><td>&quot;3/2-&quot;</td><td>&quot;+0.04059(10)&quot;</td><td>5</td><td>&quot;B&quot;</td><td>11</td><td>&quot;3/2&quot;</td><td>&quot;-&quot;</td><td>&quot;+&quot;</td><td>&quot;0&quot;</td><td>&quot;04059&quot;</td><td>&quot;10&quot;</td><td>5</td><td>0.04059</td><td>0.0001</td></tr><tr><td>&quot;5 B 12&quot;</td><td>&quot;0&quot;</td><td>&quot;1+&quot;</td><td>&quot;0.0132(3)&quot;</td><td>5</td><td>&quot;B&quot;</td><td>12</td><td>&quot;1&quot;</td><td>&quot;+&quot;</td><td>null</td><td>&quot;0&quot;</td><td>&quot;0132&quot;</td><td>&quot;3&quot;</td><td>4</td><td>0.0132</td><td>0.0003</td></tr><tr><td>&quot;5 B 13&quot;</td><td>&quot;0&quot;</td><td>&quot;3/2-&quot;</td><td>&quot;(+)0.0365(8)&quot;</td><td>5</td><td>&quot;B&quot;</td><td>13</td><td>&quot;3/2&quot;</td><td>&quot;-&quot;</td><td>null</td><td>&quot;0&quot;</td><td>&quot;0365&quot;</td><td>&quot;8&quot;</td><td>4</td><td>0.0365</td><td>0.0008</td></tr><tr><td>&quot;5 B 14&quot;</td><td>&quot;0&quot;</td><td>&quot;2-&quot;</td><td>&quot;0.0297(8)&quot;</td><td>5</td><td>&quot;B&quot;</td><td>14</td><td>&quot;2&quot;</td><td>&quot;-&quot;</td><td>null</td><td>&quot;0&quot;</td><td>&quot;0297&quot;</td><td>&quot;8&quot;</td><td>4</td><td>0.0297</td><td>0.0008</td></tr><tr><td>&quot;5 B 15&quot;</td><td>&quot;0&quot;</td><td>&quot;3/2-&quot;</td><td>&quot;0.0379(11)&quot;</td><td>5</td><td>&quot;B&quot;</td><td>15</td><td>&quot;3/2&quot;</td><td>&quot;-&quot;</td><td>null</td><td>&quot;0&quot;</td><td>&quot;0379&quot;</td><td>&quot;11&quot;</td><td>4</td><td>0.0379</td><td>0.0011</td></tr><tr><td>&quot;5 B 17&quot;</td><td>&quot;0&quot;</td><td>&quot;(3/2-)&quot;</td><td>&quot;0.0385(15)&quot;</td><td>5</td><td>&quot;B&quot;</td><td>17</td><td>&quot;3/2&quot;</td><td>&quot;-&quot;</td><td>null</td><td>&quot;0&quot;</td><td>&quot;0385&quot;</td><td>&quot;15&quot;</td><td>4</td><td>0.0385</td><td>0.0015</td></tr><tr><td>&quot;6 C 11&quot;</td><td>&quot;0&quot;</td><td>&quot;3/2-&quot;</td><td>&quot;0.0333(2)&quot;</td><td>6</td><td>&quot;C&quot;</td><td>11</td><td>&quot;3/2&quot;</td><td>&quot;-&quot;</td><td>null</td><td>&quot;0&quot;</td><td>&quot;0333&quot;</td><td>&quot;2&quot;</td><td>4</td><td>0.0333</td><td>0.0002</td></tr><tr><td>&quot;7 N 12&quot;</td><td>&quot;0&quot;</td><td>&quot;1+&quot;</td><td>&quot;+0.0100(9)&quot;</td><td>7</td><td>&quot;N&quot;</td><td>12</td><td>&quot;1&quot;</td><td>&quot;+&quot;</td><td>&quot;+&quot;</td><td>&quot;0&quot;</td><td>&quot;0100&quot;</td><td>&quot;9&quot;</td><td>4</td><td>0.01</td><td>0.0009</td></tr><tr><td>&quot;7 N 14&quot;</td><td>&quot;0&quot;</td><td>&quot;1+&quot;</td><td>&quot;+0.02044(3)&quot;</td><td>7</td><td>&quot;N&quot;</td><td>14</td><td>&quot;1&quot;</td><td>&quot;+&quot;</td><td>&quot;+&quot;</td><td>&quot;0&quot;</td><td>&quot;02044&quot;</td><td>&quot;3&quot;</td><td>5</td><td>0.02044</td><td>0.00003</td></tr><tr><td>&quot;7 N 16&quot;</td><td>&quot;0&quot;</td><td>&quot;2-&quot;</td><td>&quot;(-)0.018(2)&quot;</td><td>7</td><td>&quot;N&quot;</td><td>16</td><td>&quot;2&quot;</td><td>&quot;-&quot;</td><td>null</td><td>&quot;0&quot;</td><td>&quot;018&quot;</td><td>&quot;2&quot;</td><td>3</td><td>0.018</td><td>0.002</td></tr><tr><td>&quot;7 N 18&quot;</td><td>&quot;0&quot;</td><td>&quot;1-&quot;</td><td>&quot;(+)0.0123(12)&quot;</td><td>7</td><td>&quot;N&quot;</td><td>18</td><td>&quot;1&quot;</td><td>&quot;-&quot;</td><td>null</td><td>&quot;0&quot;</td><td>&quot;0123&quot;</td><td>&quot;12&quot;</td><td>4</td><td>0.0123</td><td>0.0012</td></tr><tr><td>&quot;8 O 13&quot;</td><td>&quot;0&quot;</td><td>&quot;3/2-&quot;</td><td>&quot;0.0111(8)&quot;</td><td>8</td><td>&quot;O&quot;</td><td>13</td><td>&quot;3/2&quot;</td><td>&quot;-&quot;</td><td>null</td><td>&quot;0&quot;</td><td>&quot;0111&quot;</td><td>&quot;8&quot;</td><td>4</td><td>0.0111</td><td>0.0008</td></tr><tr><td>&quot;8 O 17&quot;</td><td>&quot;0&quot;</td><td>&quot;5/2+&quot;</td><td>&quot;-0.0256(2)&quot;</td><td>8</td><td>&quot;O&quot;</td><td>17</td><td>&quot;5/2&quot;</td><td>&quot;+&quot;</td><td>&quot;-&quot;</td><td>&quot;0&quot;</td><td>&quot;0256&quot;</td><td>&quot;2&quot;</td><td>4</td><td>-0.0256</td><td>0.0002</td></tr><tr><td>&quot;8 O 19&quot;</td><td>&quot;0&quot;</td><td>&quot;5/2+&quot;</td><td>&quot;0.00362(13)&quot;</td><td>8</td><td>&quot;O&quot;</td><td>19</td><td>&quot;5/2&quot;</td><td>&quot;+&quot;</td><td>null</td><td>&quot;0&quot;</td><td>&quot;00362&quot;</td><td>&quot;13&quot;</td><td>5</td><td>0.00362</td><td>0.00013</td></tr><tr><td>&quot;9 F 17&quot;</td><td>&quot;0&quot;</td><td>&quot;5/2+&quot;</td><td>&quot;0.076(4)&quot;</td><td>9</td><td>&quot;F&quot;</td><td>17</td><td>&quot;5/2&quot;</td><td>&quot;+&quot;</td><td>null</td><td>&quot;0&quot;</td><td>&quot;076&quot;</td><td>&quot;4&quot;</td><td>3</td><td>0.076</td><td>0.004</td></tr><tr><td>&quot;9 F 20&quot;</td><td>&quot;0&quot;</td><td>&quot;2+&quot;</td><td>&quot;0.056(4)&quot;</td><td>9</td><td>&quot;F&quot;</td><td>20</td><td>&quot;2&quot;</td><td>&quot;+&quot;</td><td>null</td><td>&quot;0&quot;</td><td>&quot;056&quot;</td><td>&quot;4&quot;</td><td>3</td><td>0.056</td><td>0.004</td></tr><tr><td>&quot;9 F 21&quot;</td><td>&quot;0&quot;</td><td>&quot;5/2+&quot;</td><td>&quot;0.011(2)&quot;</td><td>9</td><td>&quot;F&quot;</td><td>21</td><td>&quot;5/2&quot;</td><td>&quot;+&quot;</td><td>null</td><td>&quot;0&quot;</td><td>&quot;011&quot;</td><td>&quot;2&quot;</td><td>3</td><td>0.011</td><td>0.002</td></tr><tr><td>&quot;9 F 22&quot;</td><td>&quot;0&quot;</td><td>&quot;4+&quot;</td><td>&quot;0.003(2)&quot;</td><td>9</td><td>&quot;F&quot;</td><td>22</td><td>&quot;4&quot;</td><td>&quot;+&quot;</td><td>null</td><td>&quot;0&quot;</td><td>&quot;003&quot;</td><td>&quot;2&quot;</td><td>3</td><td>0.003</td><td>0.002</td></tr><tr><td>&quot;10 Ne 21&quot;</td><td>&quot;0&quot;</td><td>&quot;3/2+&quot;</td><td>&quot;+0.1016(8)&quot;</td><td>10</td><td>&quot;Ne&quot;</td><td>21</td><td>&quot;3/2&quot;</td><td>&quot;+&quot;</td><td>&quot;+&quot;</td><td>&quot;0&quot;</td><td>&quot;1016&quot;</td><td>&quot;8&quot;</td><td>4</td><td>0.1016</td><td>0.0008</td></tr><tr><td>&quot;10 Ne 23&quot;</td><td>&quot;0&quot;</td><td>&quot;5/2+&quot;</td><td>&quot;0.145(13)&quot;</td><td>10</td><td>&quot;Ne&quot;</td><td>23</td><td>&quot;5/2&quot;</td><td>&quot;+&quot;</td><td>null</td><td>&quot;0&quot;</td><td>&quot;145&quot;</td><td>&quot;13&quot;</td><td>3</td><td>0.145</td><td>0.013</td></tr><tr><td>&quot;11 Na 20&quot;</td><td>&quot;0&quot;</td><td>&quot;2+&quot;</td><td>&quot;+0.101(8)&quot;</td><td>11</td><td>&quot;Na&quot;</td><td>20</td><td>&quot;2&quot;</td><td>&quot;+&quot;</td><td>&quot;+&quot;</td><td>&quot;0&quot;</td><td>&quot;101&quot;</td><td>&quot;8&quot;</td><td>3</td><td>0.101</td><td>0.008</td></tr><tr><td>&quot;11 Na 21&quot;</td><td>&quot;0&quot;</td><td>&quot;3/2+&quot;</td><td>&quot;0.138(11)&quot;</td><td>11</td><td>&quot;Na&quot;</td><td>21</td><td>&quot;3/2&quot;</td><td>&quot;+&quot;</td><td>null</td><td>&quot;0&quot;</td><td>&quot;138&quot;</td><td>&quot;11&quot;</td><td>3</td><td>0.138</td><td>0.011</td></tr><tr><td>&quot;11 Na 22&quot;</td><td>&quot;0&quot;</td><td>&quot;3+&quot;</td><td>&quot;+0.180(11)&quot;</td><td>11</td><td>&quot;Na&quot;</td><td>22</td><td>&quot;3&quot;</td><td>&quot;+&quot;</td><td>&quot;+&quot;</td><td>&quot;0&quot;</td><td>&quot;180&quot;</td><td>&quot;11&quot;</td><td>3</td><td>0.18</td><td>0.011</td></tr><tr><td>&quot;11 Na 23&quot;</td><td>&quot;0&quot;</td><td>&quot;3/2+&quot;</td><td>&quot;+0.104(1)&quot;</td><td>11</td><td>&quot;Na&quot;</td><td>23</td><td>&quot;3/2&quot;</td><td>&quot;+&quot;</td><td>&quot;+&quot;</td><td>&quot;0&quot;</td><td>&quot;104&quot;</td><td>&quot;1&quot;</td><td>3</td><td>0.104</td><td>0.001</td></tr><tr><td>&quot;11 Na 25&quot;</td><td>&quot;0&quot;</td><td>&quot;5/2+&quot;</td><td>&quot;0.0015(3)&quot;</td><td>11</td><td>&quot;Na&quot;</td><td>25</td><td>&quot;5/2&quot;</td><td>&quot;+&quot;</td><td>null</td><td>&quot;0&quot;</td><td>&quot;0015&quot;</td><td>&quot;3&quot;</td><td>4</td><td>0.0015</td><td>0.0003</td></tr><tr><td>&quot;11 Na 26&quot;</td><td>&quot;0&quot;</td><td>&quot;3+&quot;</td><td>&quot;-0.0053(2)&quot;</td><td>11</td><td>&quot;Na&quot;</td><td>26</td><td>&quot;3&quot;</td><td>&quot;+&quot;</td><td>&quot;-&quot;</td><td>&quot;0&quot;</td><td>&quot;0053&quot;</td><td>&quot;2&quot;</td><td>4</td><td>-0.0053</td><td>0.0002</td></tr><tr><td>&quot;11 Na 27&quot;</td><td>&quot;0&quot;</td><td>&quot;5/2+&quot;</td><td>&quot;-0.0071(3)&quot;</td><td>11</td><td>&quot;Na&quot;</td><td>27</td><td>&quot;5/2&quot;</td><td>&quot;+&quot;</td><td>&quot;-&quot;</td><td>&quot;0&quot;</td><td>&quot;0071&quot;</td><td>&quot;3&quot;</td><td>4</td><td>-0.0071</td><td>0.0003</td></tr><tr><td>&quot;11 Na 28&quot;</td><td>&quot;0&quot;</td><td>&quot;1+&quot;</td><td>&quot;+0.389(11)&quot;</td><td>11</td><td>&quot;Na&quot;</td><td>28</td><td>&quot;1&quot;</td><td>&quot;+&quot;</td><td>&quot;+&quot;</td><td>&quot;0&quot;</td><td>&quot;389&quot;</td><td>&quot;11&quot;</td><td>3</td><td>0.389</td><td>0.011</td></tr><tr><td>&quot;11 Na 29&quot;</td><td>&quot;0&quot;</td><td>&quot;3/2+&quot;</td><td>&quot;+0.085(3)&quot;</td><td>11</td><td>&quot;Na&quot;</td><td>29</td><td>&quot;3/2&quot;</td><td>&quot;+&quot;</td><td>&quot;+&quot;</td><td>&quot;0&quot;</td><td>&quot;085&quot;</td><td>&quot;3&quot;</td><td>3</td><td>0.085</td><td>0.003</td></tr><tr><td>&quot;12 Mg 23&quot;</td><td>&quot;0&quot;</td><td>&quot;3/2+&quot;</td><td>&quot;0.114(3)&quot;</td><td>12</td><td>&quot;Mg&quot;</td><td>23</td><td>&quot;3/2&quot;</td><td>&quot;+&quot;</td><td>null</td><td>&quot;0&quot;</td><td>&quot;114&quot;</td><td>&quot;3&quot;</td><td>3</td><td>0.114</td><td>0.003</td></tr><tr><td>&quot;12 Mg 25&quot;</td><td>&quot;0&quot;</td><td>&quot;5/2+&quot;</td><td>&quot;+0.199(2)&quot;</td><td>12</td><td>&quot;Mg&quot;</td><td>25</td><td>&quot;5/2&quot;</td><td>&quot;+&quot;</td><td>&quot;+&quot;</td><td>&quot;0&quot;</td><td>&quot;199&quot;</td><td>&quot;2&quot;</td><td>3</td><td>0.199</td><td>0.002</td></tr><tr><td>&quot;12 Mg 29&quot;</td><td>&quot;0&quot;</td><td>&quot;3/2+&quot;</td><td>&quot;-0.16(4)&quot;</td><td>12</td><td>&quot;Mg&quot;</td><td>29</td><td>&quot;3/2&quot;</td><td>&quot;+&quot;</td><td>&quot;-&quot;</td><td>&quot;0&quot;</td><td>&quot;16&quot;</td><td>&quot;4&quot;</td><td>2</td><td>-0.16</td><td>0.04</td></tr><tr><td>&quot;12 Mg 33&quot;</td><td>&quot;0&quot;</td><td>&quot;3/2-&quot;</td><td>&quot;+0.13(9)&quot;</td><td>12</td><td>&quot;Mg&quot;</td><td>33</td><td>&quot;3/2&quot;</td><td>&quot;-&quot;</td><td>&quot;+&quot;</td><td>&quot;0&quot;</td><td>&quot;13&quot;</td><td>&quot;9&quot;</td><td>2</td><td>0.13</td><td>0.09</td></tr><tr><td>&quot;13 Al 25&quot;</td><td>&quot;0&quot;</td><td>&quot;5/2+&quot;</td><td>&quot;0.24(2)&quot;</td><td>13</td><td>&quot;Al&quot;</td><td>25</td><td>&quot;5/2&quot;</td><td>&quot;+&quot;</td><td>null</td><td>&quot;0&quot;</td><td>&quot;24&quot;</td><td>&quot;2&quot;</td><td>2</td><td>0.24</td><td>0.02</td></tr><tr><td>&quot;13 Al 26&quot;</td><td>&quot;0&quot;</td><td>&quot;5+&quot;</td><td>&quot;+0.26(3)&quot;</td><td>13</td><td>&quot;Al&quot;</td><td>26</td><td>&quot;5&quot;</td><td>&quot;+&quot;</td><td>&quot;+&quot;</td><td>&quot;0&quot;</td><td>&quot;26&quot;</td><td>&quot;3&quot;</td><td>2</td><td>0.26</td><td>0.03</td></tr><tr><td>&quot;13 Al 27&quot;</td><td>&quot;0&quot;</td><td>&quot;5/2+&quot;</td><td>&quot;+0.1466(10)&quot;</td><td>13</td><td>&quot;Al&quot;</td><td>27</td><td>&quot;5/2&quot;</td><td>&quot;+&quot;</td><td>&quot;+&quot;</td><td>&quot;0&quot;</td><td>&quot;1466&quot;</td><td>&quot;10&quot;</td><td>4</td><td>0.1466</td><td>0.001</td></tr><tr><td>&quot;13 Al 28&quot;</td><td>&quot;0&quot;</td><td>&quot;3+&quot;</td><td>&quot;0.172(12)&quot;</td><td>13</td><td>&quot;Al&quot;</td><td>28</td><td>&quot;3&quot;</td><td>&quot;+&quot;</td><td>null</td><td>&quot;0&quot;</td><td>&quot;172&quot;</td><td>&quot;12&quot;</td><td>3</td><td>0.172</td><td>0.012</td></tr><tr><td>&quot;13 Al 31&quot;</td><td>&quot;0&quot;</td><td>&quot;(5/2+)&quot;</td><td>&quot;0.134(2)&quot;</td><td>13</td><td>&quot;Al&quot;</td><td>31</td><td>&quot;5/2&quot;</td><td>&quot;+&quot;</td><td>null</td><td>&quot;0&quot;</td><td>&quot;134&quot;</td><td>&quot;2&quot;</td><td>3</td><td>0.134</td><td>0.002</td></tr><tr><td>&quot;13 Al 32&quot;</td><td>&quot;0&quot;</td><td>&quot;1+&quot;</td><td>&quot;0.0255(3)&quot;</td><td>13</td><td>&quot;Al&quot;</td><td>32</td><td>&quot;1&quot;</td><td>&quot;+&quot;</td><td>null</td><td>&quot;0&quot;</td><td>&quot;0255&quot;</td><td>&quot;3&quot;</td><td>4</td><td>0.0255</td><td>0.0003</td></tr><tr><td>&quot;13 Al 33&quot;</td><td>&quot;0&quot;</td><td>&quot;(5/2+)&quot;</td><td>&quot;0.141(3)&quot;</td><td>13</td><td>&quot;Al&quot;</td><td>33</td><td>&quot;5/2&quot;</td><td>&quot;+&quot;</td><td>null</td><td>&quot;0&quot;</td><td>&quot;141&quot;</td><td>&quot;3&quot;</td><td>3</td><td>0.141</td><td>0.003</td></tr><tr><td>&quot;14 Si 27&quot;</td><td>&quot;0&quot;</td><td>&quot;5/2+&quot;</td><td>&quot;0.063(14)&quot;</td><td>14</td><td>&quot;Si&quot;</td><td>27</td><td>&quot;5/2&quot;</td><td>&quot;+&quot;</td><td>null</td><td>&quot;0&quot;</td><td>&quot;063&quot;</td><td>&quot;14&quot;</td><td>3</td><td>0.063</td><td>0.014</td></tr><tr><td>&hellip;</td><td>&hellip;</td><td>&hellip;</td><td>&hellip;</td><td>&hellip;</td><td>&hellip;</td><td>&hellip;</td><td>&hellip;</td><td>&hellip;</td><td>&hellip;</td><td>&hellip;</td><td>&hellip;</td><td>&hellip;</td><td>&hellip;</td><td>&hellip;</td><td>&hellip;</td></tr><tr><td>&quot;85 At 218&quot;</td><td>&quot;0&quot;</td><td>&quot;(2,3)&quot;</td><td>&quot;+0.6(4)&quot;</td><td>85</td><td>&quot;At&quot;</td><td>218</td><td>&quot;2&quot;</td><td>&quot;&quot;</td><td>&quot;+&quot;</td><td>&quot;0&quot;</td><td>&quot;6&quot;</td><td>&quot;4&quot;</td><td>1</td><td>0.6</td><td>0.4</td></tr><tr><td>&quot;85 At 219&quot;</td><td>&quot;0&quot;</td><td>&quot;(9/2-)&quot;</td><td>&quot;-1.17(6)&quot;</td><td>85</td><td>&quot;At&quot;</td><td>219</td><td>&quot;9/2&quot;</td><td>&quot;-&quot;</td><td>&quot;-&quot;</td><td>&quot;1&quot;</td><td>&quot;17&quot;</td><td>&quot;6&quot;</td><td>2</td><td>-1.17</td><td>0.06</td></tr><tr><td>&quot;86 Rn 205&quot;</td><td>&quot;0&quot;</td><td>&quot;5/2-&quot;</td><td>&quot;+0.062(6)&quot;</td><td>86</td><td>&quot;Rn&quot;</td><td>205</td><td>&quot;5/2&quot;</td><td>&quot;-&quot;</td><td>&quot;+&quot;</td><td>&quot;0&quot;</td><td>&quot;062&quot;</td><td>&quot;6&quot;</td><td>3</td><td>0.062</td><td>0.006</td></tr><tr><td>&quot;86 Rn 207&quot;</td><td>&quot;0&quot;</td><td>&quot;5/2-&quot;</td><td>&quot;+0.22(2)&quot;</td><td>86</td><td>&quot;Rn&quot;</td><td>207</td><td>&quot;5/2&quot;</td><td>&quot;-&quot;</td><td>&quot;+&quot;</td><td>&quot;0&quot;</td><td>&quot;22&quot;</td><td>&quot;2&quot;</td><td>2</td><td>0.22</td><td>0.02</td></tr><tr><td>&quot;86 Rn 209&quot;</td><td>&quot;0&quot;</td><td>&quot;5/2-&quot;</td><td>&quot;+0.31(3)&quot;</td><td>86</td><td>&quot;Rn&quot;</td><td>209</td><td>&quot;5/2&quot;</td><td>&quot;-&quot;</td><td>&quot;+&quot;</td><td>&quot;0&quot;</td><td>&quot;31&quot;</td><td>&quot;3&quot;</td><td>2</td><td>0.31</td><td>0.03</td></tr><tr><td>&quot;86 Rn 219&quot;</td><td>&quot;0&quot;</td><td>&quot;5/2+&quot;</td><td>&quot;+1.15(12)&quot;</td><td>86</td><td>&quot;Rn&quot;</td><td>219</td><td>&quot;5/2&quot;</td><td>&quot;+&quot;</td><td>&quot;+&quot;</td><td>&quot;1&quot;</td><td>&quot;15&quot;</td><td>&quot;12&quot;</td><td>2</td><td>1.15</td><td>0.12</td></tr><tr><td>&quot;86 Rn 221&quot;</td><td>&quot;0&quot;</td><td>&quot;7/2+&quot;</td><td>&quot;-0.47(5)&quot;</td><td>86</td><td>&quot;Rn&quot;</td><td>221</td><td>&quot;7/2&quot;</td><td>&quot;+&quot;</td><td>&quot;-&quot;</td><td>&quot;0&quot;</td><td>&quot;47&quot;</td><td>&quot;5&quot;</td><td>2</td><td>-0.47</td><td>0.05</td></tr><tr><td>&quot;86 Rn 223&quot;</td><td>&quot;0&quot;</td><td>&quot;7/2&quot;</td><td>&quot;+0.80(8)&quot;</td><td>86</td><td>&quot;Rn&quot;</td><td>223</td><td>&quot;7/2&quot;</td><td>&quot;&quot;</td><td>&quot;+&quot;</td><td>&quot;0&quot;</td><td>&quot;80&quot;</td><td>&quot;8&quot;</td><td>2</td><td>0.8</td><td>0.08</td></tr><tr><td>&quot;86 Rn 225&quot;</td><td>&quot;0&quot;</td><td>&quot;7/2-&quot;</td><td>&quot;+0.84(8)&quot;</td><td>86</td><td>&quot;Rn&quot;</td><td>225</td><td>&quot;7/2&quot;</td><td>&quot;-&quot;</td><td>&quot;+&quot;</td><td>&quot;0&quot;</td><td>&quot;84&quot;</td><td>&quot;8&quot;</td><td>2</td><td>0.84</td><td>0.08</td></tr><tr><td>&quot;87 Fr 203&quot;</td><td>&quot;0&quot;</td><td>&quot;(9/2-)&quot;</td><td>&quot;-0.47(2)&quot;</td><td>87</td><td>&quot;Fr&quot;</td><td>203</td><td>&quot;9/2&quot;</td><td>&quot;-&quot;</td><td>&quot;-&quot;</td><td>&quot;0&quot;</td><td>&quot;47&quot;</td><td>&quot;2&quot;</td><td>2</td><td>-0.47</td><td>0.02</td></tr><tr><td>&quot;87 Fr 204&quot;</td><td>&quot;0&quot;</td><td>&quot;(3+)&quot;</td><td>&quot;-0.141(9)&quot;</td><td>87</td><td>&quot;Fr&quot;</td><td>204</td><td>&quot;3&quot;</td><td>&quot;+&quot;</td><td>&quot;-&quot;</td><td>&quot;0&quot;</td><td>&quot;141&quot;</td><td>&quot;9&quot;</td><td>3</td><td>-0.141</td><td>0.009</td></tr><tr><td>&quot;87 Fr 205&quot;</td><td>&quot;0&quot;</td><td>&quot;(9/2-)&quot;</td><td>&quot;-0.305(18)&quot;</td><td>87</td><td>&quot;Fr&quot;</td><td>205</td><td>&quot;9/2&quot;</td><td>&quot;-&quot;</td><td>&quot;-&quot;</td><td>&quot;0&quot;</td><td>&quot;305&quot;</td><td>&quot;18&quot;</td><td>3</td><td>-0.305</td><td>0.018</td></tr><tr><td>&quot;87 Fr 206&quot;</td><td>&quot;0&quot;</td><td>&quot;3+&quot;</td><td>&quot;-0.354(9)&quot;</td><td>87</td><td>&quot;Fr&quot;</td><td>206</td><td>&quot;3&quot;</td><td>&quot;+&quot;</td><td>&quot;-&quot;</td><td>&quot;0&quot;</td><td>&quot;354&quot;</td><td>&quot;9&quot;</td><td>3</td><td>-0.354</td><td>0.009</td></tr><tr><td>&quot;87 Fr 207&quot;</td><td>&quot;0&quot;</td><td>&quot;9/2-&quot;</td><td>&quot;-0.24(2)&quot;</td><td>87</td><td>&quot;Fr&quot;</td><td>207</td><td>&quot;9/2&quot;</td><td>&quot;-&quot;</td><td>&quot;-&quot;</td><td>&quot;0&quot;</td><td>&quot;24&quot;</td><td>&quot;2&quot;</td><td>2</td><td>-0.24</td><td>0.02</td></tr><tr><td>&quot;87 Fr 208&quot;</td><td>&quot;0&quot;</td><td>&quot;7+&quot;</td><td>&quot;+0.052(11)&quot;</td><td>87</td><td>&quot;Fr&quot;</td><td>208</td><td>&quot;7&quot;</td><td>&quot;+&quot;</td><td>&quot;+&quot;</td><td>&quot;0&quot;</td><td>&quot;052&quot;</td><td>&quot;11&quot;</td><td>3</td><td>0.052</td><td>0.011</td></tr><tr><td>&quot;87 Fr 209&quot;</td><td>&quot;0&quot;</td><td>&quot;9/2-&quot;</td><td>&quot;-0.26(2)&quot;</td><td>87</td><td>&quot;Fr&quot;</td><td>209</td><td>&quot;9/2&quot;</td><td>&quot;-&quot;</td><td>&quot;-&quot;</td><td>&quot;0&quot;</td><td>&quot;26&quot;</td><td>&quot;2&quot;</td><td>2</td><td>-0.26</td><td>0.02</td></tr><tr><td>&quot;87 Fr 210&quot;</td><td>&quot;0&quot;</td><td>&quot;6+&quot;</td><td>&quot;+0.21(2)&quot;</td><td>87</td><td>&quot;Fr&quot;</td><td>210</td><td>&quot;6&quot;</td><td>&quot;+&quot;</td><td>&quot;+&quot;</td><td>&quot;0&quot;</td><td>&quot;21&quot;</td><td>&quot;2&quot;</td><td>2</td><td>0.21</td><td>0.02</td></tr><tr><td>&quot;87 Fr 211&quot;</td><td>&quot;0&quot;</td><td>&quot;9/2-&quot;</td><td>&quot;-0.21(2)&quot;</td><td>87</td><td>&quot;Fr&quot;</td><td>211</td><td>&quot;9/2&quot;</td><td>&quot;-&quot;</td><td>&quot;-&quot;</td><td>&quot;0&quot;</td><td>&quot;21&quot;</td><td>&quot;2&quot;</td><td>2</td><td>-0.21</td><td>0.02</td></tr><tr><td>&quot;87 Fr 212&quot;</td><td>&quot;0&quot;</td><td>&quot;5+&quot;</td><td>&quot;-0.100(2)&quot;</td><td>87</td><td>&quot;Fr&quot;</td><td>212</td><td>&quot;5&quot;</td><td>&quot;+&quot;</td><td>&quot;-&quot;</td><td>&quot;0&quot;</td><td>&quot;100&quot;</td><td>&quot;2&quot;</td><td>3</td><td>-0.1</td><td>0.002</td></tr><tr><td>&quot;87 Fr 213&quot;</td><td>&quot;0&quot;</td><td>&quot;9/2-&quot;</td><td>&quot;-0.138(3)&quot;</td><td>87</td><td>&quot;Fr&quot;</td><td>213</td><td>&quot;9/2&quot;</td><td>&quot;-&quot;</td><td>&quot;-&quot;</td><td>&quot;0&quot;</td><td>&quot;138&quot;</td><td>&quot;3&quot;</td><td>3</td><td>-0.138</td><td>0.003</td></tr><tr><td>&quot;87 Fr 219&quot;</td><td>&quot;0&quot;</td><td>&quot;5/2-&quot;</td><td>&quot;-1.19(2)&quot;</td><td>87</td><td>&quot;Fr&quot;</td><td>219</td><td>&quot;5/2&quot;</td><td>&quot;-&quot;</td><td>&quot;-&quot;</td><td>&quot;1&quot;</td><td>&quot;19&quot;</td><td>&quot;2&quot;</td><td>2</td><td>-1.19</td><td>0.02</td></tr><tr><td>&quot;87 Fr 220&quot;</td><td>&quot;0&quot;</td><td>&quot;1+&quot;</td><td>&quot;+0.487(8)&quot;</td><td>87</td><td>&quot;Fr&quot;</td><td>220</td><td>&quot;1&quot;</td><td>&quot;+&quot;</td><td>&quot;+&quot;</td><td>&quot;0&quot;</td><td>&quot;487&quot;</td><td>&quot;8&quot;</td><td>3</td><td>0.487</td><td>0.008</td></tr><tr><td>&quot;87 Fr 221&quot;</td><td>&quot;0&quot;</td><td>&quot;5/2-&quot;</td><td>&quot;-1.02(3)&quot;</td><td>87</td><td>&quot;Fr&quot;</td><td>221</td><td>&quot;5/2&quot;</td><td>&quot;-&quot;</td><td>&quot;-&quot;</td><td>&quot;1&quot;</td><td>&quot;02&quot;</td><td>&quot;3&quot;</td><td>2</td><td>-1.02</td><td>0.03</td></tr><tr><td>&quot;87 Fr 222&quot;</td><td>&quot;0&quot;</td><td>&quot;2-&quot;</td><td>&quot;+0.51(4)&quot;</td><td>87</td><td>&quot;Fr&quot;</td><td>222</td><td>&quot;2&quot;</td><td>&quot;-&quot;</td><td>&quot;+&quot;</td><td>&quot;0&quot;</td><td>&quot;51&quot;</td><td>&quot;4&quot;</td><td>2</td><td>0.51</td><td>0.04</td></tr><tr><td>&quot;87 Fr 223&quot;</td><td>&quot;0&quot;</td><td>&quot;3/2(-)&quot;</td><td>&quot;+1.18(2)&quot;</td><td>87</td><td>&quot;Fr&quot;</td><td>223</td><td>&quot;3/2&quot;</td><td>&quot;&quot;</td><td>&quot;+&quot;</td><td>&quot;1&quot;</td><td>&quot;18&quot;</td><td>&quot;2&quot;</td><td>2</td><td>1.18</td><td>0.02</td></tr><tr><td>&quot;87 Fr 224&quot;</td><td>&quot;0&quot;</td><td>&quot;1(-)&quot;</td><td>&quot;+0.523(9)&quot;</td><td>87</td><td>&quot;Fr&quot;</td><td>224</td><td>&quot;1&quot;</td><td>&quot;&quot;</td><td>&quot;+&quot;</td><td>&quot;0&quot;</td><td>&quot;523&quot;</td><td>&quot;9&quot;</td><td>3</td><td>0.523</td><td>0.009</td></tr><tr><td>&quot;87 Fr 225&quot;</td><td>&quot;0&quot;</td><td>&quot;3/2-&quot;</td><td>&quot;+1.33(2)&quot;</td><td>87</td><td>&quot;Fr&quot;</td><td>225</td><td>&quot;3/2&quot;</td><td>&quot;-&quot;</td><td>&quot;+&quot;</td><td>&quot;1&quot;</td><td>&quot;33&quot;</td><td>&quot;2&quot;</td><td>2</td><td>1.33</td><td>0.02</td></tr><tr><td>&quot;87 Fr 226&quot;</td><td>&quot;0&quot;</td><td>&quot;1&quot;</td><td>&quot;-1.37(3)&quot;</td><td>87</td><td>&quot;Fr&quot;</td><td>226</td><td>&quot;1&quot;</td><td>&quot;&quot;</td><td>&quot;-&quot;</td><td>&quot;1&quot;</td><td>&quot;37&quot;</td><td>&quot;3&quot;</td><td>2</td><td>-1.37</td><td>0.03</td></tr><tr><td>&quot;87 Fr 228&quot;</td><td>&quot;0&quot;</td><td>&quot;2-&quot;</td><td>&quot;+2.41(6)&quot;</td><td>87</td><td>&quot;Fr&quot;</td><td>228</td><td>&quot;2&quot;</td><td>&quot;-&quot;</td><td>&quot;+&quot;</td><td>&quot;2&quot;</td><td>&quot;41&quot;</td><td>&quot;6&quot;</td><td>2</td><td>2.41</td><td>0.06</td></tr><tr><td>&quot;88 Ra 209&quot;</td><td>&quot;0&quot;</td><td>&quot;5/2-&quot;</td><td>&quot;+0.39(4)&quot;</td><td>88</td><td>&quot;Ra&quot;</td><td>209</td><td>&quot;5/2&quot;</td><td>&quot;-&quot;</td><td>&quot;+&quot;</td><td>&quot;0&quot;</td><td>&quot;39&quot;</td><td>&quot;4&quot;</td><td>2</td><td>0.39</td><td>0.04</td></tr><tr><td>&quot;88 Ra 211&quot;</td><td>&quot;0&quot;</td><td>&quot;5/2-&quot;</td><td>&quot;+0.46(4)&quot;</td><td>88</td><td>&quot;Ra&quot;</td><td>211</td><td>&quot;5/2&quot;</td><td>&quot;-&quot;</td><td>&quot;+&quot;</td><td>&quot;0&quot;</td><td>&quot;46&quot;</td><td>&quot;4&quot;</td><td>2</td><td>0.46</td><td>0.04</td></tr><tr><td>&quot;88 Ra 221&quot;</td><td>&quot;0&quot;</td><td>&quot;5/2-&quot;</td><td>&quot;+1.92(6)&quot;</td><td>88</td><td>&quot;Ra&quot;</td><td>221</td><td>&quot;5/2&quot;</td><td>&quot;-&quot;</td><td>&quot;+&quot;</td><td>&quot;1&quot;</td><td>&quot;92&quot;</td><td>&quot;6&quot;</td><td>2</td><td>1.92</td><td>0.06</td></tr><tr><td>&quot;88 Ra 223&quot;</td><td>&quot;0&quot;</td><td>&quot;3/2+&quot;</td><td>&quot;+1.22(3)&quot;</td><td>88</td><td>&quot;Ra&quot;</td><td>223</td><td>&quot;3/2&quot;</td><td>&quot;+&quot;</td><td>&quot;+&quot;</td><td>&quot;1&quot;</td><td>&quot;22&quot;</td><td>&quot;3&quot;</td><td>2</td><td>1.22</td><td>0.03</td></tr><tr><td>&quot;88 Ra 227&quot;</td><td>&quot;0&quot;</td><td>&quot;3/2+&quot;</td><td>&quot;+1.53(6)&quot;</td><td>88</td><td>&quot;Ra&quot;</td><td>227</td><td>&quot;3/2&quot;</td><td>&quot;+&quot;</td><td>&quot;+&quot;</td><td>&quot;1&quot;</td><td>&quot;53&quot;</td><td>&quot;6&quot;</td><td>2</td><td>1.53</td><td>0.06</td></tr><tr><td>&quot;88 Ra 229&quot;</td><td>&quot;0&quot;</td><td>&quot;5/2(+)&quot;</td><td>&quot;+2.99(12)&quot;</td><td>88</td><td>&quot;Ra&quot;</td><td>229</td><td>&quot;5/2&quot;</td><td>&quot;&quot;</td><td>&quot;+&quot;</td><td>&quot;2&quot;</td><td>&quot;99&quot;</td><td>&quot;12&quot;</td><td>2</td><td>2.99</td><td>0.12</td></tr><tr><td>&quot;89 Ac 214&quot;</td><td>&quot;0&quot;</td><td>&quot;5+&quot;</td><td>&quot;+0.14(8)&quot;</td><td>89</td><td>&quot;Ac&quot;</td><td>214</td><td>&quot;5&quot;</td><td>&quot;+&quot;</td><td>&quot;+&quot;</td><td>&quot;0&quot;</td><td>&quot;14&quot;</td><td>&quot;8&quot;</td><td>2</td><td>0.14</td><td>0.08</td></tr><tr><td>&quot;89 Ac 215&quot;</td><td>&quot;0&quot;</td><td>&quot;9/2-&quot;</td><td>&quot;+0.04(10)&quot;</td><td>89</td><td>&quot;Ac&quot;</td><td>215</td><td>&quot;9/2&quot;</td><td>&quot;-&quot;</td><td>&quot;+&quot;</td><td>&quot;0&quot;</td><td>&quot;04&quot;</td><td>&quot;10&quot;</td><td>2</td><td>0.04</td><td>0.1</td></tr><tr><td>&quot;89 Ac 227&quot;</td><td>&quot;0&quot;</td><td>&quot;3/2-&quot;</td><td>&quot;+1.74(10)&quot;</td><td>89</td><td>&quot;Ac&quot;</td><td>227</td><td>&quot;3/2&quot;</td><td>&quot;-&quot;</td><td>&quot;+&quot;</td><td>&quot;1&quot;</td><td>&quot;74&quot;</td><td>&quot;10&quot;</td><td>2</td><td>1.74</td><td>0.1</td></tr><tr><td>&quot;90 Th 229&quot;</td><td>&quot;0&quot;</td><td>&quot;5/2+&quot;</td><td>&quot;+3.11(6)&quot;</td><td>90</td><td>&quot;Th&quot;</td><td>229</td><td>&quot;5/2&quot;</td><td>&quot;+&quot;</td><td>&quot;+&quot;</td><td>&quot;3&quot;</td><td>&quot;11&quot;</td><td>&quot;6&quot;</td><td>2</td><td>3.11</td><td>0.06</td></tr><tr><td>&quot;91 Pa 231&quot;</td><td>&quot;0&quot;</td><td>&quot;3/2-&quot;</td><td>&quot;[-1.72(5)]&quot;</td><td>91</td><td>&quot;Pa&quot;</td><td>231</td><td>&quot;3/2&quot;</td><td>&quot;-&quot;</td><td>&quot;-&quot;</td><td>&quot;1&quot;</td><td>&quot;72&quot;</td><td>&quot;5&quot;</td><td>2</td><td>-1.72</td><td>0.05</td></tr><tr><td>&quot;91 Pa 233&quot;</td><td>&quot;0&quot;</td><td>&quot;3/2-&quot;</td><td>&quot;-3.0(4)&quot;</td><td>91</td><td>&quot;Pa&quot;</td><td>233</td><td>&quot;3/2&quot;</td><td>&quot;-&quot;</td><td>&quot;-&quot;</td><td>&quot;3&quot;</td><td>&quot;0&quot;</td><td>&quot;4&quot;</td><td>1</td><td>-3.0</td><td>0.4</td></tr><tr><td>&quot;92 U 233&quot;</td><td>&quot;0&quot;</td><td>&quot;5/2+&quot;</td><td>&quot;+3.663(8)&quot;</td><td>92</td><td>&quot;U&quot;</td><td>233</td><td>&quot;5/2&quot;</td><td>&quot;+&quot;</td><td>&quot;+&quot;</td><td>&quot;3&quot;</td><td>&quot;663&quot;</td><td>&quot;8&quot;</td><td>3</td><td>3.663</td><td>0.008</td></tr><tr><td>&quot;92 U 235&quot;</td><td>&quot;0&quot;</td><td>&quot;7/2-&quot;</td><td>&quot;+4.936(6)&quot;</td><td>92</td><td>&quot;U&quot;</td><td>235</td><td>&quot;7/2&quot;</td><td>&quot;-&quot;</td><td>&quot;+&quot;</td><td>&quot;4&quot;</td><td>&quot;936&quot;</td><td>&quot;6&quot;</td><td>3</td><td>4.936</td><td>0.006</td></tr><tr><td>&quot;93 Np 237&quot;</td><td>&quot;0&quot;</td><td>&quot;5/2+&quot;</td><td>&quot;+3.886(6)&quot;</td><td>93</td><td>&quot;Np&quot;</td><td>237</td><td>&quot;5/2&quot;</td><td>&quot;+&quot;</td><td>&quot;+&quot;</td><td>&quot;3&quot;</td><td>&quot;886&quot;</td><td>&quot;6&quot;</td><td>3</td><td>3.886</td><td>0.006</td></tr><tr><td>&quot;94 Pu 241&quot;</td><td>&quot;0&quot;</td><td>&quot;5/2+&quot;</td><td>&quot;+6(2)&quot;</td><td>94</td><td>&quot;Pu&quot;</td><td>241</td><td>&quot;5/2&quot;</td><td>&quot;+&quot;</td><td>&quot;+&quot;</td><td>&quot;6&quot;</td><td>null</td><td>&quot;2&quot;</td><td>null</td><td>6.0</td><td>null</td></tr><tr><td>&quot;95 Am 241&quot;</td><td>&quot;0&quot;</td><td>&quot;5/2-&quot;</td><td>&quot;+4.34(5)&quot;</td><td>95</td><td>&quot;Am&quot;</td><td>241</td><td>&quot;5/2&quot;</td><td>&quot;-&quot;</td><td>&quot;+&quot;</td><td>&quot;4&quot;</td><td>&quot;34&quot;</td><td>&quot;5&quot;</td><td>2</td><td>4.34</td><td>0.05</td></tr><tr><td>&quot;95 Am 242&quot;</td><td>&quot;0&quot;</td><td>&quot;1-&quot;</td><td>&quot;-2.44((3)&quot;</td><td>95</td><td>&quot;Am&quot;</td><td>242</td><td>&quot;1&quot;</td><td>&quot;-&quot;</td><td>&quot;-&quot;</td><td>&quot;2&quot;</td><td>&quot;4&quot;</td><td>&quot;4&quot;</td><td>1</td><td>-2.4</td><td>0.4</td></tr><tr><td>&quot;95 Am 243&quot;</td><td>&quot;0&quot;</td><td>&quot;5/2-&quot;</td><td>&quot;+4.32(6)&quot;</td><td>95</td><td>&quot;Am&quot;</td><td>243</td><td>&quot;5/2&quot;</td><td>&quot;-&quot;</td><td>&quot;+&quot;</td><td>&quot;4&quot;</td><td>&quot;32&quot;</td><td>&quot;6&quot;</td><td>2</td><td>4.32</td><td>0.06</td></tr><tr><td>&quot;99 Es 253&quot;</td><td>&quot;0&quot;</td><td>&quot;7/2+&quot;</td><td>&quot;+6.7(8)&quot;</td><td>99</td><td>&quot;Es&quot;</td><td>253</td><td>&quot;7/2&quot;</td><td>&quot;+&quot;</td><td>&quot;+&quot;</td><td>&quot;6&quot;</td><td>&quot;7&quot;</td><td>&quot;8&quot;</td><td>1</td><td>6.7</td><td>0.8</td></tr><tr><td>&quot;102 No 253&quot;</td><td>&quot;0&quot;</td><td>&quot;(9/2-)&quot;</td><td>&quot;+5.9(17)&quot;</td><td>102</td><td>&quot;No&quot;</td><td>253</td><td>&quot;9/2&quot;</td><td>&quot;-&quot;</td><td>&quot;+&quot;</td><td>&quot;5&quot;</td><td>&quot;9&quot;</td><td>&quot;17&quot;</td><td>1</td><td>5.9</td><td>1.7</td></tr></tbody></table></div>"
      ],
      "text/plain": [
       "shape: (597, 16)\n",
       "┌────────────┬──────────┬────────┬────────────┬───┬───────────┬────────────┬───────────┬───────────┐\n",
       "│ Isotope    ┆ E(level) ┆ s/p    ┆ Q(b)       ┆ … ┆ value_unc ┆ value_prec ┆ quadrupol ┆ quadrupol │\n",
       "│ ---        ┆ ---      ┆ ---    ┆ ---        ┆   ┆ ---       ┆ ision      ┆ e_moment  ┆ e_moment_ │\n",
       "│ str        ┆ str      ┆ str    ┆ str        ┆   ┆ str       ┆ ---        ┆ ---       ┆ uncertain │\n",
       "│            ┆          ┆        ┆            ┆   ┆           ┆ i32        ┆ f32       ┆ ty        │\n",
       "│            ┆          ┆        ┆            ┆   ┆           ┆            ┆           ┆ ---       │\n",
       "│            ┆          ┆        ┆            ┆   ┆           ┆            ┆           ┆ f32       │\n",
       "╞════════════╪══════════╪════════╪════════════╪═══╪═══════════╪════════════╪═══════════╪═══════════╡\n",
       "│ 1 H 2      ┆ 0        ┆ 1+     ┆ +0.0028578 ┆ … ┆ 3         ┆ 7          ┆ 0.002858  ┆ 3.0000e-7 │\n",
       "│            ┆          ┆        ┆ (3)        ┆   ┆           ┆            ┆           ┆           │\n",
       "│ 3 Li 6     ┆ 0        ┆ 1+     ┆ -0.000806( ┆ … ┆ 6         ┆ 6          ┆ -0.000806 ┆ 0.000006  │\n",
       "│            ┆          ┆        ┆ 6)         ┆   ┆           ┆            ┆           ┆           │\n",
       "│ 3 Li 7     ┆ 0        ┆ 3/2-   ┆ -0.0400(3) ┆ … ┆ 3         ┆ 4          ┆ -0.04     ┆ 0.0003    │\n",
       "│ 3 Li 8     ┆ 0        ┆ 2+     ┆ +0.0314(2) ┆ … ┆ 2         ┆ 4          ┆ 0.0314    ┆ 0.0002    │\n",
       "│ 3 Li 9     ┆ 0        ┆ 3/2-   ┆ -0.0304(2) ┆ … ┆ 2         ┆ 4          ┆ -0.0304   ┆ 0.0002    │\n",
       "│ 3 Li 11    ┆ 0        ┆ 3/2-   ┆ (-)0.0333( ┆ … ┆ 5         ┆ 4          ┆ 0.0333    ┆ 0.0005    │\n",
       "│            ┆          ┆        ┆ 5)         ┆   ┆           ┆            ┆           ┆           │\n",
       "│ 4 Be 9     ┆ 0        ┆ 3/2-   ┆ +0.0529(4) ┆ … ┆ 4         ┆ 4          ┆ 0.0529    ┆ 0.0004    │\n",
       "│ 5 B 8      ┆ 0        ┆ 2+     ┆ +0.0643(14 ┆ … ┆ 14        ┆ 4          ┆ 0.0643    ┆ 0.0014    │\n",
       "│            ┆          ┆        ┆ )          ┆   ┆           ┆            ┆           ┆           │\n",
       "│ 5 B 10     ┆ 0        ┆ 3+     ┆ +0.0846(2) ┆ … ┆ 2         ┆ 4          ┆ 0.0846    ┆ 0.0002    │\n",
       "│ 5 B 11     ┆ 0        ┆ 3/2-   ┆ +0.04059(1 ┆ … ┆ 10        ┆ 5          ┆ 0.04059   ┆ 0.0001    │\n",
       "│            ┆          ┆        ┆ 0)         ┆   ┆           ┆            ┆           ┆           │\n",
       "│ 5 B 12     ┆ 0        ┆ 1+     ┆ 0.0132(3)  ┆ … ┆ 3         ┆ 4          ┆ 0.0132    ┆ 0.0003    │\n",
       "│ 5 B 13     ┆ 0        ┆ 3/2-   ┆ (+)0.0365( ┆ … ┆ 8         ┆ 4          ┆ 0.0365    ┆ 0.0008    │\n",
       "│            ┆          ┆        ┆ 8)         ┆   ┆           ┆            ┆           ┆           │\n",
       "│ 5 B 14     ┆ 0        ┆ 2-     ┆ 0.0297(8)  ┆ … ┆ 8         ┆ 4          ┆ 0.0297    ┆ 0.0008    │\n",
       "│ 5 B 15     ┆ 0        ┆ 3/2-   ┆ 0.0379(11) ┆ … ┆ 11        ┆ 4          ┆ 0.0379    ┆ 0.0011    │\n",
       "│ 5 B 17     ┆ 0        ┆ (3/2-) ┆ 0.0385(15) ┆ … ┆ 15        ┆ 4          ┆ 0.0385    ┆ 0.0015    │\n",
       "│ 6 C 11     ┆ 0        ┆ 3/2-   ┆ 0.0333(2)  ┆ … ┆ 2         ┆ 4          ┆ 0.0333    ┆ 0.0002    │\n",
       "│ 7 N 12     ┆ 0        ┆ 1+     ┆ +0.0100(9) ┆ … ┆ 9         ┆ 4          ┆ 0.01      ┆ 0.0009    │\n",
       "│ 7 N 14     ┆ 0        ┆ 1+     ┆ +0.02044(3 ┆ … ┆ 3         ┆ 5          ┆ 0.02044   ┆ 0.00003   │\n",
       "│            ┆          ┆        ┆ )          ┆   ┆           ┆            ┆           ┆           │\n",
       "│ 7 N 16     ┆ 0        ┆ 2-     ┆ (-)0.018(2 ┆ … ┆ 2         ┆ 3          ┆ 0.018     ┆ 0.002     │\n",
       "│            ┆          ┆        ┆ )          ┆   ┆           ┆            ┆           ┆           │\n",
       "│ 7 N 18     ┆ 0        ┆ 1-     ┆ (+)0.0123( ┆ … ┆ 12        ┆ 4          ┆ 0.0123    ┆ 0.0012    │\n",
       "│            ┆          ┆        ┆ 12)        ┆   ┆           ┆            ┆           ┆           │\n",
       "│ 8 O 13     ┆ 0        ┆ 3/2-   ┆ 0.0111(8)  ┆ … ┆ 8         ┆ 4          ┆ 0.0111    ┆ 0.0008    │\n",
       "│ 8 O 17     ┆ 0        ┆ 5/2+   ┆ -0.0256(2) ┆ … ┆ 2         ┆ 4          ┆ -0.0256   ┆ 0.0002    │\n",
       "│ 8 O 19     ┆ 0        ┆ 5/2+   ┆ 0.00362(13 ┆ … ┆ 13        ┆ 5          ┆ 0.00362   ┆ 0.00013   │\n",
       "│            ┆          ┆        ┆ )          ┆   ┆           ┆            ┆           ┆           │\n",
       "│ 9 F 17     ┆ 0        ┆ 5/2+   ┆ 0.076(4)   ┆ … ┆ 4         ┆ 3          ┆ 0.076     ┆ 0.004     │\n",
       "│ 9 F 20     ┆ 0        ┆ 2+     ┆ 0.056(4)   ┆ … ┆ 4         ┆ 3          ┆ 0.056     ┆ 0.004     │\n",
       "│ 9 F 21     ┆ 0        ┆ 5/2+   ┆ 0.011(2)   ┆ … ┆ 2         ┆ 3          ┆ 0.011     ┆ 0.002     │\n",
       "│ 9 F 22     ┆ 0        ┆ 4+     ┆ 0.003(2)   ┆ … ┆ 2         ┆ 3          ┆ 0.003     ┆ 0.002     │\n",
       "│ 10 Ne 21   ┆ 0        ┆ 3/2+   ┆ +0.1016(8) ┆ … ┆ 8         ┆ 4          ┆ 0.1016    ┆ 0.0008    │\n",
       "│ 10 Ne 23   ┆ 0        ┆ 5/2+   ┆ 0.145(13)  ┆ … ┆ 13        ┆ 3          ┆ 0.145     ┆ 0.013     │\n",
       "│ 11 Na 20   ┆ 0        ┆ 2+     ┆ +0.101(8)  ┆ … ┆ 8         ┆ 3          ┆ 0.101     ┆ 0.008     │\n",
       "│ 11 Na 21   ┆ 0        ┆ 3/2+   ┆ 0.138(11)  ┆ … ┆ 11        ┆ 3          ┆ 0.138     ┆ 0.011     │\n",
       "│ 11 Na 22   ┆ 0        ┆ 3+     ┆ +0.180(11) ┆ … ┆ 11        ┆ 3          ┆ 0.18      ┆ 0.011     │\n",
       "│ 11 Na 23   ┆ 0        ┆ 3/2+   ┆ +0.104(1)  ┆ … ┆ 1         ┆ 3          ┆ 0.104     ┆ 0.001     │\n",
       "│ 11 Na 25   ┆ 0        ┆ 5/2+   ┆ 0.0015(3)  ┆ … ┆ 3         ┆ 4          ┆ 0.0015    ┆ 0.0003    │\n",
       "│ 11 Na 26   ┆ 0        ┆ 3+     ┆ -0.0053(2) ┆ … ┆ 2         ┆ 4          ┆ -0.0053   ┆ 0.0002    │\n",
       "│ 11 Na 27   ┆ 0        ┆ 5/2+   ┆ -0.0071(3) ┆ … ┆ 3         ┆ 4          ┆ -0.0071   ┆ 0.0003    │\n",
       "│ 11 Na 28   ┆ 0        ┆ 1+     ┆ +0.389(11) ┆ … ┆ 11        ┆ 3          ┆ 0.389     ┆ 0.011     │\n",
       "│ 11 Na 29   ┆ 0        ┆ 3/2+   ┆ +0.085(3)  ┆ … ┆ 3         ┆ 3          ┆ 0.085     ┆ 0.003     │\n",
       "│ 12 Mg 23   ┆ 0        ┆ 3/2+   ┆ 0.114(3)   ┆ … ┆ 3         ┆ 3          ┆ 0.114     ┆ 0.003     │\n",
       "│ 12 Mg 25   ┆ 0        ┆ 5/2+   ┆ +0.199(2)  ┆ … ┆ 2         ┆ 3          ┆ 0.199     ┆ 0.002     │\n",
       "│ 12 Mg 29   ┆ 0        ┆ 3/2+   ┆ -0.16(4)   ┆ … ┆ 4         ┆ 2          ┆ -0.16     ┆ 0.04      │\n",
       "│ 12 Mg 33   ┆ 0        ┆ 3/2-   ┆ +0.13(9)   ┆ … ┆ 9         ┆ 2          ┆ 0.13      ┆ 0.09      │\n",
       "│ 13 Al 25   ┆ 0        ┆ 5/2+   ┆ 0.24(2)    ┆ … ┆ 2         ┆ 2          ┆ 0.24      ┆ 0.02      │\n",
       "│ 13 Al 26   ┆ 0        ┆ 5+     ┆ +0.26(3)   ┆ … ┆ 3         ┆ 2          ┆ 0.26      ┆ 0.03      │\n",
       "│ 13 Al 27   ┆ 0        ┆ 5/2+   ┆ +0.1466(10 ┆ … ┆ 10        ┆ 4          ┆ 0.1466    ┆ 0.001     │\n",
       "│            ┆          ┆        ┆ )          ┆   ┆           ┆            ┆           ┆           │\n",
       "│ 13 Al 28   ┆ 0        ┆ 3+     ┆ 0.172(12)  ┆ … ┆ 12        ┆ 3          ┆ 0.172     ┆ 0.012     │\n",
       "│ 13 Al 31   ┆ 0        ┆ (5/2+) ┆ 0.134(2)   ┆ … ┆ 2         ┆ 3          ┆ 0.134     ┆ 0.002     │\n",
       "│ 13 Al 32   ┆ 0        ┆ 1+     ┆ 0.0255(3)  ┆ … ┆ 3         ┆ 4          ┆ 0.0255    ┆ 0.0003    │\n",
       "│ 13 Al 33   ┆ 0        ┆ (5/2+) ┆ 0.141(3)   ┆ … ┆ 3         ┆ 3          ┆ 0.141     ┆ 0.003     │\n",
       "│ 14 Si 27   ┆ 0        ┆ 5/2+   ┆ 0.063(14)  ┆ … ┆ 14        ┆ 3          ┆ 0.063     ┆ 0.014     │\n",
       "│ …          ┆ …        ┆ …      ┆ …          ┆ … ┆ …         ┆ …          ┆ …         ┆ …         │\n",
       "│ 85 At 218  ┆ 0        ┆ (2,3)  ┆ +0.6(4)    ┆ … ┆ 4         ┆ 1          ┆ 0.6       ┆ 0.4       │\n",
       "│ 85 At 219  ┆ 0        ┆ (9/2-) ┆ -1.17(6)   ┆ … ┆ 6         ┆ 2          ┆ -1.17     ┆ 0.06      │\n",
       "│ 86 Rn 205  ┆ 0        ┆ 5/2-   ┆ +0.062(6)  ┆ … ┆ 6         ┆ 3          ┆ 0.062     ┆ 0.006     │\n",
       "│ 86 Rn 207  ┆ 0        ┆ 5/2-   ┆ +0.22(2)   ┆ … ┆ 2         ┆ 2          ┆ 0.22      ┆ 0.02      │\n",
       "│ 86 Rn 209  ┆ 0        ┆ 5/2-   ┆ +0.31(3)   ┆ … ┆ 3         ┆ 2          ┆ 0.31      ┆ 0.03      │\n",
       "│ 86 Rn 219  ┆ 0        ┆ 5/2+   ┆ +1.15(12)  ┆ … ┆ 12        ┆ 2          ┆ 1.15      ┆ 0.12      │\n",
       "│ 86 Rn 221  ┆ 0        ┆ 7/2+   ┆ -0.47(5)   ┆ … ┆ 5         ┆ 2          ┆ -0.47     ┆ 0.05      │\n",
       "│ 86 Rn 223  ┆ 0        ┆ 7/2    ┆ +0.80(8)   ┆ … ┆ 8         ┆ 2          ┆ 0.8       ┆ 0.08      │\n",
       "│ 86 Rn 225  ┆ 0        ┆ 7/2-   ┆ +0.84(8)   ┆ … ┆ 8         ┆ 2          ┆ 0.84      ┆ 0.08      │\n",
       "│ 87 Fr 203  ┆ 0        ┆ (9/2-) ┆ -0.47(2)   ┆ … ┆ 2         ┆ 2          ┆ -0.47     ┆ 0.02      │\n",
       "│ 87 Fr 204  ┆ 0        ┆ (3+)   ┆ -0.141(9)  ┆ … ┆ 9         ┆ 3          ┆ -0.141    ┆ 0.009     │\n",
       "│ 87 Fr 205  ┆ 0        ┆ (9/2-) ┆ -0.305(18) ┆ … ┆ 18        ┆ 3          ┆ -0.305    ┆ 0.018     │\n",
       "│ 87 Fr 206  ┆ 0        ┆ 3+     ┆ -0.354(9)  ┆ … ┆ 9         ┆ 3          ┆ -0.354    ┆ 0.009     │\n",
       "│ 87 Fr 207  ┆ 0        ┆ 9/2-   ┆ -0.24(2)   ┆ … ┆ 2         ┆ 2          ┆ -0.24     ┆ 0.02      │\n",
       "│ 87 Fr 208  ┆ 0        ┆ 7+     ┆ +0.052(11) ┆ … ┆ 11        ┆ 3          ┆ 0.052     ┆ 0.011     │\n",
       "│ 87 Fr 209  ┆ 0        ┆ 9/2-   ┆ -0.26(2)   ┆ … ┆ 2         ┆ 2          ┆ -0.26     ┆ 0.02      │\n",
       "│ 87 Fr 210  ┆ 0        ┆ 6+     ┆ +0.21(2)   ┆ … ┆ 2         ┆ 2          ┆ 0.21      ┆ 0.02      │\n",
       "│ 87 Fr 211  ┆ 0        ┆ 9/2-   ┆ -0.21(2)   ┆ … ┆ 2         ┆ 2          ┆ -0.21     ┆ 0.02      │\n",
       "│ 87 Fr 212  ┆ 0        ┆ 5+     ┆ -0.100(2)  ┆ … ┆ 2         ┆ 3          ┆ -0.1      ┆ 0.002     │\n",
       "│ 87 Fr 213  ┆ 0        ┆ 9/2-   ┆ -0.138(3)  ┆ … ┆ 3         ┆ 3          ┆ -0.138    ┆ 0.003     │\n",
       "│ 87 Fr 219  ┆ 0        ┆ 5/2-   ┆ -1.19(2)   ┆ … ┆ 2         ┆ 2          ┆ -1.19     ┆ 0.02      │\n",
       "│ 87 Fr 220  ┆ 0        ┆ 1+     ┆ +0.487(8)  ┆ … ┆ 8         ┆ 3          ┆ 0.487     ┆ 0.008     │\n",
       "│ 87 Fr 221  ┆ 0        ┆ 5/2-   ┆ -1.02(3)   ┆ … ┆ 3         ┆ 2          ┆ -1.02     ┆ 0.03      │\n",
       "│ 87 Fr 222  ┆ 0        ┆ 2-     ┆ +0.51(4)   ┆ … ┆ 4         ┆ 2          ┆ 0.51      ┆ 0.04      │\n",
       "│ 87 Fr 223  ┆ 0        ┆ 3/2(-) ┆ +1.18(2)   ┆ … ┆ 2         ┆ 2          ┆ 1.18      ┆ 0.02      │\n",
       "│ 87 Fr 224  ┆ 0        ┆ 1(-)   ┆ +0.523(9)  ┆ … ┆ 9         ┆ 3          ┆ 0.523     ┆ 0.009     │\n",
       "│ 87 Fr 225  ┆ 0        ┆ 3/2-   ┆ +1.33(2)   ┆ … ┆ 2         ┆ 2          ┆ 1.33      ┆ 0.02      │\n",
       "│ 87 Fr 226  ┆ 0        ┆ 1      ┆ -1.37(3)   ┆ … ┆ 3         ┆ 2          ┆ -1.37     ┆ 0.03      │\n",
       "│ 87 Fr 228  ┆ 0        ┆ 2-     ┆ +2.41(6)   ┆ … ┆ 6         ┆ 2          ┆ 2.41      ┆ 0.06      │\n",
       "│ 88 Ra 209  ┆ 0        ┆ 5/2-   ┆ +0.39(4)   ┆ … ┆ 4         ┆ 2          ┆ 0.39      ┆ 0.04      │\n",
       "│ 88 Ra 211  ┆ 0        ┆ 5/2-   ┆ +0.46(4)   ┆ … ┆ 4         ┆ 2          ┆ 0.46      ┆ 0.04      │\n",
       "│ 88 Ra 221  ┆ 0        ┆ 5/2-   ┆ +1.92(6)   ┆ … ┆ 6         ┆ 2          ┆ 1.92      ┆ 0.06      │\n",
       "│ 88 Ra 223  ┆ 0        ┆ 3/2+   ┆ +1.22(3)   ┆ … ┆ 3         ┆ 2          ┆ 1.22      ┆ 0.03      │\n",
       "│ 88 Ra 227  ┆ 0        ┆ 3/2+   ┆ +1.53(6)   ┆ … ┆ 6         ┆ 2          ┆ 1.53      ┆ 0.06      │\n",
       "│ 88 Ra 229  ┆ 0        ┆ 5/2(+) ┆ +2.99(12)  ┆ … ┆ 12        ┆ 2          ┆ 2.99      ┆ 0.12      │\n",
       "│ 89 Ac 214  ┆ 0        ┆ 5+     ┆ +0.14(8)   ┆ … ┆ 8         ┆ 2          ┆ 0.14      ┆ 0.08      │\n",
       "│ 89 Ac 215  ┆ 0        ┆ 9/2-   ┆ +0.04(10)  ┆ … ┆ 10        ┆ 2          ┆ 0.04      ┆ 0.1       │\n",
       "│ 89 Ac 227  ┆ 0        ┆ 3/2-   ┆ +1.74(10)  ┆ … ┆ 10        ┆ 2          ┆ 1.74      ┆ 0.1       │\n",
       "│ 90 Th 229  ┆ 0        ┆ 5/2+   ┆ +3.11(6)   ┆ … ┆ 6         ┆ 2          ┆ 3.11      ┆ 0.06      │\n",
       "│ 91 Pa 231  ┆ 0        ┆ 3/2-   ┆ [-1.72(5)] ┆ … ┆ 5         ┆ 2          ┆ -1.72     ┆ 0.05      │\n",
       "│ 91 Pa 233  ┆ 0        ┆ 3/2-   ┆ -3.0(4)    ┆ … ┆ 4         ┆ 1          ┆ -3.0      ┆ 0.4       │\n",
       "│ 92 U 233   ┆ 0        ┆ 5/2+   ┆ +3.663(8)  ┆ … ┆ 8         ┆ 3          ┆ 3.663     ┆ 0.008     │\n",
       "│ 92 U 235   ┆ 0        ┆ 7/2-   ┆ +4.936(6)  ┆ … ┆ 6         ┆ 3          ┆ 4.936     ┆ 0.006     │\n",
       "│ 93 Np 237  ┆ 0        ┆ 5/2+   ┆ +3.886(6)  ┆ … ┆ 6         ┆ 3          ┆ 3.886     ┆ 0.006     │\n",
       "│ 94 Pu 241  ┆ 0        ┆ 5/2+   ┆ +6(2)      ┆ … ┆ 2         ┆ null       ┆ 6.0       ┆ null      │\n",
       "│ 95 Am 241  ┆ 0        ┆ 5/2-   ┆ +4.34(5)   ┆ … ┆ 5         ┆ 2          ┆ 4.34      ┆ 0.05      │\n",
       "│ 95 Am 242  ┆ 0        ┆ 1-     ┆ -2.44((3)  ┆ … ┆ 4         ┆ 1          ┆ -2.4      ┆ 0.4       │\n",
       "│ 95 Am 243  ┆ 0        ┆ 5/2-   ┆ +4.32(6)   ┆ … ┆ 6         ┆ 2          ┆ 4.32      ┆ 0.06      │\n",
       "│ 99 Es 253  ┆ 0        ┆ 7/2+   ┆ +6.7(8)    ┆ … ┆ 8         ┆ 1          ┆ 6.7       ┆ 0.8       │\n",
       "│ 102 No 253 ┆ 0        ┆ (9/2-) ┆ +5.9(17)   ┆ … ┆ 17        ┆ 1          ┆ 5.9       ┆ 1.7       │\n",
       "└────────────┴──────────┴────────┴────────────┴───┴───────────┴────────────┴───────────┴───────────┘"
      ]
     },
     "execution_count": 66,
     "metadata": {},
     "output_type": "execute_result"
    }
   ],
   "source": [
    "qmom"
   ]
  },
  {
   "cell_type": "markdown",
   "id": "fe7762be-1a11-45b7-9b17-a92078a297c4",
   "metadata": {},
   "source": [
    "## Fetch isotope table for comparison"
   ]
  },
  {
   "cell_type": "code",
   "execution_count": 52,
   "id": "521e425a-b84a-4853-a108-869bac02d324",
   "metadata": {},
   "outputs": [],
   "source": [
    "from mendeleev.fetch import fetch_table"
   ]
  },
  {
   "cell_type": "code",
   "execution_count": 53,
   "id": "87db5223-629c-489e-b663-aca80c7765a9",
   "metadata": {
    "scrolled": true
   },
   "outputs": [
    {
     "data": {
      "text/html": [
       "<div><style>\n",
       ".dataframe > thead > tr,\n",
       ".dataframe > tbody > tr {\n",
       "  text-align: right;\n",
       "  white-space: pre-wrap;\n",
       "}\n",
       "</style>\n",
       "<small>shape: (3_557, 18)</small><table border=\"1\" class=\"dataframe\"><thead><tr><th>id</th><th>atomic_number</th><th>mass</th><th>abundance</th><th>mass_number</th><th>mass_uncertainty</th><th>is_radioactive</th><th>half_life</th><th>half_life_unit</th><th>spin</th><th>g_factor</th><th>quadrupole_moment</th><th>parity</th><th>discovery_year</th><th>g_factor_uncertainty</th><th>abundance_uncertainty</th><th>half_life_uncertainty</th><th>quadrupole_moment_uncertainty</th></tr><tr><td>i64</td><td>i64</td><td>f64</td><td>f64</td><td>i64</td><td>f64</td><td>i64</td><td>f64</td><td>str</td><td>str</td><td>f64</td><td>f64</td><td>str</td><td>f64</td><td>f64</td><td>f64</td><td>f64</td><td>f64</td></tr></thead><tbody><tr><td>1</td><td>1</td><td>1.007825</td><td>99.9855</td><td>1</td><td>1.4000e-11</td><td>0</td><td>null</td><td>null</td><td>&quot;1/2&quot;</td><td>5.585695</td><td>0.0</td><td>&quot;+&quot;</td><td>1920.0</td><td>1.8000e-8</td><td>0.0078</td><td>null</td><td>0.0</td></tr><tr><td>2</td><td>1</td><td>2.014102</td><td>0.0145</td><td>2</td><td>1.5000e-11</td><td>0</td><td>null</td><td>null</td><td>&quot;1&quot;</td><td>0.857438</td><td>null</td><td>&quot;+&quot;</td><td>1932.0</td><td>5.0000e-9</td><td>0.0078</td><td>null</td><td>null</td></tr><tr><td>3</td><td>1</td><td>3.016049</td><td>null</td><td>3</td><td>8.0000e-11</td><td>1</td><td>12.32</td><td>&quot;year&quot;</td><td>&quot;1/2&quot;</td><td>5.957925</td><td>0.0</td><td>&quot;+&quot;</td><td>1934.0</td><td>2.8000e-8</td><td>null</td><td>0.02</td><td>0.0</td></tr><tr><td>4</td><td>2</td><td>3.016029</td><td>0.0002</td><td>3</td><td>6.0000e-11</td><td>0</td><td>null</td><td>null</td><td>&quot;1/2&quot;</td><td>-4.25525</td><td>0.0</td><td>&quot;+&quot;</td><td>1934.0</td><td>6.0000e-8</td><td>0.0002</td><td>null</td><td>0.0</td></tr><tr><td>5</td><td>3</td><td>3.030775</td><td>null</td><td>3</td><td>0.002147</td><td>1</td><td>null</td><td>null</td><td>&quot;3/2&quot;</td><td>null</td><td>null</td><td>&quot;-&quot;</td><td>null</td><td>null</td><td>null</td><td>null</td><td>null</td></tr><tr><td>6</td><td>1</td><td>4.026432</td><td>null</td><td>4</td><td>0.000107</td><td>1</td><td>139.0</td><td>&quot;ysec&quot;</td><td>&quot;2&quot;</td><td>null</td><td>null</td><td>&quot;-&quot;</td><td>1981.0</td><td>null</td><td>null</td><td>10.0</td><td>null</td></tr><tr><td>7</td><td>2</td><td>4.002603</td><td>99.9998</td><td>4</td><td>1.6000e-10</td><td>0</td><td>null</td><td>null</td><td>&quot;0&quot;</td><td>0.0</td><td>0.0</td><td>&quot;+&quot;</td><td>1908.0</td><td>0.0</td><td>0.0002</td><td>null</td><td>0.0</td></tr><tr><td>8</td><td>3</td><td>4.027186</td><td>null</td><td>4</td><td>0.000228</td><td>1</td><td>91.0</td><td>&quot;ysec&quot;</td><td>&quot;2&quot;</td><td>null</td><td>null</td><td>&quot;-&quot;</td><td>1965.0</td><td>null</td><td>null</td><td>9.0</td><td>null</td></tr><tr><td>9</td><td>1</td><td>5.035311</td><td>null</td><td>5</td><td>0.000096</td><td>1</td><td>86.0</td><td>&quot;ysec&quot;</td><td>&quot;1/2&quot;</td><td>null</td><td>0.0</td><td>&quot;+&quot;</td><td>1987.0</td><td>null</td><td>null</td><td>6.0</td><td>0.0</td></tr><tr><td>10</td><td>2</td><td>5.012057</td><td>null</td><td>5</td><td>0.000021</td><td>1</td><td>602.0</td><td>&quot;ysec&quot;</td><td>&quot;3/2&quot;</td><td>null</td><td>null</td><td>&quot;-&quot;</td><td>1937.0</td><td>null</td><td>null</td><td>22.0</td><td>null</td></tr><tr><td>11</td><td>3</td><td>5.0125378</td><td>null</td><td>5</td><td>0.000054</td><td>1</td><td>370.0</td><td>&quot;ysec&quot;</td><td>&quot;3/2&quot;</td><td>null</td><td>null</td><td>&quot;-&quot;</td><td>1941.0</td><td>null</td><td>null</td><td>30.0</td><td>null</td></tr><tr><td>12</td><td>4</td><td>5.03987</td><td>null</td><td>5</td><td>0.00215</td><td>1</td><td>null</td><td>null</td><td>&quot;1/2&quot;</td><td>null</td><td>0.0</td><td>&quot;+&quot;</td><td>null</td><td>null</td><td>null</td><td>null</td><td>0.0</td></tr><tr><td>13</td><td>1</td><td>6.044955</td><td>null</td><td>6</td><td>0.000273</td><td>1</td><td>294.0</td><td>&quot;ysec&quot;</td><td>&quot;2&quot;</td><td>null</td><td>null</td><td>&quot;-&quot;</td><td>1984.0</td><td>null</td><td>null</td><td>67.0</td><td>null</td></tr><tr><td>14</td><td>2</td><td>6.018886</td><td>null</td><td>6</td><td>5.7000e-8</td><td>1</td><td>806.92</td><td>&quot;msec&quot;</td><td>&quot;0&quot;</td><td>0.0</td><td>0.0</td><td>&quot;+&quot;</td><td>1936.0</td><td>0.0</td><td>null</td><td>0.24</td><td>0.0</td></tr><tr><td>15</td><td>3</td><td>6.015123</td><td>4.85</td><td>6</td><td>1.5500e-9</td><td>0</td><td>null</td><td>null</td><td>&quot;1&quot;</td><td>0.822043</td><td>-0.000806</td><td>&quot;+&quot;</td><td>1921.0</td><td>0.000003</td><td>1.71</td><td>null</td><td>0.000006</td></tr><tr><td>16</td><td>4</td><td>6.019726</td><td>null</td><td>6</td><td>0.000006</td><td>1</td><td>5.0</td><td>&quot;zsec&quot;</td><td>&quot;0&quot;</td><td>0.0</td><td>0.0</td><td>&quot;+&quot;</td><td>1958.0</td><td>0.0</td><td>null</td><td>0.3</td><td>0.0</td></tr><tr><td>17</td><td>5</td><td>6.0508</td><td>null</td><td>6</td><td>0.00215</td><td>1</td><td>null</td><td>null</td><td>&quot;2&quot;</td><td>null</td><td>null</td><td>&quot;-&quot;</td><td>null</td><td>null</td><td>null</td><td>null</td><td>null</td></tr><tr><td>18</td><td>1</td><td>7.052749</td><td>null</td><td>7</td><td>0.001078</td><td>1</td><td>652.0</td><td>&quot;ysec&quot;</td><td>&quot;1/2&quot;</td><td>null</td><td>0.0</td><td>&quot;+&quot;</td><td>2003.0</td><td>null</td><td>null</td><td>558.0</td><td>0.0</td></tr><tr><td>19</td><td>2</td><td>7.027991</td><td>null</td><td>7</td><td>0.000008</td><td>1</td><td>2.51</td><td>&quot;zsec&quot;</td><td>&quot;3/2&quot;</td><td>null</td><td>null</td><td>&quot;&quot;</td><td>1967.0</td><td>null</td><td>null</td><td>0.07</td><td>null</td></tr><tr><td>20</td><td>3</td><td>7.016003</td><td>95.15</td><td>7</td><td>4.5000e-9</td><td>0</td><td>null</td><td>null</td><td>&quot;3/2&quot;</td><td>2.170938</td><td>-0.04</td><td>&quot;-&quot;</td><td>1921.0</td><td>0.000008</td><td>1.71</td><td>null</td><td>0.0003</td></tr><tr><td>21</td><td>4</td><td>7.016929</td><td>null</td><td>7</td><td>7.6000e-8</td><td>1</td><td>53.22</td><td>&quot;day&quot;</td><td>&quot;3/2&quot;</td><td>-0.932853</td><td>null</td><td>&quot;-&quot;</td><td>1938.0</td><td>0.000003</td><td>null</td><td>0.06</td><td>null</td></tr><tr><td>22</td><td>5</td><td>7.029712</td><td>null</td><td>7</td><td>0.000027</td><td>1</td><td>570.0</td><td>&quot;ysec&quot;</td><td>&quot;3/2&quot;</td><td>null</td><td>null</td><td>&quot;-&quot;</td><td>1967.0</td><td>null</td><td>null</td><td>14.0</td><td>null</td></tr><tr><td>23</td><td>2</td><td>8.033934</td><td>null</td><td>8</td><td>9.5000e-8</td><td>1</td><td>119.5</td><td>&quot;msec&quot;</td><td>&quot;0&quot;</td><td>0.0</td><td>0.0</td><td>&quot;+&quot;</td><td>1965.0</td><td>0.0</td><td>null</td><td>1.5</td><td>0.0</td></tr><tr><td>24</td><td>3</td><td>8.022486</td><td>null</td><td>8</td><td>5.0000e-8</td><td>1</td><td>838.7</td><td>&quot;msec&quot;</td><td>&quot;2&quot;</td><td>0.82675</td><td>0.0314</td><td>&quot;+&quot;</td><td>1935.0</td><td>0.00001</td><td>null</td><td>0.3</td><td>0.0002</td></tr><tr><td>25</td><td>4</td><td>8.005305</td><td>null</td><td>8</td><td>3.7000e-8</td><td>1</td><td>81.9</td><td>&quot;asec&quot;</td><td>&quot;0&quot;</td><td>0.0</td><td>0.0</td><td>&quot;+&quot;</td><td>1932.0</td><td>0.0</td><td>null</td><td>3.7</td><td>0.0</td></tr><tr><td>26</td><td>5</td><td>8.024607</td><td>null</td><td>8</td><td>0.000001</td><td>1</td><td>771.9</td><td>&quot;msec&quot;</td><td>&quot;2&quot;</td><td>0.51775</td><td>0.0643</td><td>&quot;+&quot;</td><td>1950.0</td><td>0.00015</td><td>null</td><td>0.9</td><td>0.0014</td></tr><tr><td>27</td><td>6</td><td>8.037643</td><td>null</td><td>8</td><td>0.00002</td><td>1</td><td>3.5</td><td>&quot;zsec&quot;</td><td>&quot;0&quot;</td><td>0.0</td><td>0.0</td><td>&quot;+&quot;</td><td>1974.0</td><td>0.0</td><td>null</td><td>1.4</td><td>0.0</td></tr><tr><td>28</td><td>2</td><td>9.043946</td><td>null</td><td>9</td><td>0.00005</td><td>1</td><td>2.5</td><td>&quot;zsec&quot;</td><td>&quot;1/2&quot;</td><td>null</td><td>0.0</td><td>&quot;&quot;</td><td>1987.0</td><td>null</td><td>null</td><td>2.3</td><td>0.0</td></tr><tr><td>29</td><td>3</td><td>9.02679</td><td>null</td><td>9</td><td>0.0000002</td><td>1</td><td>178.2</td><td>&quot;msec&quot;</td><td>&quot;3/2&quot;</td><td>2.291107</td><td>-0.0304</td><td>&quot;-&quot;</td><td>1951.0</td><td>0.00004</td><td>null</td><td>0.4</td><td>0.0002</td></tr><tr><td>30</td><td>4</td><td>9.012183</td><td>100.0</td><td>9</td><td>8.2000e-8</td><td>0</td><td>null</td><td>null</td><td>&quot;3/2&quot;</td><td>-0.784953</td><td>0.0529</td><td>&quot;-&quot;</td><td>1921.0</td><td>0.000003</td><td>0.0</td><td>null</td><td>0.0004</td></tr><tr><td>31</td><td>5</td><td>9.01333</td><td>null</td><td>9</td><td>9.6900e-7</td><td>1</td><td>800.0</td><td>&quot;zsec&quot;</td><td>&quot;3/2&quot;</td><td>null</td><td>null</td><td>&quot;-&quot;</td><td>1940.0</td><td>null</td><td>null</td><td>300.0</td><td>null</td></tr><tr><td>32</td><td>6</td><td>9.031037</td><td>null</td><td>9</td><td>0.000002</td><td>1</td><td>126.5</td><td>&quot;msec&quot;</td><td>&quot;3/2&quot;</td><td>0.9276</td><td>null</td><td>&quot;-&quot;</td><td>1964.0</td><td>0.000333</td><td>null</td><td>0.9</td><td>null</td></tr><tr><td>33</td><td>2</td><td>10.052815</td><td>null</td><td>10</td><td>0.0001</td><td>1</td><td>260.0</td><td>&quot;ysec&quot;</td><td>&quot;0&quot;</td><td>0.0</td><td>0.0</td><td>&quot;+&quot;</td><td>1994.0</td><td>0.0</td><td>null</td><td>40.0</td><td>0.0</td></tr><tr><td>34</td><td>3</td><td>10.035483</td><td>null</td><td>10</td><td>0.000014</td><td>1</td><td>2.0</td><td>&quot;zsec&quot;</td><td>&quot;1&quot;</td><td>null</td><td>null</td><td>&quot;-&quot;</td><td>1975.0</td><td>null</td><td>null</td><td>0.5</td><td>null</td></tr><tr><td>35</td><td>4</td><td>10.013535</td><td>null</td><td>10</td><td>8.6000e-8</td><td>1</td><td>1.387</td><td>&quot;Myear&quot;</td><td>&quot;0&quot;</td><td>0.0</td><td>0.0</td><td>&quot;+&quot;</td><td>1935.0</td><td>0.0</td><td>null</td><td>0.012</td><td>0.0</td></tr><tr><td>36</td><td>5</td><td>10.012937</td><td>19.65</td><td>10</td><td>1.6000e-8</td><td>0</td><td>null</td><td>null</td><td>&quot;3&quot;</td><td>0.600155</td><td>0.0846</td><td>&quot;+&quot;</td><td>1920.0</td><td>2.6667e-7</td><td>0.44</td><td>null</td><td>0.0002</td></tr><tr><td>37</td><td>6</td><td>10.016853</td><td>null</td><td>10</td><td>7.5000e-8</td><td>1</td><td>19.3011</td><td>&quot;sec&quot;</td><td>&quot;0&quot;</td><td>0.0</td><td>0.0</td><td>&quot;+&quot;</td><td>1949.0</td><td>0.0</td><td>null</td><td>0.0015</td><td>0.0</td></tr><tr><td>38</td><td>7</td><td>10.041654</td><td>null</td><td>10</td><td>0.000429</td><td>1</td><td>143.0</td><td>&quot;ysec&quot;</td><td>&quot;1&quot;</td><td>null</td><td>null</td><td>&quot;-&quot;</td><td>2002.0</td><td>null</td><td>null</td><td>36.0</td><td>null</td></tr><tr><td>39</td><td>3</td><td>11.043724</td><td>null</td><td>11</td><td>6.6000e-7</td><td>1</td><td>8.75</td><td>&quot;msec&quot;</td><td>&quot;3/2&quot;</td><td>2.4474</td><td>-0.0333</td><td>&quot;-&quot;</td><td>1966.0</td><td>0.000133</td><td>null</td><td>0.06</td><td>0.0005</td></tr><tr><td>40</td><td>4</td><td>11.021661</td><td>null</td><td>11</td><td>2.5500e-7</td><td>1</td><td>13.76</td><td>&quot;sec&quot;</td><td>&quot;1/2&quot;</td><td>-3.3632</td><td>0.0</td><td>&quot;+&quot;</td><td>1958.0</td><td>0.0016</td><td>null</td><td>0.07</td><td>0.0</td></tr><tr><td>41</td><td>5</td><td>11.009305</td><td>80.35</td><td>11</td><td>1.3000e-8</td><td>0</td><td>null</td><td>null</td><td>&quot;3/2&quot;</td><td>1.792252</td><td>0.04059</td><td>&quot;-&quot;</td><td>1920.0</td><td>6.6667e-7</td><td>0.44</td><td>null</td><td>0.0001</td></tr><tr><td>42</td><td>6</td><td>11.011433</td><td>null</td><td>11</td><td>6.4000e-8</td><td>1</td><td>20.3402</td><td>&quot;minute&quot;</td><td>&quot;3/2&quot;</td><td>-0.642667</td><td>0.0333</td><td>&quot;-&quot;</td><td>1934.0</td><td>0.000667</td><td>null</td><td>0.0053</td><td>0.0002</td></tr><tr><td>43</td><td>7</td><td>11.026158</td><td>null</td><td>11</td><td>0.000005</td><td>1</td><td>585.0</td><td>&quot;ysec&quot;</td><td>&quot;1/2&quot;</td><td>null</td><td>0.0</td><td>&quot;+&quot;</td><td>1974.0</td><td>null</td><td>null</td><td>7.0</td><td>0.0</td></tr><tr><td>44</td><td>8</td><td>11.05125</td><td>null</td><td>11</td><td>0.000064</td><td>1</td><td>198.0</td><td>&quot;ysec&quot;</td><td>&quot;3/2&quot;</td><td>null</td><td>null</td><td>&quot;-&quot;</td><td>2019.0</td><td>null</td><td>null</td><td>12.0</td><td>null</td></tr><tr><td>45</td><td>3</td><td>12.052614</td><td>null</td><td>12</td><td>0.000032</td><td>0</td><td>null</td><td>null</td><td>&quot;1&quot;</td><td>null</td><td>null</td><td>&quot;-&quot;</td><td>2008.0</td><td>null</td><td>null</td><td>null</td><td>null</td></tr><tr><td>46</td><td>4</td><td>12.026922</td><td>null</td><td>12</td><td>0.000002</td><td>1</td><td>21.46</td><td>&quot;msec&quot;</td><td>&quot;0&quot;</td><td>0.0</td><td>0.0</td><td>&quot;+&quot;</td><td>1966.0</td><td>0.0</td><td>null</td><td>0.05</td><td>0.0</td></tr><tr><td>47</td><td>5</td><td>12.014353</td><td>null</td><td>12</td><td>0.000001</td><td>1</td><td>20.2</td><td>&quot;msec&quot;</td><td>&quot;1&quot;</td><td>1.003</td><td>0.0132</td><td>&quot;+&quot;</td><td>1935.0</td><td>0.001</td><td>null</td><td>0.02</td><td>0.0003</td></tr><tr><td>48</td><td>6</td><td>12.0</td><td>98.94</td><td>12</td><td>0.0</td><td>0</td><td>null</td><td>null</td><td>&quot;0&quot;</td><td>0.0</td><td>0.0</td><td>&quot;+&quot;</td><td>1919.0</td><td>0.0</td><td>0.06</td><td>null</td><td>0.0</td></tr><tr><td>49</td><td>7</td><td>12.018613</td><td>null</td><td>12</td><td>0.000001</td><td>1</td><td>11.0</td><td>&quot;msec&quot;</td><td>&quot;1&quot;</td><td>0.4571</td><td>0.01</td><td>&quot;+&quot;</td><td>1949.0</td><td>0.0001</td><td>null</td><td>0.016</td><td>0.0009</td></tr><tr><td>50</td><td>8</td><td>12.034368</td><td>null</td><td>12</td><td>0.000013</td><td>1</td><td>8.9</td><td>&quot;zsec&quot;</td><td>&quot;0&quot;</td><td>0.0</td><td>0.0</td><td>&quot;+&quot;</td><td>1978.0</td><td>0.0</td><td>null</td><td>3.3</td><td>0.0</td></tr><tr><td>&hellip;</td><td>&hellip;</td><td>&hellip;</td><td>&hellip;</td><td>&hellip;</td><td>&hellip;</td><td>&hellip;</td><td>&hellip;</td><td>&hellip;</td><td>&hellip;</td><td>&hellip;</td><td>&hellip;</td><td>&hellip;</td><td>&hellip;</td><td>&hellip;</td><td>&hellip;</td><td>&hellip;</td><td>&hellip;</td></tr><tr><td>3508</td><td>110</td><td>282.166174</td><td>null</td><td>282</td><td>0.000322</td><td>1</td><td>4.2</td><td>&quot;minute&quot;</td><td>&quot;0&quot;</td><td>0.0</td><td>0.0</td><td>&quot;+&quot;</td><td>2016.0</td><td>0.0</td><td>null</td><td>3.3</td><td>0.0</td></tr><tr><td>3509</td><td>111</td><td>282.169343</td><td>null</td><td>282</td><td>0.000631</td><td>1</td><td>130.0</td><td>&quot;sec&quot;</td><td>null</td><td>null</td><td>null</td><td>null</td><td>2010.0</td><td>null</td><td>null</td><td>50.0</td><td>null</td></tr><tr><td>3510</td><td>112</td><td>282.170507</td><td>null</td><td>282</td><td>0.000588</td><td>1</td><td>1.1</td><td>&quot;msec&quot;</td><td>&quot;0&quot;</td><td>0.0</td><td>0.0</td><td>&quot;+&quot;</td><td>2004.0</td><td>0.0</td><td>null</td><td>0.3</td><td>0.0</td></tr><tr><td>3511</td><td>113</td><td>282.17577</td><td>null</td><td>282</td><td>0.00043</td><td>1</td><td>140.0</td><td>&quot;msec&quot;</td><td>null</td><td>null</td><td>null</td><td>null</td><td>2007.0</td><td>null</td><td>null</td><td>90.0</td><td>null</td></tr><tr><td>3512</td><td>110</td><td>283.169437</td><td>null</td><td>283</td><td>0.000537</td><td>1</td><td>null</td><td>&quot;minute&quot;</td><td>null</td><td>null</td><td>null</td><td>null</td><td>null</td><td>null</td><td>null</td><td>null</td><td>null</td></tr><tr><td>3513</td><td>111</td><td>283.171101</td><td>null</td><td>283</td><td>0.000728</td><td>1</td><td>null</td><td>&quot;minute&quot;</td><td>null</td><td>null</td><td>null</td><td>null</td><td>null</td><td>null</td><td>null</td><td>null</td><td>null</td></tr><tr><td>3514</td><td>112</td><td>283.173202</td><td>null</td><td>283</td><td>0.00066</td><td>1</td><td>4.7</td><td>&quot;sec&quot;</td><td>null</td><td>null</td><td>null</td><td>null</td><td>2004.0</td><td>null</td><td>null</td><td>0.8</td><td>null</td></tr><tr><td>3515</td><td>113</td><td>283.176666</td><td>null</td><td>283</td><td>0.000469</td><td>1</td><td>140.0</td><td>&quot;msec&quot;</td><td>null</td><td>null</td><td>null</td><td>null</td><td>2004.0</td><td>null</td><td>null</td><td>90.0</td><td>null</td></tr><tr><td>3516</td><td>110</td><td>284.171187</td><td>null</td><td>284</td><td>0.000537</td><td>1</td><td>null</td><td>&quot;minute&quot;</td><td>&quot;0&quot;</td><td>0.0</td><td>0.0</td><td>&quot;+&quot;</td><td>null</td><td>0.0</td><td>null</td><td>null</td><td>0.0</td></tr><tr><td>3517</td><td>111</td><td>284.173882</td><td>null</td><td>284</td><td>0.000537</td><td>1</td><td>null</td><td>&quot;minute&quot;</td><td>null</td><td>null</td><td>null</td><td>null</td><td>null</td><td>null</td><td>null</td><td>null</td><td>null</td></tr><tr><td>3518</td><td>112</td><td>284.17436</td><td>null</td><td>284</td><td>0.000819</td><td>1</td><td>102.0</td><td>&quot;msec&quot;</td><td>&quot;0&quot;</td><td>0.0</td><td>0.0</td><td>&quot;+&quot;</td><td>2004.0</td><td>0.0</td><td>null</td><td>17.0</td><td>0.0</td></tr><tr><td>3519</td><td>113</td><td>284.178843</td><td>null</td><td>284</td><td>0.000573</td><td>1</td><td>0.97</td><td>&quot;sec&quot;</td><td>null</td><td>null</td><td>null</td><td>null</td><td>2004.0</td><td>null</td><td>null</td><td>0.11</td><td>null</td></tr><tr><td>3520</td><td>114</td><td>284.181192</td><td>null</td><td>284</td><td>0.000704</td><td>1</td><td>3.1</td><td>&quot;msec&quot;</td><td>&quot;0&quot;</td><td>0.0</td><td>0.0</td><td>&quot;+&quot;</td><td>2015.0</td><td>0.0</td><td>null</td><td>1.3</td><td>0.0</td></tr><tr><td>3521</td><td>111</td><td>285.175771</td><td>null</td><td>285</td><td>0.000644</td><td>1</td><td>null</td><td>&quot;sec&quot;</td><td>null</td><td>null</td><td>null</td><td>null</td><td>null</td><td>null</td><td>null</td><td>null</td><td>null</td></tr><tr><td>3522</td><td>112</td><td>285.177227</td><td>null</td><td>285</td><td>0.000544</td><td>1</td><td>30.0</td><td>&quot;sec&quot;</td><td>null</td><td>null</td><td>null</td><td>null</td><td>2004.0</td><td>null</td><td>null</td><td>8.0</td><td>null</td></tr><tr><td>3523</td><td>113</td><td>285.180106</td><td>null</td><td>285</td><td>0.000832</td><td>1</td><td>4.6</td><td>&quot;sec&quot;</td><td>null</td><td>null</td><td>null</td><td>null</td><td>2010.0</td><td>null</td><td>null</td><td>1.1</td><td>null</td></tr><tr><td>3524</td><td>114</td><td>285.183503</td><td>null</td><td>285</td><td>0.000433</td><td>1</td><td>210.0</td><td>&quot;msec&quot;</td><td>null</td><td>null</td><td>null</td><td>null</td><td>2010.0</td><td>null</td><td>null</td><td>100.0</td><td>null</td></tr><tr><td>3525</td><td>111</td><td>286.178756</td><td>null</td><td>286</td><td>0.000492</td><td>1</td><td>null</td><td>&quot;sec&quot;</td><td>null</td><td>null</td><td>null</td><td>null</td><td>2016.0</td><td>null</td><td>null</td><td>null</td><td>null</td></tr><tr><td>3526</td><td>112</td><td>286.178691</td><td>null</td><td>286</td><td>0.000751</td><td>1</td><td>30.0</td><td>&quot;sec&quot;</td><td>&quot;0&quot;</td><td>0.0</td><td>0.0</td><td>&quot;+&quot;</td><td>2016.0</td><td>0.0</td><td>null</td><td>30.0</td><td>0.0</td></tr><tr><td>3527</td><td>113</td><td>286.182456</td><td>null</td><td>286</td><td>0.000634</td><td>1</td><td>12.0</td><td>&quot;sec&quot;</td><td>null</td><td>null</td><td>null</td><td>null</td><td>2010.0</td><td>null</td><td>null</td><td>5.0</td><td>null</td></tr><tr><td>3528</td><td>114</td><td>286.184226</td><td>null</td><td>286</td><td>0.00059</td><td>1</td><td>130.0</td><td>&quot;msec&quot;</td><td>&quot;0&quot;</td><td>0.0</td><td>0.0</td><td>&quot;+&quot;</td><td>2004.0</td><td>0.0</td><td>null</td><td>30.0</td><td>0.0</td></tr><tr><td>3529</td><td>112</td><td>287.181826</td><td>null</td><td>287</td><td>0.000751</td><td>1</td><td>null</td><td>&quot;sec&quot;</td><td>null</td><td>null</td><td>null</td><td>null</td><td>null</td><td>null</td><td>null</td><td>null</td><td>null</td></tr><tr><td>3530</td><td>113</td><td>287.184064</td><td>null</td><td>287</td><td>0.000759</td><td>1</td><td>null</td><td>&quot;sec&quot;</td><td>null</td><td>null</td><td>null</td><td>null</td><td>null</td><td>null</td><td>null</td><td>null</td><td>null</td></tr><tr><td>3531</td><td>114</td><td>287.18672</td><td>null</td><td>287</td><td>0.000663</td><td>1</td><td>510.0</td><td>&quot;msec&quot;</td><td>null</td><td>null</td><td>null</td><td>null</td><td>2004.0</td><td>null</td><td>null</td><td>120.0</td><td>null</td></tr><tr><td>3532</td><td>115</td><td>287.19082</td><td>null</td><td>287</td><td>0.000475</td><td>1</td><td>60.0</td><td>&quot;msec&quot;</td><td>null</td><td>null</td><td>null</td><td>null</td><td>2004.0</td><td>null</td><td>null</td><td>30.0</td><td>null</td></tr><tr><td>3533</td><td>112</td><td>288.183501</td><td>null</td><td>288</td><td>0.000751</td><td>1</td><td>null</td><td>&quot;sec&quot;</td><td>&quot;0&quot;</td><td>0.0</td><td>0.0</td><td>&quot;+&quot;</td><td>null</td><td>0.0</td><td>null</td><td>null</td><td>0.0</td></tr><tr><td>3534</td><td>113</td><td>288.186764</td><td>null</td><td>288</td><td>0.000751</td><td>1</td><td>null</td><td>&quot;sec&quot;</td><td>null</td><td>null</td><td>null</td><td>null</td><td>null</td><td>null</td><td>null</td><td>null</td><td>null</td></tr><tr><td>3535</td><td>114</td><td>288.187781</td><td>null</td><td>288</td><td>0.000819</td><td>1</td><td>653.0</td><td>&quot;msec&quot;</td><td>&quot;0&quot;</td><td>0.0</td><td>0.0</td><td>&quot;+&quot;</td><td>2004.0</td><td>0.0</td><td>null</td><td>113.0</td><td>0.0</td></tr><tr><td>3536</td><td>115</td><td>288.192879</td><td>null</td><td>288</td><td>0.000575</td><td>1</td><td>177.0</td><td>&quot;msec&quot;</td><td>null</td><td>null</td><td>null</td><td>null</td><td>2004.0</td><td>null</td><td>null</td><td>20.0</td><td>null</td></tr><tr><td>3537</td><td>113</td><td>289.188461</td><td>null</td><td>289</td><td>0.000537</td><td>1</td><td>null</td><td>&quot;sec&quot;</td><td>null</td><td>null</td><td>null</td><td>null</td><td>null</td><td>null</td><td>null</td><td>null</td><td>null</td></tr><tr><td>3538</td><td>114</td><td>289.190517</td><td>null</td><td>289</td><td>0.000548</td><td>1</td><td>2.1</td><td>&quot;sec&quot;</td><td>null</td><td>null</td><td>null</td><td>null</td><td>2004.0</td><td>null</td><td>null</td><td>0.6</td><td>null</td></tr><tr><td>3539</td><td>115</td><td>289.193971</td><td>null</td><td>289</td><td>0.000834</td><td>1</td><td>410.0</td><td>&quot;msec&quot;</td><td>null</td><td>null</td><td>null</td><td>null</td><td>2010.0</td><td>null</td><td>null</td><td>150.0</td><td>null</td></tr><tr><td>3540</td><td>116</td><td>289.198023</td><td>null</td><td>289</td><td>0.00054</td><td>1</td><td>null</td><td>&quot;msec&quot;</td><td>null</td><td>null</td><td>null</td><td>null</td><td>null</td><td>null</td><td>null</td><td>null</td><td>null</td></tr><tr><td>3541</td><td>113</td><td>290.191429</td><td>null</td><td>290</td><td>0.000503</td><td>1</td><td>8.0</td><td>&quot;sec&quot;</td><td>null</td><td>null</td><td>null</td><td>null</td><td>2016.0</td><td>null</td><td>null</td><td>6.0</td><td>null</td></tr><tr><td>3542</td><td>114</td><td>290.191875</td><td>null</td><td>290</td><td>0.000752</td><td>1</td><td>80.0</td><td>&quot;sec&quot;</td><td>&quot;0&quot;</td><td>0.0</td><td>0.0</td><td>&quot;+&quot;</td><td>2016.0</td><td>0.0</td><td>null</td><td>60.0</td><td>0.0</td></tr><tr><td>3543</td><td>115</td><td>290.196235</td><td>null</td><td>290</td><td>0.000635</td><td>1</td><td>840.0</td><td>&quot;msec&quot;</td><td>null</td><td>null</td><td>null</td><td>null</td><td>2010.0</td><td>null</td><td>null</td><td>360.0</td><td>null</td></tr><tr><td>3544</td><td>116</td><td>290.198635</td><td>null</td><td>290</td><td>0.000593</td><td>1</td><td>9.0</td><td>&quot;msec&quot;</td><td>&quot;0&quot;</td><td>0.0</td><td>0.0</td><td>&quot;+&quot;</td><td>2004.0</td><td>0.0</td><td>null</td><td>3.0</td><td>0.0</td></tr><tr><td>3545</td><td>114</td><td>291.194848</td><td>null</td><td>291</td><td>0.000751</td><td>1</td><td>null</td><td>&quot;sec&quot;</td><td>null</td><td>null</td><td>null</td><td>null</td><td>null</td><td>null</td><td>null</td><td>null</td><td>null</td></tr><tr><td>3546</td><td>115</td><td>291.197725</td><td>null</td><td>291</td><td>0.000789</td><td>1</td><td>null</td><td>&quot;sec&quot;</td><td>null</td><td>null</td><td>null</td><td>null</td><td>null</td><td>null</td><td>null</td><td>null</td><td>null</td></tr><tr><td>3547</td><td>116</td><td>291.201014</td><td>null</td><td>291</td><td>0.000669</td><td>1</td><td>26.0</td><td>&quot;msec&quot;</td><td>null</td><td>null</td><td>null</td><td>null</td><td>2004.0</td><td>null</td><td>null</td><td>12.0</td><td>null</td></tr><tr><td>3548</td><td>117</td><td>291.205748</td><td>null</td><td>291</td><td>0.00064</td><td>1</td><td>null</td><td>&quot;msec&quot;</td><td>null</td><td>null</td><td>null</td><td>null</td><td>null</td><td>null</td><td>null</td><td>null</td><td>null</td></tr><tr><td>3549</td><td>115</td><td>292.200323</td><td>null</td><td>292</td><td>0.000751</td><td>1</td><td>null</td><td>&quot;sec&quot;</td><td>null</td><td>null</td><td>null</td><td>null</td><td>null</td><td>null</td><td>null</td><td>null</td><td>null</td></tr><tr><td>3550</td><td>116</td><td>292.201969</td><td>null</td><td>292</td><td>0.000819</td><td>1</td><td>16.0</td><td>&quot;msec&quot;</td><td>&quot;0&quot;</td><td>0.0</td><td>0.0</td><td>&quot;+&quot;</td><td>2004.0</td><td>0.0</td><td>null</td><td>6.0</td><td>0.0</td></tr><tr><td>3551</td><td>117</td><td>292.207861</td><td>null</td><td>292</td><td>0.000718</td><td>1</td><td>null</td><td>&quot;msec&quot;</td><td>null</td><td>null</td><td>null</td><td>null</td><td>null</td><td>null</td><td>null</td><td>null</td><td>null</td></tr><tr><td>3552</td><td>116</td><td>293.204583</td><td>null</td><td>293</td><td>0.000553</td><td>1</td><td>70.0</td><td>&quot;msec&quot;</td><td>null</td><td>null</td><td>null</td><td>null</td><td>2004.0</td><td>null</td><td>null</td><td>30.0</td><td>null</td></tr><tr><td>3553</td><td>117</td><td>293.208727</td><td>null</td><td>293</td><td>0.000835</td><td>1</td><td>25.0</td><td>&quot;msec&quot;</td><td>null</td><td>null</td><td>null</td><td>null</td><td>2010.0</td><td>null</td><td>null</td><td>6.0</td><td>null</td></tr><tr><td>3554</td><td>118</td><td>293.213423</td><td>null</td><td>293</td><td>0.000761</td><td>1</td><td>null</td><td>&quot;msec&quot;</td><td>null</td><td>null</td><td>null</td><td>null</td><td>2010.0</td><td>null</td><td>null</td><td>null</td><td>null</td></tr><tr><td>3555</td><td>117</td><td>294.21084</td><td>null</td><td>294</td><td>0.000637</td><td>1</td><td>70.0</td><td>&quot;msec&quot;</td><td>null</td><td>null</td><td>null</td><td>null</td><td>2010.0</td><td>null</td><td>null</td><td>30.0</td><td>null</td></tr><tr><td>3556</td><td>118</td><td>294.213979</td><td>null</td><td>294</td><td>0.000594</td><td>1</td><td>0.7</td><td>&quot;msec&quot;</td><td>&quot;0&quot;</td><td>0.0</td><td>0.0</td><td>&quot;+&quot;</td><td>2004.0</td><td>0.0</td><td>null</td><td>0.3</td><td>0.0</td></tr><tr><td>3557</td><td>118</td><td>295.216178</td><td>null</td><td>295</td><td>0.000703</td><td>1</td><td>680.0</td><td>&quot;msec&quot;</td><td>null</td><td>null</td><td>null</td><td>null</td><td>2006.0</td><td>null</td><td>null</td><td>540.0</td><td>null</td></tr></tbody></table></div>"
      ],
      "text/plain": [
       "shape: (3_557, 18)\n",
       "┌──────┬────────────┬────────────┬───────────┬───┬────────────┬────────────┬───────────┬───────────┐\n",
       "│ id   ┆ atomic_num ┆ mass       ┆ abundance ┆ … ┆ g_factor_u ┆ abundance_ ┆ half_life ┆ quadrupol │\n",
       "│ ---  ┆ ber        ┆ ---        ┆ ---       ┆   ┆ ncertainty ┆ uncertaint ┆ _uncertai ┆ e_moment_ │\n",
       "│ i64  ┆ ---        ┆ f64        ┆ f64       ┆   ┆ ---        ┆ y          ┆ nty       ┆ uncertain │\n",
       "│      ┆ i64        ┆            ┆           ┆   ┆ f64        ┆ ---        ┆ ---       ┆ ty        │\n",
       "│      ┆            ┆            ┆           ┆   ┆            ┆ f64        ┆ f64       ┆ ---       │\n",
       "│      ┆            ┆            ┆           ┆   ┆            ┆            ┆           ┆ f64       │\n",
       "╞══════╪════════════╪════════════╪═══════════╪═══╪════════════╪════════════╪═══════════╪═══════════╡\n",
       "│ 1    ┆ 1          ┆ 1.007825   ┆ 99.9855   ┆ … ┆ 1.8000e-8  ┆ 0.0078     ┆ null      ┆ 0.0       │\n",
       "│ 2    ┆ 1          ┆ 2.014102   ┆ 0.0145    ┆ … ┆ 5.0000e-9  ┆ 0.0078     ┆ null      ┆ null      │\n",
       "│ 3    ┆ 1          ┆ 3.016049   ┆ null      ┆ … ┆ 2.8000e-8  ┆ null       ┆ 0.02      ┆ 0.0       │\n",
       "│ 4    ┆ 2          ┆ 3.016029   ┆ 0.0002    ┆ … ┆ 6.0000e-8  ┆ 0.0002     ┆ null      ┆ 0.0       │\n",
       "│ 5    ┆ 3          ┆ 3.030775   ┆ null      ┆ … ┆ null       ┆ null       ┆ null      ┆ null      │\n",
       "│ 6    ┆ 1          ┆ 4.026432   ┆ null      ┆ … ┆ null       ┆ null       ┆ 10.0      ┆ null      │\n",
       "│ 7    ┆ 2          ┆ 4.002603   ┆ 99.9998   ┆ … ┆ 0.0        ┆ 0.0002     ┆ null      ┆ 0.0       │\n",
       "│ 8    ┆ 3          ┆ 4.027186   ┆ null      ┆ … ┆ null       ┆ null       ┆ 9.0       ┆ null      │\n",
       "│ 9    ┆ 1          ┆ 5.035311   ┆ null      ┆ … ┆ null       ┆ null       ┆ 6.0       ┆ 0.0       │\n",
       "│ 10   ┆ 2          ┆ 5.012057   ┆ null      ┆ … ┆ null       ┆ null       ┆ 22.0      ┆ null      │\n",
       "│ 11   ┆ 3          ┆ 5.0125378  ┆ null      ┆ … ┆ null       ┆ null       ┆ 30.0      ┆ null      │\n",
       "│ 12   ┆ 4          ┆ 5.03987    ┆ null      ┆ … ┆ null       ┆ null       ┆ null      ┆ 0.0       │\n",
       "│ 13   ┆ 1          ┆ 6.044955   ┆ null      ┆ … ┆ null       ┆ null       ┆ 67.0      ┆ null      │\n",
       "│ 14   ┆ 2          ┆ 6.018886   ┆ null      ┆ … ┆ 0.0        ┆ null       ┆ 0.24      ┆ 0.0       │\n",
       "│ 15   ┆ 3          ┆ 6.015123   ┆ 4.85      ┆ … ┆ 0.000003   ┆ 1.71       ┆ null      ┆ 0.000006  │\n",
       "│ 16   ┆ 4          ┆ 6.019726   ┆ null      ┆ … ┆ 0.0        ┆ null       ┆ 0.3       ┆ 0.0       │\n",
       "│ 17   ┆ 5          ┆ 6.0508     ┆ null      ┆ … ┆ null       ┆ null       ┆ null      ┆ null      │\n",
       "│ 18   ┆ 1          ┆ 7.052749   ┆ null      ┆ … ┆ null       ┆ null       ┆ 558.0     ┆ 0.0       │\n",
       "│ 19   ┆ 2          ┆ 7.027991   ┆ null      ┆ … ┆ null       ┆ null       ┆ 0.07      ┆ null      │\n",
       "│ 20   ┆ 3          ┆ 7.016003   ┆ 95.15     ┆ … ┆ 0.000008   ┆ 1.71       ┆ null      ┆ 0.0003    │\n",
       "│ 21   ┆ 4          ┆ 7.016929   ┆ null      ┆ … ┆ 0.000003   ┆ null       ┆ 0.06      ┆ null      │\n",
       "│ 22   ┆ 5          ┆ 7.029712   ┆ null      ┆ … ┆ null       ┆ null       ┆ 14.0      ┆ null      │\n",
       "│ 23   ┆ 2          ┆ 8.033934   ┆ null      ┆ … ┆ 0.0        ┆ null       ┆ 1.5       ┆ 0.0       │\n",
       "│ 24   ┆ 3          ┆ 8.022486   ┆ null      ┆ … ┆ 0.00001    ┆ null       ┆ 0.3       ┆ 0.0002    │\n",
       "│ 25   ┆ 4          ┆ 8.005305   ┆ null      ┆ … ┆ 0.0        ┆ null       ┆ 3.7       ┆ 0.0       │\n",
       "│ 26   ┆ 5          ┆ 8.024607   ┆ null      ┆ … ┆ 0.00015    ┆ null       ┆ 0.9       ┆ 0.0014    │\n",
       "│ 27   ┆ 6          ┆ 8.037643   ┆ null      ┆ … ┆ 0.0        ┆ null       ┆ 1.4       ┆ 0.0       │\n",
       "│ 28   ┆ 2          ┆ 9.043946   ┆ null      ┆ … ┆ null       ┆ null       ┆ 2.3       ┆ 0.0       │\n",
       "│ 29   ┆ 3          ┆ 9.02679    ┆ null      ┆ … ┆ 0.00004    ┆ null       ┆ 0.4       ┆ 0.0002    │\n",
       "│ 30   ┆ 4          ┆ 9.012183   ┆ 100.0     ┆ … ┆ 0.000003   ┆ 0.0        ┆ null      ┆ 0.0004    │\n",
       "│ 31   ┆ 5          ┆ 9.01333    ┆ null      ┆ … ┆ null       ┆ null       ┆ 300.0     ┆ null      │\n",
       "│ 32   ┆ 6          ┆ 9.031037   ┆ null      ┆ … ┆ 0.000333   ┆ null       ┆ 0.9       ┆ null      │\n",
       "│ 33   ┆ 2          ┆ 10.052815  ┆ null      ┆ … ┆ 0.0        ┆ null       ┆ 40.0      ┆ 0.0       │\n",
       "│ 34   ┆ 3          ┆ 10.035483  ┆ null      ┆ … ┆ null       ┆ null       ┆ 0.5       ┆ null      │\n",
       "│ 35   ┆ 4          ┆ 10.013535  ┆ null      ┆ … ┆ 0.0        ┆ null       ┆ 0.012     ┆ 0.0       │\n",
       "│ 36   ┆ 5          ┆ 10.012937  ┆ 19.65     ┆ … ┆ 2.6667e-7  ┆ 0.44       ┆ null      ┆ 0.0002    │\n",
       "│ 37   ┆ 6          ┆ 10.016853  ┆ null      ┆ … ┆ 0.0        ┆ null       ┆ 0.0015    ┆ 0.0       │\n",
       "│ 38   ┆ 7          ┆ 10.041654  ┆ null      ┆ … ┆ null       ┆ null       ┆ 36.0      ┆ null      │\n",
       "│ 39   ┆ 3          ┆ 11.043724  ┆ null      ┆ … ┆ 0.000133   ┆ null       ┆ 0.06      ┆ 0.0005    │\n",
       "│ 40   ┆ 4          ┆ 11.021661  ┆ null      ┆ … ┆ 0.0016     ┆ null       ┆ 0.07      ┆ 0.0       │\n",
       "│ 41   ┆ 5          ┆ 11.009305  ┆ 80.35     ┆ … ┆ 6.6667e-7  ┆ 0.44       ┆ null      ┆ 0.0001    │\n",
       "│ 42   ┆ 6          ┆ 11.011433  ┆ null      ┆ … ┆ 0.000667   ┆ null       ┆ 0.0053    ┆ 0.0002    │\n",
       "│ 43   ┆ 7          ┆ 11.026158  ┆ null      ┆ … ┆ null       ┆ null       ┆ 7.0       ┆ 0.0       │\n",
       "│ 44   ┆ 8          ┆ 11.05125   ┆ null      ┆ … ┆ null       ┆ null       ┆ 12.0      ┆ null      │\n",
       "│ 45   ┆ 3          ┆ 12.052614  ┆ null      ┆ … ┆ null       ┆ null       ┆ null      ┆ null      │\n",
       "│ 46   ┆ 4          ┆ 12.026922  ┆ null      ┆ … ┆ 0.0        ┆ null       ┆ 0.05      ┆ 0.0       │\n",
       "│ 47   ┆ 5          ┆ 12.014353  ┆ null      ┆ … ┆ 0.001      ┆ null       ┆ 0.02      ┆ 0.0003    │\n",
       "│ 48   ┆ 6          ┆ 12.0       ┆ 98.94     ┆ … ┆ 0.0        ┆ 0.06       ┆ null      ┆ 0.0       │\n",
       "│ 49   ┆ 7          ┆ 12.018613  ┆ null      ┆ … ┆ 0.0001     ┆ null       ┆ 0.016     ┆ 0.0009    │\n",
       "│ 50   ┆ 8          ┆ 12.034368  ┆ null      ┆ … ┆ 0.0        ┆ null       ┆ 3.3       ┆ 0.0       │\n",
       "│ …    ┆ …          ┆ …          ┆ …         ┆ … ┆ …          ┆ …          ┆ …         ┆ …         │\n",
       "│ 3508 ┆ 110        ┆ 282.166174 ┆ null      ┆ … ┆ 0.0        ┆ null       ┆ 3.3       ┆ 0.0       │\n",
       "│ 3509 ┆ 111        ┆ 282.169343 ┆ null      ┆ … ┆ null       ┆ null       ┆ 50.0      ┆ null      │\n",
       "│ 3510 ┆ 112        ┆ 282.170507 ┆ null      ┆ … ┆ 0.0        ┆ null       ┆ 0.3       ┆ 0.0       │\n",
       "│ 3511 ┆ 113        ┆ 282.17577  ┆ null      ┆ … ┆ null       ┆ null       ┆ 90.0      ┆ null      │\n",
       "│ 3512 ┆ 110        ┆ 283.169437 ┆ null      ┆ … ┆ null       ┆ null       ┆ null      ┆ null      │\n",
       "│ 3513 ┆ 111        ┆ 283.171101 ┆ null      ┆ … ┆ null       ┆ null       ┆ null      ┆ null      │\n",
       "│ 3514 ┆ 112        ┆ 283.173202 ┆ null      ┆ … ┆ null       ┆ null       ┆ 0.8       ┆ null      │\n",
       "│ 3515 ┆ 113        ┆ 283.176666 ┆ null      ┆ … ┆ null       ┆ null       ┆ 90.0      ┆ null      │\n",
       "│ 3516 ┆ 110        ┆ 284.171187 ┆ null      ┆ … ┆ 0.0        ┆ null       ┆ null      ┆ 0.0       │\n",
       "│ 3517 ┆ 111        ┆ 284.173882 ┆ null      ┆ … ┆ null       ┆ null       ┆ null      ┆ null      │\n",
       "│ 3518 ┆ 112        ┆ 284.17436  ┆ null      ┆ … ┆ 0.0        ┆ null       ┆ 17.0      ┆ 0.0       │\n",
       "│ 3519 ┆ 113        ┆ 284.178843 ┆ null      ┆ … ┆ null       ┆ null       ┆ 0.11      ┆ null      │\n",
       "│ 3520 ┆ 114        ┆ 284.181192 ┆ null      ┆ … ┆ 0.0        ┆ null       ┆ 1.3       ┆ 0.0       │\n",
       "│ 3521 ┆ 111        ┆ 285.175771 ┆ null      ┆ … ┆ null       ┆ null       ┆ null      ┆ null      │\n",
       "│ 3522 ┆ 112        ┆ 285.177227 ┆ null      ┆ … ┆ null       ┆ null       ┆ 8.0       ┆ null      │\n",
       "│ 3523 ┆ 113        ┆ 285.180106 ┆ null      ┆ … ┆ null       ┆ null       ┆ 1.1       ┆ null      │\n",
       "│ 3524 ┆ 114        ┆ 285.183503 ┆ null      ┆ … ┆ null       ┆ null       ┆ 100.0     ┆ null      │\n",
       "│ 3525 ┆ 111        ┆ 286.178756 ┆ null      ┆ … ┆ null       ┆ null       ┆ null      ┆ null      │\n",
       "│ 3526 ┆ 112        ┆ 286.178691 ┆ null      ┆ … ┆ 0.0        ┆ null       ┆ 30.0      ┆ 0.0       │\n",
       "│ 3527 ┆ 113        ┆ 286.182456 ┆ null      ┆ … ┆ null       ┆ null       ┆ 5.0       ┆ null      │\n",
       "│ 3528 ┆ 114        ┆ 286.184226 ┆ null      ┆ … ┆ 0.0        ┆ null       ┆ 30.0      ┆ 0.0       │\n",
       "│ 3529 ┆ 112        ┆ 287.181826 ┆ null      ┆ … ┆ null       ┆ null       ┆ null      ┆ null      │\n",
       "│ 3530 ┆ 113        ┆ 287.184064 ┆ null      ┆ … ┆ null       ┆ null       ┆ null      ┆ null      │\n",
       "│ 3531 ┆ 114        ┆ 287.18672  ┆ null      ┆ … ┆ null       ┆ null       ┆ 120.0     ┆ null      │\n",
       "│ 3532 ┆ 115        ┆ 287.19082  ┆ null      ┆ … ┆ null       ┆ null       ┆ 30.0      ┆ null      │\n",
       "│ 3533 ┆ 112        ┆ 288.183501 ┆ null      ┆ … ┆ 0.0        ┆ null       ┆ null      ┆ 0.0       │\n",
       "│ 3534 ┆ 113        ┆ 288.186764 ┆ null      ┆ … ┆ null       ┆ null       ┆ null      ┆ null      │\n",
       "│ 3535 ┆ 114        ┆ 288.187781 ┆ null      ┆ … ┆ 0.0        ┆ null       ┆ 113.0     ┆ 0.0       │\n",
       "│ 3536 ┆ 115        ┆ 288.192879 ┆ null      ┆ … ┆ null       ┆ null       ┆ 20.0      ┆ null      │\n",
       "│ 3537 ┆ 113        ┆ 289.188461 ┆ null      ┆ … ┆ null       ┆ null       ┆ null      ┆ null      │\n",
       "│ 3538 ┆ 114        ┆ 289.190517 ┆ null      ┆ … ┆ null       ┆ null       ┆ 0.6       ┆ null      │\n",
       "│ 3539 ┆ 115        ┆ 289.193971 ┆ null      ┆ … ┆ null       ┆ null       ┆ 150.0     ┆ null      │\n",
       "│ 3540 ┆ 116        ┆ 289.198023 ┆ null      ┆ … ┆ null       ┆ null       ┆ null      ┆ null      │\n",
       "│ 3541 ┆ 113        ┆ 290.191429 ┆ null      ┆ … ┆ null       ┆ null       ┆ 6.0       ┆ null      │\n",
       "│ 3542 ┆ 114        ┆ 290.191875 ┆ null      ┆ … ┆ 0.0        ┆ null       ┆ 60.0      ┆ 0.0       │\n",
       "│ 3543 ┆ 115        ┆ 290.196235 ┆ null      ┆ … ┆ null       ┆ null       ┆ 360.0     ┆ null      │\n",
       "│ 3544 ┆ 116        ┆ 290.198635 ┆ null      ┆ … ┆ 0.0        ┆ null       ┆ 3.0       ┆ 0.0       │\n",
       "│ 3545 ┆ 114        ┆ 291.194848 ┆ null      ┆ … ┆ null       ┆ null       ┆ null      ┆ null      │\n",
       "│ 3546 ┆ 115        ┆ 291.197725 ┆ null      ┆ … ┆ null       ┆ null       ┆ null      ┆ null      │\n",
       "│ 3547 ┆ 116        ┆ 291.201014 ┆ null      ┆ … ┆ null       ┆ null       ┆ 12.0      ┆ null      │\n",
       "│ 3548 ┆ 117        ┆ 291.205748 ┆ null      ┆ … ┆ null       ┆ null       ┆ null      ┆ null      │\n",
       "│ 3549 ┆ 115        ┆ 292.200323 ┆ null      ┆ … ┆ null       ┆ null       ┆ null      ┆ null      │\n",
       "│ 3550 ┆ 116        ┆ 292.201969 ┆ null      ┆ … ┆ 0.0        ┆ null       ┆ 6.0       ┆ 0.0       │\n",
       "│ 3551 ┆ 117        ┆ 292.207861 ┆ null      ┆ … ┆ null       ┆ null       ┆ null      ┆ null      │\n",
       "│ 3552 ┆ 116        ┆ 293.204583 ┆ null      ┆ … ┆ null       ┆ null       ┆ 30.0      ┆ null      │\n",
       "│ 3553 ┆ 117        ┆ 293.208727 ┆ null      ┆ … ┆ null       ┆ null       ┆ 6.0       ┆ null      │\n",
       "│ 3554 ┆ 118        ┆ 293.213423 ┆ null      ┆ … ┆ null       ┆ null       ┆ null      ┆ null      │\n",
       "│ 3555 ┆ 117        ┆ 294.21084  ┆ null      ┆ … ┆ null       ┆ null       ┆ 30.0      ┆ null      │\n",
       "│ 3556 ┆ 118        ┆ 294.213979 ┆ null      ┆ … ┆ 0.0        ┆ null       ┆ 0.3       ┆ 0.0       │\n",
       "│ 3557 ┆ 118        ┆ 295.216178 ┆ null      ┆ … ┆ null       ┆ null       ┆ 540.0     ┆ null      │\n",
       "└──────┴────────────┴────────────┴───────────┴───┴────────────┴────────────┴───────────┴───────────┘"
      ]
     },
     "execution_count": 53,
     "metadata": {},
     "output_type": "execute_result"
    }
   ],
   "source": [
    "isotopes = pl.from_pandas(fetch_table(\"isotopes\"))\n",
    "isotopes"
   ]
  },
  {
   "cell_type": "code",
   "execution_count": 68,
   "id": "05542fb1-b785-447a-9b05-01be6f20552a",
   "metadata": {},
   "outputs": [
    {
     "data": {
      "text/html": [
       "<div><style>\n",
       ".dataframe > thead > tr,\n",
       ".dataframe > tbody > tr {\n",
       "  text-align: right;\n",
       "  white-space: pre-wrap;\n",
       "}\n",
       "</style>\n",
       "<small>shape: (597, 11)</small><table border=\"1\" class=\"dataframe\"><thead><tr><th>atomic_number</th><th>symbol</th><th>mass_number</th><th>spin</th><th>spin_true</th><th>parity</th><th>parity_true</th><th>quadrupole_moment</th><th>quadrupole_moment_true</th><th>quadrupole_moment_uncertainty</th><th>quadrupole_moment_uncertainty_true</th></tr><tr><td>i64</td><td>str</td><td>i64</td><td>str</td><td>str</td><td>str</td><td>str</td><td>f32</td><td>f64</td><td>f32</td><td>f64</td></tr></thead><tbody><tr><td>1</td><td>&quot;H&quot;</td><td>2</td><td>&quot;1&quot;</td><td>&quot;1&quot;</td><td>&quot;+&quot;</td><td>&quot;+&quot;</td><td>0.002858</td><td>null</td><td>3.0000e-7</td><td>null</td></tr><tr><td>3</td><td>&quot;Li&quot;</td><td>6</td><td>&quot;1&quot;</td><td>&quot;1&quot;</td><td>&quot;+&quot;</td><td>&quot;+&quot;</td><td>-0.000806</td><td>-0.000806</td><td>0.000006</td><td>0.000006</td></tr><tr><td>3</td><td>&quot;Li&quot;</td><td>7</td><td>&quot;3/2&quot;</td><td>&quot;3/2&quot;</td><td>&quot;-&quot;</td><td>&quot;-&quot;</td><td>-0.04</td><td>-0.04</td><td>0.0003</td><td>0.0003</td></tr><tr><td>3</td><td>&quot;Li&quot;</td><td>8</td><td>&quot;2&quot;</td><td>&quot;2&quot;</td><td>&quot;+&quot;</td><td>&quot;+&quot;</td><td>0.0314</td><td>0.0314</td><td>0.0002</td><td>0.0002</td></tr><tr><td>3</td><td>&quot;Li&quot;</td><td>9</td><td>&quot;3/2&quot;</td><td>&quot;3/2&quot;</td><td>&quot;-&quot;</td><td>&quot;-&quot;</td><td>-0.0304</td><td>-0.0304</td><td>0.0002</td><td>0.0002</td></tr><tr><td>3</td><td>&quot;Li&quot;</td><td>11</td><td>&quot;3/2&quot;</td><td>&quot;3/2&quot;</td><td>&quot;-&quot;</td><td>&quot;-&quot;</td><td>0.0333</td><td>-0.0333</td><td>0.0005</td><td>0.0005</td></tr><tr><td>4</td><td>&quot;Be&quot;</td><td>9</td><td>&quot;3/2&quot;</td><td>&quot;3/2&quot;</td><td>&quot;-&quot;</td><td>&quot;-&quot;</td><td>0.0529</td><td>0.0529</td><td>0.0004</td><td>0.0004</td></tr><tr><td>5</td><td>&quot;B&quot;</td><td>8</td><td>&quot;2&quot;</td><td>&quot;2&quot;</td><td>&quot;+&quot;</td><td>&quot;+&quot;</td><td>0.0643</td><td>0.0643</td><td>0.0014</td><td>0.0014</td></tr><tr><td>5</td><td>&quot;B&quot;</td><td>10</td><td>&quot;3&quot;</td><td>&quot;3&quot;</td><td>&quot;+&quot;</td><td>&quot;+&quot;</td><td>0.0846</td><td>0.0846</td><td>0.0002</td><td>0.0002</td></tr><tr><td>5</td><td>&quot;B&quot;</td><td>11</td><td>&quot;3/2&quot;</td><td>&quot;3/2&quot;</td><td>&quot;-&quot;</td><td>&quot;-&quot;</td><td>0.04059</td><td>0.04059</td><td>0.0001</td><td>0.0001</td></tr><tr><td>5</td><td>&quot;B&quot;</td><td>12</td><td>&quot;1&quot;</td><td>&quot;1&quot;</td><td>&quot;+&quot;</td><td>&quot;+&quot;</td><td>0.0132</td><td>0.0132</td><td>0.0003</td><td>0.0003</td></tr><tr><td>5</td><td>&quot;B&quot;</td><td>13</td><td>&quot;3/2&quot;</td><td>&quot;3/2&quot;</td><td>&quot;-&quot;</td><td>&quot;-&quot;</td><td>0.0365</td><td>0.0365</td><td>0.0008</td><td>0.0008</td></tr><tr><td>5</td><td>&quot;B&quot;</td><td>14</td><td>&quot;2&quot;</td><td>&quot;2&quot;</td><td>&quot;-&quot;</td><td>&quot;-&quot;</td><td>0.0297</td><td>0.0297</td><td>0.0008</td><td>0.0008</td></tr><tr><td>5</td><td>&quot;B&quot;</td><td>15</td><td>&quot;3/2&quot;</td><td>&quot;3/2&quot;</td><td>&quot;-&quot;</td><td>&quot;-&quot;</td><td>0.0379</td><td>0.0379</td><td>0.0011</td><td>0.0011</td></tr><tr><td>5</td><td>&quot;B&quot;</td><td>17</td><td>&quot;3/2&quot;</td><td>&quot;3/2&quot;</td><td>&quot;-&quot;</td><td>&quot;-&quot;</td><td>0.0385</td><td>0.0385</td><td>0.0015</td><td>0.0015</td></tr><tr><td>6</td><td>&quot;C&quot;</td><td>11</td><td>&quot;3/2&quot;</td><td>&quot;3/2&quot;</td><td>&quot;-&quot;</td><td>&quot;-&quot;</td><td>0.0333</td><td>0.0333</td><td>0.0002</td><td>0.0002</td></tr><tr><td>7</td><td>&quot;N&quot;</td><td>12</td><td>&quot;1&quot;</td><td>&quot;1&quot;</td><td>&quot;+&quot;</td><td>&quot;+&quot;</td><td>0.01</td><td>0.01</td><td>0.0009</td><td>0.0009</td></tr><tr><td>7</td><td>&quot;N&quot;</td><td>14</td><td>&quot;1&quot;</td><td>&quot;1&quot;</td><td>&quot;+&quot;</td><td>&quot;+&quot;</td><td>0.02044</td><td>null</td><td>0.00003</td><td>null</td></tr><tr><td>7</td><td>&quot;N&quot;</td><td>16</td><td>&quot;2&quot;</td><td>&quot;2&quot;</td><td>&quot;-&quot;</td><td>&quot;-&quot;</td><td>0.018</td><td>-0.018</td><td>0.002</td><td>0.002</td></tr><tr><td>7</td><td>&quot;N&quot;</td><td>18</td><td>&quot;1&quot;</td><td>&quot;1&quot;</td><td>&quot;-&quot;</td><td>&quot;-&quot;</td><td>0.0123</td><td>0.0123</td><td>0.0012</td><td>0.0012</td></tr><tr><td>8</td><td>&quot;O&quot;</td><td>13</td><td>&quot;3/2&quot;</td><td>&quot;3/2&quot;</td><td>&quot;-&quot;</td><td>&quot;-&quot;</td><td>0.0111</td><td>0.0111</td><td>0.0008</td><td>0.0008</td></tr><tr><td>8</td><td>&quot;O&quot;</td><td>17</td><td>&quot;5/2&quot;</td><td>&quot;5/2&quot;</td><td>&quot;+&quot;</td><td>&quot;+&quot;</td><td>-0.0256</td><td>null</td><td>0.0002</td><td>null</td></tr><tr><td>8</td><td>&quot;O&quot;</td><td>19</td><td>&quot;5/2&quot;</td><td>&quot;5/2&quot;</td><td>&quot;+&quot;</td><td>&quot;+&quot;</td><td>0.00362</td><td>0.00362</td><td>0.00013</td><td>0.00013</td></tr><tr><td>9</td><td>&quot;F&quot;</td><td>17</td><td>&quot;5/2&quot;</td><td>&quot;5/2&quot;</td><td>&quot;+&quot;</td><td>&quot;+&quot;</td><td>0.076</td><td>0.076</td><td>0.004</td><td>0.004</td></tr><tr><td>9</td><td>&quot;F&quot;</td><td>20</td><td>&quot;2&quot;</td><td>&quot;2&quot;</td><td>&quot;+&quot;</td><td>&quot;+&quot;</td><td>0.056</td><td>0.056</td><td>0.004</td><td>0.004</td></tr><tr><td>9</td><td>&quot;F&quot;</td><td>21</td><td>&quot;5/2&quot;</td><td>&quot;5/2&quot;</td><td>&quot;+&quot;</td><td>&quot;+&quot;</td><td>0.011</td><td>0.011</td><td>0.002</td><td>0.002</td></tr><tr><td>9</td><td>&quot;F&quot;</td><td>22</td><td>&quot;4&quot;</td><td>&quot;4&quot;</td><td>&quot;+&quot;</td><td>&quot;+&quot;</td><td>0.003</td><td>0.003</td><td>0.002</td><td>0.002</td></tr><tr><td>10</td><td>&quot;Ne&quot;</td><td>21</td><td>&quot;3/2&quot;</td><td>&quot;3/2&quot;</td><td>&quot;+&quot;</td><td>&quot;+&quot;</td><td>0.1016</td><td>null</td><td>0.0008</td><td>null</td></tr><tr><td>10</td><td>&quot;Ne&quot;</td><td>23</td><td>&quot;5/2&quot;</td><td>&quot;5/2&quot;</td><td>&quot;+&quot;</td><td>&quot;+&quot;</td><td>0.145</td><td>0.145</td><td>0.013</td><td>0.013</td></tr><tr><td>11</td><td>&quot;Na&quot;</td><td>20</td><td>&quot;2&quot;</td><td>&quot;2&quot;</td><td>&quot;+&quot;</td><td>&quot;+&quot;</td><td>0.101</td><td>0.101</td><td>0.008</td><td>0.008</td></tr><tr><td>11</td><td>&quot;Na&quot;</td><td>21</td><td>&quot;3/2&quot;</td><td>&quot;3/2&quot;</td><td>&quot;+&quot;</td><td>&quot;+&quot;</td><td>0.138</td><td>0.138</td><td>0.011</td><td>0.011</td></tr><tr><td>11</td><td>&quot;Na&quot;</td><td>22</td><td>&quot;3&quot;</td><td>&quot;3&quot;</td><td>&quot;+&quot;</td><td>&quot;+&quot;</td><td>0.18</td><td>0.18</td><td>0.011</td><td>0.011</td></tr><tr><td>11</td><td>&quot;Na&quot;</td><td>23</td><td>&quot;3/2&quot;</td><td>&quot;3/2&quot;</td><td>&quot;+&quot;</td><td>&quot;+&quot;</td><td>0.104</td><td>0.104</td><td>0.001</td><td>0.001</td></tr><tr><td>11</td><td>&quot;Na&quot;</td><td>25</td><td>&quot;5/2&quot;</td><td>&quot;5/2&quot;</td><td>&quot;+&quot;</td><td>&quot;+&quot;</td><td>0.0015</td><td>0.0015</td><td>0.0003</td><td>0.0003</td></tr><tr><td>11</td><td>&quot;Na&quot;</td><td>26</td><td>&quot;3&quot;</td><td>&quot;3&quot;</td><td>&quot;+&quot;</td><td>&quot;+&quot;</td><td>-0.0053</td><td>-0.0053</td><td>0.0002</td><td>0.0002</td></tr><tr><td>11</td><td>&quot;Na&quot;</td><td>27</td><td>&quot;5/2&quot;</td><td>&quot;5/2&quot;</td><td>&quot;+&quot;</td><td>&quot;+&quot;</td><td>-0.0071</td><td>-0.0071</td><td>0.0003</td><td>0.0003</td></tr><tr><td>11</td><td>&quot;Na&quot;</td><td>28</td><td>&quot;1&quot;</td><td>&quot;1&quot;</td><td>&quot;+&quot;</td><td>&quot;+&quot;</td><td>0.389</td><td>0.389</td><td>0.011</td><td>0.011</td></tr><tr><td>11</td><td>&quot;Na&quot;</td><td>29</td><td>&quot;3/2&quot;</td><td>&quot;3/2&quot;</td><td>&quot;+&quot;</td><td>&quot;+&quot;</td><td>0.085</td><td>0.085</td><td>0.003</td><td>0.003</td></tr><tr><td>12</td><td>&quot;Mg&quot;</td><td>23</td><td>&quot;3/2&quot;</td><td>&quot;3/2&quot;</td><td>&quot;+&quot;</td><td>&quot;+&quot;</td><td>0.114</td><td>0.114</td><td>0.003</td><td>0.003</td></tr><tr><td>12</td><td>&quot;Mg&quot;</td><td>25</td><td>&quot;5/2&quot;</td><td>&quot;5/2&quot;</td><td>&quot;+&quot;</td><td>&quot;+&quot;</td><td>0.199</td><td>0.199</td><td>0.002</td><td>0.002</td></tr><tr><td>12</td><td>&quot;Mg&quot;</td><td>29</td><td>&quot;3/2&quot;</td><td>&quot;3/2&quot;</td><td>&quot;+&quot;</td><td>&quot;+&quot;</td><td>-0.16</td><td>-0.16</td><td>0.04</td><td>0.04</td></tr><tr><td>12</td><td>&quot;Mg&quot;</td><td>33</td><td>&quot;3/2&quot;</td><td>&quot;3/2&quot;</td><td>&quot;-&quot;</td><td>&quot;-&quot;</td><td>0.13</td><td>0.13</td><td>0.09</td><td>0.09</td></tr><tr><td>13</td><td>&quot;Al&quot;</td><td>25</td><td>&quot;5/2&quot;</td><td>&quot;5/2&quot;</td><td>&quot;+&quot;</td><td>&quot;+&quot;</td><td>0.24</td><td>0.24</td><td>0.02</td><td>0.02</td></tr><tr><td>13</td><td>&quot;Al&quot;</td><td>26</td><td>&quot;5&quot;</td><td>&quot;5&quot;</td><td>&quot;+&quot;</td><td>&quot;+&quot;</td><td>0.26</td><td>0.26</td><td>0.03</td><td>0.03</td></tr><tr><td>13</td><td>&quot;Al&quot;</td><td>27</td><td>&quot;5/2&quot;</td><td>&quot;5/2&quot;</td><td>&quot;+&quot;</td><td>&quot;+&quot;</td><td>0.1466</td><td>0.1466</td><td>0.001</td><td>0.001</td></tr><tr><td>13</td><td>&quot;Al&quot;</td><td>28</td><td>&quot;3&quot;</td><td>&quot;3&quot;</td><td>&quot;+&quot;</td><td>&quot;+&quot;</td><td>0.172</td><td>0.172</td><td>0.012</td><td>0.012</td></tr><tr><td>13</td><td>&quot;Al&quot;</td><td>31</td><td>&quot;5/2&quot;</td><td>&quot;5/2&quot;</td><td>&quot;+&quot;</td><td>&quot;&quot;</td><td>0.134</td><td>0.134</td><td>0.002</td><td>0.002</td></tr><tr><td>13</td><td>&quot;Al&quot;</td><td>32</td><td>&quot;1&quot;</td><td>&quot;1&quot;</td><td>&quot;+&quot;</td><td>&quot;+&quot;</td><td>0.0255</td><td>0.0255</td><td>0.0003</td><td>0.0003</td></tr><tr><td>13</td><td>&quot;Al&quot;</td><td>33</td><td>&quot;5/2&quot;</td><td>&quot;5/2&quot;</td><td>&quot;+&quot;</td><td>&quot;&quot;</td><td>0.141</td><td>0.141</td><td>0.003</td><td>0.003</td></tr><tr><td>14</td><td>&quot;Si&quot;</td><td>27</td><td>&quot;5/2&quot;</td><td>&quot;5/2&quot;</td><td>&quot;+&quot;</td><td>&quot;+&quot;</td><td>0.063</td><td>0.063</td><td>0.014</td><td>0.014</td></tr><tr><td>&hellip;</td><td>&hellip;</td><td>&hellip;</td><td>&hellip;</td><td>&hellip;</td><td>&hellip;</td><td>&hellip;</td><td>&hellip;</td><td>&hellip;</td><td>&hellip;</td><td>&hellip;</td></tr><tr><td>85</td><td>&quot;At&quot;</td><td>218</td><td>&quot;2&quot;</td><td>&quot;2&quot;</td><td>&quot;&quot;</td><td>&quot;-&quot;</td><td>0.6</td><td>null</td><td>0.4</td><td>null</td></tr><tr><td>85</td><td>&quot;At&quot;</td><td>219</td><td>&quot;9/2&quot;</td><td>&quot;9/2&quot;</td><td>&quot;-&quot;</td><td>&quot;-&quot;</td><td>-1.17</td><td>null</td><td>0.06</td><td>null</td></tr><tr><td>86</td><td>&quot;Rn&quot;</td><td>205</td><td>&quot;5/2&quot;</td><td>&quot;5/2&quot;</td><td>&quot;-&quot;</td><td>&quot;-&quot;</td><td>0.062</td><td>0.062</td><td>0.006</td><td>0.006</td></tr><tr><td>86</td><td>&quot;Rn&quot;</td><td>207</td><td>&quot;5/2&quot;</td><td>&quot;5/2&quot;</td><td>&quot;-&quot;</td><td>&quot;-&quot;</td><td>0.22</td><td>0.22</td><td>0.02</td><td>0.02</td></tr><tr><td>86</td><td>&quot;Rn&quot;</td><td>209</td><td>&quot;5/2&quot;</td><td>&quot;5/2&quot;</td><td>&quot;-&quot;</td><td>&quot;-&quot;</td><td>0.31</td><td>null</td><td>0.03</td><td>null</td></tr><tr><td>86</td><td>&quot;Rn&quot;</td><td>219</td><td>&quot;5/2&quot;</td><td>&quot;5/2&quot;</td><td>&quot;+&quot;</td><td>&quot;+&quot;</td><td>1.15</td><td>1.15</td><td>0.12</td><td>0.12</td></tr><tr><td>86</td><td>&quot;Rn&quot;</td><td>221</td><td>&quot;7/2&quot;</td><td>&quot;7/2&quot;</td><td>&quot;+&quot;</td><td>&quot;+&quot;</td><td>-0.47</td><td>-0.47</td><td>0.05</td><td>0.05</td></tr><tr><td>86</td><td>&quot;Rn&quot;</td><td>223</td><td>&quot;7/2&quot;</td><td>&quot;7/2&quot;</td><td>&quot;&quot;</td><td>&quot;&quot;</td><td>0.8</td><td>0.8</td><td>0.08</td><td>0.08</td></tr><tr><td>86</td><td>&quot;Rn&quot;</td><td>225</td><td>&quot;7/2&quot;</td><td>&quot;7/2&quot;</td><td>&quot;-&quot;</td><td>&quot;-&quot;</td><td>0.84</td><td>0.84</td><td>0.08</td><td>0.08</td></tr><tr><td>87</td><td>&quot;Fr&quot;</td><td>203</td><td>&quot;9/2&quot;</td><td>&quot;9/2&quot;</td><td>&quot;-&quot;</td><td>&quot;-&quot;</td><td>-0.47</td><td>-0.47</td><td>0.02</td><td>0.02</td></tr><tr><td>87</td><td>&quot;Fr&quot;</td><td>204</td><td>&quot;3&quot;</td><td>&quot;3&quot;</td><td>&quot;+&quot;</td><td>&quot;+&quot;</td><td>-0.141</td><td>-0.141</td><td>0.009</td><td>0.009</td></tr><tr><td>87</td><td>&quot;Fr&quot;</td><td>205</td><td>&quot;9/2&quot;</td><td>&quot;9/2&quot;</td><td>&quot;-&quot;</td><td>&quot;-&quot;</td><td>-0.305</td><td>-0.305</td><td>0.018</td><td>0.018</td></tr><tr><td>87</td><td>&quot;Fr&quot;</td><td>206</td><td>&quot;3&quot;</td><td>&quot;3&quot;</td><td>&quot;+&quot;</td><td>&quot;+&quot;</td><td>-0.354</td><td>-0.354</td><td>0.009</td><td>0.009</td></tr><tr><td>87</td><td>&quot;Fr&quot;</td><td>207</td><td>&quot;9/2&quot;</td><td>&quot;9/2&quot;</td><td>&quot;-&quot;</td><td>&quot;-&quot;</td><td>-0.24</td><td>-0.24</td><td>0.02</td><td>0.02</td></tr><tr><td>87</td><td>&quot;Fr&quot;</td><td>208</td><td>&quot;7&quot;</td><td>&quot;7&quot;</td><td>&quot;+&quot;</td><td>&quot;+&quot;</td><td>0.052</td><td>0.052</td><td>0.011</td><td>0.011</td></tr><tr><td>87</td><td>&quot;Fr&quot;</td><td>209</td><td>&quot;9/2&quot;</td><td>&quot;9/2&quot;</td><td>&quot;-&quot;</td><td>&quot;-&quot;</td><td>-0.26</td><td>-0.26</td><td>0.02</td><td>0.02</td></tr><tr><td>87</td><td>&quot;Fr&quot;</td><td>210</td><td>&quot;6&quot;</td><td>&quot;6&quot;</td><td>&quot;+&quot;</td><td>&quot;+&quot;</td><td>0.21</td><td>0.21</td><td>0.02</td><td>0.02</td></tr><tr><td>87</td><td>&quot;Fr&quot;</td><td>211</td><td>&quot;9/2&quot;</td><td>&quot;9/2&quot;</td><td>&quot;-&quot;</td><td>&quot;-&quot;</td><td>-0.21</td><td>-0.21</td><td>0.02</td><td>0.02</td></tr><tr><td>87</td><td>&quot;Fr&quot;</td><td>212</td><td>&quot;5&quot;</td><td>&quot;5&quot;</td><td>&quot;+&quot;</td><td>&quot;+&quot;</td><td>-0.1</td><td>-0.1</td><td>0.002</td><td>0.002</td></tr><tr><td>87</td><td>&quot;Fr&quot;</td><td>213</td><td>&quot;9/2&quot;</td><td>&quot;9/2&quot;</td><td>&quot;-&quot;</td><td>&quot;-&quot;</td><td>-0.138</td><td>-0.138</td><td>0.003</td><td>0.003</td></tr><tr><td>87</td><td>&quot;Fr&quot;</td><td>219</td><td>&quot;5/2&quot;</td><td>&quot;9/2&quot;</td><td>&quot;-&quot;</td><td>&quot;-&quot;</td><td>-1.19</td><td>-1.19</td><td>0.02</td><td>0.02</td></tr><tr><td>87</td><td>&quot;Fr&quot;</td><td>220</td><td>&quot;1&quot;</td><td>&quot;1&quot;</td><td>&quot;+&quot;</td><td>&quot;+&quot;</td><td>0.487</td><td>0.487</td><td>0.008</td><td>0.008</td></tr><tr><td>87</td><td>&quot;Fr&quot;</td><td>221</td><td>&quot;5/2&quot;</td><td>&quot;5/2&quot;</td><td>&quot;-&quot;</td><td>&quot;-&quot;</td><td>-1.02</td><td>-1.02</td><td>0.03</td><td>0.03</td></tr><tr><td>87</td><td>&quot;Fr&quot;</td><td>222</td><td>&quot;2&quot;</td><td>&quot;2&quot;</td><td>&quot;-&quot;</td><td>&quot;-&quot;</td><td>0.51</td><td>0.51</td><td>0.04</td><td>0.04</td></tr><tr><td>87</td><td>&quot;Fr&quot;</td><td>223</td><td>&quot;3/2&quot;</td><td>&quot;3/2&quot;</td><td>&quot;&quot;</td><td>&quot;&quot;</td><td>1.18</td><td>1.18</td><td>0.02</td><td>0.02</td></tr><tr><td>87</td><td>&quot;Fr&quot;</td><td>224</td><td>&quot;1&quot;</td><td>&quot;1&quot;</td><td>&quot;&quot;</td><td>&quot;&quot;</td><td>0.523</td><td>0.523</td><td>0.009</td><td>0.009</td></tr><tr><td>87</td><td>&quot;Fr&quot;</td><td>225</td><td>&quot;3/2&quot;</td><td>&quot;3/2&quot;</td><td>&quot;-&quot;</td><td>&quot;-&quot;</td><td>1.33</td><td>1.33</td><td>0.02</td><td>0.02</td></tr><tr><td>87</td><td>&quot;Fr&quot;</td><td>226</td><td>&quot;1&quot;</td><td>&quot;1&quot;</td><td>&quot;&quot;</td><td>&quot;-&quot;</td><td>-1.37</td><td>-1.37</td><td>0.03</td><td>0.03</td></tr><tr><td>87</td><td>&quot;Fr&quot;</td><td>228</td><td>&quot;2&quot;</td><td>&quot;2&quot;</td><td>&quot;-&quot;</td><td>&quot;-&quot;</td><td>2.41</td><td>2.41</td><td>0.06</td><td>0.06</td></tr><tr><td>88</td><td>&quot;Ra&quot;</td><td>209</td><td>&quot;5/2&quot;</td><td>&quot;5/2&quot;</td><td>&quot;-&quot;</td><td>&quot;-&quot;</td><td>0.39</td><td>0.39</td><td>0.04</td><td>0.04</td></tr><tr><td>88</td><td>&quot;Ra&quot;</td><td>211</td><td>&quot;5/2&quot;</td><td>&quot;5/2&quot;</td><td>&quot;-&quot;</td><td>&quot;-&quot;</td><td>0.46</td><td>0.46</td><td>0.04</td><td>0.04</td></tr><tr><td>88</td><td>&quot;Ra&quot;</td><td>221</td><td>&quot;5/2&quot;</td><td>&quot;5/2&quot;</td><td>&quot;-&quot;</td><td>&quot;-&quot;</td><td>1.92</td><td>1.92</td><td>0.06</td><td>0.06</td></tr><tr><td>88</td><td>&quot;Ra&quot;</td><td>223</td><td>&quot;3/2&quot;</td><td>&quot;3/2&quot;</td><td>&quot;+&quot;</td><td>&quot;+&quot;</td><td>1.22</td><td>1.22</td><td>0.03</td><td>0.03</td></tr><tr><td>88</td><td>&quot;Ra&quot;</td><td>227</td><td>&quot;3/2&quot;</td><td>&quot;3/2&quot;</td><td>&quot;+&quot;</td><td>&quot;+&quot;</td><td>1.53</td><td>1.53</td><td>0.06</td><td>0.06</td></tr><tr><td>88</td><td>&quot;Ra&quot;</td><td>229</td><td>&quot;5/2&quot;</td><td>&quot;5/2&quot;</td><td>&quot;&quot;</td><td>&quot;+&quot;</td><td>2.99</td><td>2.99</td><td>0.12</td><td>0.12</td></tr><tr><td>89</td><td>&quot;Ac&quot;</td><td>214</td><td>&quot;5&quot;</td><td>&quot;5&quot;</td><td>&quot;+&quot;</td><td>&quot;+&quot;</td><td>0.14</td><td>null</td><td>0.08</td><td>null</td></tr><tr><td>89</td><td>&quot;Ac&quot;</td><td>215</td><td>&quot;9/2&quot;</td><td>&quot;9/2&quot;</td><td>&quot;-&quot;</td><td>&quot;-&quot;</td><td>0.04</td><td>null</td><td>0.1</td><td>null</td></tr><tr><td>89</td><td>&quot;Ac&quot;</td><td>227</td><td>&quot;3/2&quot;</td><td>&quot;3/2&quot;</td><td>&quot;-&quot;</td><td>&quot;-&quot;</td><td>1.74</td><td>null</td><td>0.1</td><td>null</td></tr><tr><td>90</td><td>&quot;Th&quot;</td><td>229</td><td>&quot;5/2&quot;</td><td>&quot;5/2&quot;</td><td>&quot;+&quot;</td><td>&quot;+&quot;</td><td>3.11</td><td>3.11</td><td>0.06</td><td>0.06</td></tr><tr><td>91</td><td>&quot;Pa&quot;</td><td>231</td><td>&quot;3/2&quot;</td><td>&quot;3/2&quot;</td><td>&quot;-&quot;</td><td>&quot;-&quot;</td><td>-1.72</td><td>-1.72</td><td>0.05</td><td>0.05</td></tr><tr><td>91</td><td>&quot;Pa&quot;</td><td>233</td><td>&quot;3/2&quot;</td><td>&quot;3/2&quot;</td><td>&quot;-&quot;</td><td>&quot;-&quot;</td><td>-3.0</td><td>-3.0</td><td>0.4</td><td>0.4</td></tr><tr><td>92</td><td>&quot;U&quot;</td><td>233</td><td>&quot;5/2&quot;</td><td>&quot;5/2&quot;</td><td>&quot;+&quot;</td><td>&quot;+&quot;</td><td>3.663</td><td>3.663</td><td>0.008</td><td>0.008</td></tr><tr><td>92</td><td>&quot;U&quot;</td><td>235</td><td>&quot;7/2&quot;</td><td>&quot;7/2&quot;</td><td>&quot;-&quot;</td><td>&quot;-&quot;</td><td>4.936</td><td>4.936</td><td>0.006</td><td>0.006</td></tr><tr><td>93</td><td>&quot;Np&quot;</td><td>237</td><td>&quot;5/2&quot;</td><td>&quot;5/2&quot;</td><td>&quot;+&quot;</td><td>&quot;+&quot;</td><td>3.886</td><td>3.886</td><td>0.006</td><td>0.006</td></tr><tr><td>94</td><td>&quot;Pu&quot;</td><td>241</td><td>&quot;5/2&quot;</td><td>&quot;5/2&quot;</td><td>&quot;+&quot;</td><td>&quot;+&quot;</td><td>6.0</td><td>6.0</td><td>null</td><td>null</td></tr><tr><td>95</td><td>&quot;Am&quot;</td><td>241</td><td>&quot;5/2&quot;</td><td>&quot;5/2&quot;</td><td>&quot;-&quot;</td><td>&quot;-&quot;</td><td>4.34</td><td>4.34</td><td>0.05</td><td>0.05</td></tr><tr><td>95</td><td>&quot;Am&quot;</td><td>242</td><td>&quot;1&quot;</td><td>&quot;1&quot;</td><td>&quot;-&quot;</td><td>&quot;-&quot;</td><td>-2.4</td><td>-2.4</td><td>0.4</td><td>0.4</td></tr><tr><td>95</td><td>&quot;Am&quot;</td><td>243</td><td>&quot;5/2&quot;</td><td>&quot;5/2&quot;</td><td>&quot;-&quot;</td><td>&quot;-&quot;</td><td>4.32</td><td>4.32</td><td>0.06</td><td>0.06</td></tr><tr><td>99</td><td>&quot;Es&quot;</td><td>253</td><td>&quot;7/2&quot;</td><td>&quot;7/2&quot;</td><td>&quot;+&quot;</td><td>&quot;+&quot;</td><td>6.7</td><td>6.7</td><td>0.8</td><td>0.8</td></tr><tr><td>102</td><td>&quot;No&quot;</td><td>253</td><td>&quot;9/2&quot;</td><td>&quot;9/2&quot;</td><td>&quot;-&quot;</td><td>&quot;-&quot;</td><td>5.9</td><td>5.9</td><td>1.7</td><td>1.7</td></tr></tbody></table></div>"
      ],
      "text/plain": [
       "shape: (597, 11)\n",
       "┌─────────────┬────────┬────────────┬──────┬───┬────────────┬────────────┬────────────┬────────────┐\n",
       "│ atomic_numb ┆ symbol ┆ mass_numbe ┆ spin ┆ … ┆ quadrupole ┆ quadrupole ┆ quadrupole ┆ quadrupole │\n",
       "│ er          ┆ ---    ┆ r          ┆ ---  ┆   ┆ _moment    ┆ _moment_tr ┆ _moment_un ┆ _moment_un │\n",
       "│ ---         ┆ str    ┆ ---        ┆ str  ┆   ┆ ---        ┆ ue         ┆ certainty  ┆ certainty_ │\n",
       "│ i64         ┆        ┆ i64        ┆      ┆   ┆ f32        ┆ ---        ┆ ---        ┆ …          │\n",
       "│             ┆        ┆            ┆      ┆   ┆            ┆ f64        ┆ f32        ┆ ---        │\n",
       "│             ┆        ┆            ┆      ┆   ┆            ┆            ┆            ┆ f64        │\n",
       "╞═════════════╪════════╪════════════╪══════╪═══╪════════════╪════════════╪════════════╪════════════╡\n",
       "│ 1           ┆ H      ┆ 2          ┆ 1    ┆ … ┆ 0.002858   ┆ null       ┆ 3.0000e-7  ┆ null       │\n",
       "│ 3           ┆ Li     ┆ 6          ┆ 1    ┆ … ┆ -0.000806  ┆ -0.000806  ┆ 0.000006   ┆ 0.000006   │\n",
       "│ 3           ┆ Li     ┆ 7          ┆ 3/2  ┆ … ┆ -0.04      ┆ -0.04      ┆ 0.0003     ┆ 0.0003     │\n",
       "│ 3           ┆ Li     ┆ 8          ┆ 2    ┆ … ┆ 0.0314     ┆ 0.0314     ┆ 0.0002     ┆ 0.0002     │\n",
       "│ 3           ┆ Li     ┆ 9          ┆ 3/2  ┆ … ┆ -0.0304    ┆ -0.0304    ┆ 0.0002     ┆ 0.0002     │\n",
       "│ 3           ┆ Li     ┆ 11         ┆ 3/2  ┆ … ┆ 0.0333     ┆ -0.0333    ┆ 0.0005     ┆ 0.0005     │\n",
       "│ 4           ┆ Be     ┆ 9          ┆ 3/2  ┆ … ┆ 0.0529     ┆ 0.0529     ┆ 0.0004     ┆ 0.0004     │\n",
       "│ 5           ┆ B      ┆ 8          ┆ 2    ┆ … ┆ 0.0643     ┆ 0.0643     ┆ 0.0014     ┆ 0.0014     │\n",
       "│ 5           ┆ B      ┆ 10         ┆ 3    ┆ … ┆ 0.0846     ┆ 0.0846     ┆ 0.0002     ┆ 0.0002     │\n",
       "│ 5           ┆ B      ┆ 11         ┆ 3/2  ┆ … ┆ 0.04059    ┆ 0.04059    ┆ 0.0001     ┆ 0.0001     │\n",
       "│ 5           ┆ B      ┆ 12         ┆ 1    ┆ … ┆ 0.0132     ┆ 0.0132     ┆ 0.0003     ┆ 0.0003     │\n",
       "│ 5           ┆ B      ┆ 13         ┆ 3/2  ┆ … ┆ 0.0365     ┆ 0.0365     ┆ 0.0008     ┆ 0.0008     │\n",
       "│ 5           ┆ B      ┆ 14         ┆ 2    ┆ … ┆ 0.0297     ┆ 0.0297     ┆ 0.0008     ┆ 0.0008     │\n",
       "│ 5           ┆ B      ┆ 15         ┆ 3/2  ┆ … ┆ 0.0379     ┆ 0.0379     ┆ 0.0011     ┆ 0.0011     │\n",
       "│ 5           ┆ B      ┆ 17         ┆ 3/2  ┆ … ┆ 0.0385     ┆ 0.0385     ┆ 0.0015     ┆ 0.0015     │\n",
       "│ 6           ┆ C      ┆ 11         ┆ 3/2  ┆ … ┆ 0.0333     ┆ 0.0333     ┆ 0.0002     ┆ 0.0002     │\n",
       "│ 7           ┆ N      ┆ 12         ┆ 1    ┆ … ┆ 0.01       ┆ 0.01       ┆ 0.0009     ┆ 0.0009     │\n",
       "│ 7           ┆ N      ┆ 14         ┆ 1    ┆ … ┆ 0.02044    ┆ null       ┆ 0.00003    ┆ null       │\n",
       "│ 7           ┆ N      ┆ 16         ┆ 2    ┆ … ┆ 0.018      ┆ -0.018     ┆ 0.002      ┆ 0.002      │\n",
       "│ 7           ┆ N      ┆ 18         ┆ 1    ┆ … ┆ 0.0123     ┆ 0.0123     ┆ 0.0012     ┆ 0.0012     │\n",
       "│ 8           ┆ O      ┆ 13         ┆ 3/2  ┆ … ┆ 0.0111     ┆ 0.0111     ┆ 0.0008     ┆ 0.0008     │\n",
       "│ 8           ┆ O      ┆ 17         ┆ 5/2  ┆ … ┆ -0.0256    ┆ null       ┆ 0.0002     ┆ null       │\n",
       "│ 8           ┆ O      ┆ 19         ┆ 5/2  ┆ … ┆ 0.00362    ┆ 0.00362    ┆ 0.00013    ┆ 0.00013    │\n",
       "│ 9           ┆ F      ┆ 17         ┆ 5/2  ┆ … ┆ 0.076      ┆ 0.076      ┆ 0.004      ┆ 0.004      │\n",
       "│ 9           ┆ F      ┆ 20         ┆ 2    ┆ … ┆ 0.056      ┆ 0.056      ┆ 0.004      ┆ 0.004      │\n",
       "│ 9           ┆ F      ┆ 21         ┆ 5/2  ┆ … ┆ 0.011      ┆ 0.011      ┆ 0.002      ┆ 0.002      │\n",
       "│ 9           ┆ F      ┆ 22         ┆ 4    ┆ … ┆ 0.003      ┆ 0.003      ┆ 0.002      ┆ 0.002      │\n",
       "│ 10          ┆ Ne     ┆ 21         ┆ 3/2  ┆ … ┆ 0.1016     ┆ null       ┆ 0.0008     ┆ null       │\n",
       "│ 10          ┆ Ne     ┆ 23         ┆ 5/2  ┆ … ┆ 0.145      ┆ 0.145      ┆ 0.013      ┆ 0.013      │\n",
       "│ 11          ┆ Na     ┆ 20         ┆ 2    ┆ … ┆ 0.101      ┆ 0.101      ┆ 0.008      ┆ 0.008      │\n",
       "│ 11          ┆ Na     ┆ 21         ┆ 3/2  ┆ … ┆ 0.138      ┆ 0.138      ┆ 0.011      ┆ 0.011      │\n",
       "│ 11          ┆ Na     ┆ 22         ┆ 3    ┆ … ┆ 0.18       ┆ 0.18       ┆ 0.011      ┆ 0.011      │\n",
       "│ 11          ┆ Na     ┆ 23         ┆ 3/2  ┆ … ┆ 0.104      ┆ 0.104      ┆ 0.001      ┆ 0.001      │\n",
       "│ 11          ┆ Na     ┆ 25         ┆ 5/2  ┆ … ┆ 0.0015     ┆ 0.0015     ┆ 0.0003     ┆ 0.0003     │\n",
       "│ 11          ┆ Na     ┆ 26         ┆ 3    ┆ … ┆ -0.0053    ┆ -0.0053    ┆ 0.0002     ┆ 0.0002     │\n",
       "│ 11          ┆ Na     ┆ 27         ┆ 5/2  ┆ … ┆ -0.0071    ┆ -0.0071    ┆ 0.0003     ┆ 0.0003     │\n",
       "│ 11          ┆ Na     ┆ 28         ┆ 1    ┆ … ┆ 0.389      ┆ 0.389      ┆ 0.011      ┆ 0.011      │\n",
       "│ 11          ┆ Na     ┆ 29         ┆ 3/2  ┆ … ┆ 0.085      ┆ 0.085      ┆ 0.003      ┆ 0.003      │\n",
       "│ 12          ┆ Mg     ┆ 23         ┆ 3/2  ┆ … ┆ 0.114      ┆ 0.114      ┆ 0.003      ┆ 0.003      │\n",
       "│ 12          ┆ Mg     ┆ 25         ┆ 5/2  ┆ … ┆ 0.199      ┆ 0.199      ┆ 0.002      ┆ 0.002      │\n",
       "│ 12          ┆ Mg     ┆ 29         ┆ 3/2  ┆ … ┆ -0.16      ┆ -0.16      ┆ 0.04       ┆ 0.04       │\n",
       "│ 12          ┆ Mg     ┆ 33         ┆ 3/2  ┆ … ┆ 0.13       ┆ 0.13       ┆ 0.09       ┆ 0.09       │\n",
       "│ 13          ┆ Al     ┆ 25         ┆ 5/2  ┆ … ┆ 0.24       ┆ 0.24       ┆ 0.02       ┆ 0.02       │\n",
       "│ 13          ┆ Al     ┆ 26         ┆ 5    ┆ … ┆ 0.26       ┆ 0.26       ┆ 0.03       ┆ 0.03       │\n",
       "│ 13          ┆ Al     ┆ 27         ┆ 5/2  ┆ … ┆ 0.1466     ┆ 0.1466     ┆ 0.001      ┆ 0.001      │\n",
       "│ 13          ┆ Al     ┆ 28         ┆ 3    ┆ … ┆ 0.172      ┆ 0.172      ┆ 0.012      ┆ 0.012      │\n",
       "│ 13          ┆ Al     ┆ 31         ┆ 5/2  ┆ … ┆ 0.134      ┆ 0.134      ┆ 0.002      ┆ 0.002      │\n",
       "│ 13          ┆ Al     ┆ 32         ┆ 1    ┆ … ┆ 0.0255     ┆ 0.0255     ┆ 0.0003     ┆ 0.0003     │\n",
       "│ 13          ┆ Al     ┆ 33         ┆ 5/2  ┆ … ┆ 0.141      ┆ 0.141      ┆ 0.003      ┆ 0.003      │\n",
       "│ 14          ┆ Si     ┆ 27         ┆ 5/2  ┆ … ┆ 0.063      ┆ 0.063      ┆ 0.014      ┆ 0.014      │\n",
       "│ …           ┆ …      ┆ …          ┆ …    ┆ … ┆ …          ┆ …          ┆ …          ┆ …          │\n",
       "│ 85          ┆ At     ┆ 218        ┆ 2    ┆ … ┆ 0.6        ┆ null       ┆ 0.4        ┆ null       │\n",
       "│ 85          ┆ At     ┆ 219        ┆ 9/2  ┆ … ┆ -1.17      ┆ null       ┆ 0.06       ┆ null       │\n",
       "│ 86          ┆ Rn     ┆ 205        ┆ 5/2  ┆ … ┆ 0.062      ┆ 0.062      ┆ 0.006      ┆ 0.006      │\n",
       "│ 86          ┆ Rn     ┆ 207        ┆ 5/2  ┆ … ┆ 0.22       ┆ 0.22       ┆ 0.02       ┆ 0.02       │\n",
       "│ 86          ┆ Rn     ┆ 209        ┆ 5/2  ┆ … ┆ 0.31       ┆ null       ┆ 0.03       ┆ null       │\n",
       "│ 86          ┆ Rn     ┆ 219        ┆ 5/2  ┆ … ┆ 1.15       ┆ 1.15       ┆ 0.12       ┆ 0.12       │\n",
       "│ 86          ┆ Rn     ┆ 221        ┆ 7/2  ┆ … ┆ -0.47      ┆ -0.47      ┆ 0.05       ┆ 0.05       │\n",
       "│ 86          ┆ Rn     ┆ 223        ┆ 7/2  ┆ … ┆ 0.8        ┆ 0.8        ┆ 0.08       ┆ 0.08       │\n",
       "│ 86          ┆ Rn     ┆ 225        ┆ 7/2  ┆ … ┆ 0.84       ┆ 0.84       ┆ 0.08       ┆ 0.08       │\n",
       "│ 87          ┆ Fr     ┆ 203        ┆ 9/2  ┆ … ┆ -0.47      ┆ -0.47      ┆ 0.02       ┆ 0.02       │\n",
       "│ 87          ┆ Fr     ┆ 204        ┆ 3    ┆ … ┆ -0.141     ┆ -0.141     ┆ 0.009      ┆ 0.009      │\n",
       "│ 87          ┆ Fr     ┆ 205        ┆ 9/2  ┆ … ┆ -0.305     ┆ -0.305     ┆ 0.018      ┆ 0.018      │\n",
       "│ 87          ┆ Fr     ┆ 206        ┆ 3    ┆ … ┆ -0.354     ┆ -0.354     ┆ 0.009      ┆ 0.009      │\n",
       "│ 87          ┆ Fr     ┆ 207        ┆ 9/2  ┆ … ┆ -0.24      ┆ -0.24      ┆ 0.02       ┆ 0.02       │\n",
       "│ 87          ┆ Fr     ┆ 208        ┆ 7    ┆ … ┆ 0.052      ┆ 0.052      ┆ 0.011      ┆ 0.011      │\n",
       "│ 87          ┆ Fr     ┆ 209        ┆ 9/2  ┆ … ┆ -0.26      ┆ -0.26      ┆ 0.02       ┆ 0.02       │\n",
       "│ 87          ┆ Fr     ┆ 210        ┆ 6    ┆ … ┆ 0.21       ┆ 0.21       ┆ 0.02       ┆ 0.02       │\n",
       "│ 87          ┆ Fr     ┆ 211        ┆ 9/2  ┆ … ┆ -0.21      ┆ -0.21      ┆ 0.02       ┆ 0.02       │\n",
       "│ 87          ┆ Fr     ┆ 212        ┆ 5    ┆ … ┆ -0.1       ┆ -0.1       ┆ 0.002      ┆ 0.002      │\n",
       "│ 87          ┆ Fr     ┆ 213        ┆ 9/2  ┆ … ┆ -0.138     ┆ -0.138     ┆ 0.003      ┆ 0.003      │\n",
       "│ 87          ┆ Fr     ┆ 219        ┆ 5/2  ┆ … ┆ -1.19      ┆ -1.19      ┆ 0.02       ┆ 0.02       │\n",
       "│ 87          ┆ Fr     ┆ 220        ┆ 1    ┆ … ┆ 0.487      ┆ 0.487      ┆ 0.008      ┆ 0.008      │\n",
       "│ 87          ┆ Fr     ┆ 221        ┆ 5/2  ┆ … ┆ -1.02      ┆ -1.02      ┆ 0.03       ┆ 0.03       │\n",
       "│ 87          ┆ Fr     ┆ 222        ┆ 2    ┆ … ┆ 0.51       ┆ 0.51       ┆ 0.04       ┆ 0.04       │\n",
       "│ 87          ┆ Fr     ┆ 223        ┆ 3/2  ┆ … ┆ 1.18       ┆ 1.18       ┆ 0.02       ┆ 0.02       │\n",
       "│ 87          ┆ Fr     ┆ 224        ┆ 1    ┆ … ┆ 0.523      ┆ 0.523      ┆ 0.009      ┆ 0.009      │\n",
       "│ 87          ┆ Fr     ┆ 225        ┆ 3/2  ┆ … ┆ 1.33       ┆ 1.33       ┆ 0.02       ┆ 0.02       │\n",
       "│ 87          ┆ Fr     ┆ 226        ┆ 1    ┆ … ┆ -1.37      ┆ -1.37      ┆ 0.03       ┆ 0.03       │\n",
       "│ 87          ┆ Fr     ┆ 228        ┆ 2    ┆ … ┆ 2.41       ┆ 2.41       ┆ 0.06       ┆ 0.06       │\n",
       "│ 88          ┆ Ra     ┆ 209        ┆ 5/2  ┆ … ┆ 0.39       ┆ 0.39       ┆ 0.04       ┆ 0.04       │\n",
       "│ 88          ┆ Ra     ┆ 211        ┆ 5/2  ┆ … ┆ 0.46       ┆ 0.46       ┆ 0.04       ┆ 0.04       │\n",
       "│ 88          ┆ Ra     ┆ 221        ┆ 5/2  ┆ … ┆ 1.92       ┆ 1.92       ┆ 0.06       ┆ 0.06       │\n",
       "│ 88          ┆ Ra     ┆ 223        ┆ 3/2  ┆ … ┆ 1.22       ┆ 1.22       ┆ 0.03       ┆ 0.03       │\n",
       "│ 88          ┆ Ra     ┆ 227        ┆ 3/2  ┆ … ┆ 1.53       ┆ 1.53       ┆ 0.06       ┆ 0.06       │\n",
       "│ 88          ┆ Ra     ┆ 229        ┆ 5/2  ┆ … ┆ 2.99       ┆ 2.99       ┆ 0.12       ┆ 0.12       │\n",
       "│ 89          ┆ Ac     ┆ 214        ┆ 5    ┆ … ┆ 0.14       ┆ null       ┆ 0.08       ┆ null       │\n",
       "│ 89          ┆ Ac     ┆ 215        ┆ 9/2  ┆ … ┆ 0.04       ┆ null       ┆ 0.1        ┆ null       │\n",
       "│ 89          ┆ Ac     ┆ 227        ┆ 3/2  ┆ … ┆ 1.74       ┆ null       ┆ 0.1        ┆ null       │\n",
       "│ 90          ┆ Th     ┆ 229        ┆ 5/2  ┆ … ┆ 3.11       ┆ 3.11       ┆ 0.06       ┆ 0.06       │\n",
       "│ 91          ┆ Pa     ┆ 231        ┆ 3/2  ┆ … ┆ -1.72      ┆ -1.72      ┆ 0.05       ┆ 0.05       │\n",
       "│ 91          ┆ Pa     ┆ 233        ┆ 3/2  ┆ … ┆ -3.0       ┆ -3.0       ┆ 0.4        ┆ 0.4        │\n",
       "│ 92          ┆ U      ┆ 233        ┆ 5/2  ┆ … ┆ 3.663      ┆ 3.663      ┆ 0.008      ┆ 0.008      │\n",
       "│ 92          ┆ U      ┆ 235        ┆ 7/2  ┆ … ┆ 4.936      ┆ 4.936      ┆ 0.006      ┆ 0.006      │\n",
       "│ 93          ┆ Np     ┆ 237        ┆ 5/2  ┆ … ┆ 3.886      ┆ 3.886      ┆ 0.006      ┆ 0.006      │\n",
       "│ 94          ┆ Pu     ┆ 241        ┆ 5/2  ┆ … ┆ 6.0        ┆ 6.0        ┆ null       ┆ null       │\n",
       "│ 95          ┆ Am     ┆ 241        ┆ 5/2  ┆ … ┆ 4.34       ┆ 4.34       ┆ 0.05       ┆ 0.05       │\n",
       "│ 95          ┆ Am     ┆ 242        ┆ 1    ┆ … ┆ -2.4       ┆ -2.4       ┆ 0.4        ┆ 0.4        │\n",
       "│ 95          ┆ Am     ┆ 243        ┆ 5/2  ┆ … ┆ 4.32       ┆ 4.32       ┆ 0.06       ┆ 0.06       │\n",
       "│ 99          ┆ Es     ┆ 253        ┆ 7/2  ┆ … ┆ 6.7        ┆ 6.7        ┆ 0.8        ┆ 0.8        │\n",
       "│ 102         ┆ No     ┆ 253        ┆ 9/2  ┆ … ┆ 5.9        ┆ 5.9        ┆ 1.7        ┆ 1.7        │\n",
       "└─────────────┴────────┴────────────┴──────┴───┴────────────┴────────────┴────────────┴────────────┘"
      ]
     },
     "execution_count": 68,
     "metadata": {},
     "output_type": "execute_result"
    }
   ],
   "source": [
    "qmom.select(\n",
    "    ['atomic_number', 'symbol', 'mass_number', 'spin', 'parity', 'quadrupole_moment', 'quadrupole_moment_uncertainty']\n",
    "    ).join(isotopes, on=[\"atomic_number\", \"mass_number\"], suffix=\"_true\", how=\"left\"\n",
    "          ).select(\n",
    "    ['atomic_number', 'symbol', 'mass_number',\n",
    "     'spin', 'spin_true',\n",
    "     'parity', 'parity_true',\n",
    "     'quadrupole_moment', 'quadrupole_moment_true',\n",
    "     'quadrupole_moment_uncertainty','quadrupole_moment_uncertainty_true']\n",
    "    )"
   ]
  },
  {
   "cell_type": "markdown",
   "id": "e0943f87-bafe-4da3-a124-d4e1c67844d6",
   "metadata": {},
   "source": [
    "## Update values in mendleev db"
   ]
  },
  {
   "cell_type": "code",
   "execution_count": 61,
   "id": "eaa4a511-da4b-466d-8064-2f7b30e9cfca",
   "metadata": {},
   "outputs": [],
   "source": [
    "from mendeleev.db import get_session, get_engine\n",
    "from mendeleev.models import Isotope"
   ]
  },
  {
   "cell_type": "code",
   "execution_count": 62,
   "id": "d77853e3-a184-4ad7-8363-0fe3e0ff1918",
   "metadata": {},
   "outputs": [],
   "source": [
    "session = get_session(read_only=False)"
   ]
  },
  {
   "cell_type": "code",
   "execution_count": 70,
   "id": "532770e6-ac25-4cdd-a34e-494932ad62e3",
   "metadata": {},
   "outputs": [],
   "source": [
    "fields = {\"spin\", \"parity\", \"quadrupole_moment\", \"quadrupole_moment_uncertainty\"}\n",
    "for row in qmom.iter_rows(named=True):\n",
    "    iso = (\n",
    "        session.query(Isotope)\n",
    "        .filter_by(atomic_number=row[\"atomic_number\"], mass_number=row[\"mass_number\"])\n",
    "        .update({k: v for k, v in row.items() if k in fields})\n",
    "    )\n",
    "    # session.rollback()\n",
    "    session.commit()\n",
    "session.close()"
   ]
  },
  {
   "cell_type": "markdown",
   "id": "53231336-b3f2-415e-8bcc-6311ba2b6bb7",
   "metadata": {},
   "source": [
    "## Validate"
   ]
  },
  {
   "cell_type": "code",
   "execution_count": 71,
   "id": "7e46e9a2-60d0-4463-8b95-ea68b2c539b4",
   "metadata": {},
   "outputs": [],
   "source": [
    "from mendeleev import H"
   ]
  },
  {
   "cell_type": "code",
   "execution_count": 73,
   "id": "30a89787-c07d-4142-98a7-b4477727576e",
   "metadata": {},
   "outputs": [
    {
     "data": {
      "text/plain": [
       "0.002857800107449293"
      ]
     },
     "execution_count": 73,
     "metadata": {},
     "output_type": "execute_result"
    }
   ],
   "source": [
    "H.isotope(2).quadrupole_moment"
   ]
  },
  {
   "cell_type": "code",
   "execution_count": null,
   "id": "6171cdd8-b323-47ab-b8d0-112492e51beb",
   "metadata": {},
   "outputs": [],
   "source": []
  }
 ],
 "metadata": {
  "kernelspec": {
   "display_name": "Python 3 (ipykernel)",
   "language": "python",
   "name": "python3"
  },
  "language_info": {
   "codemirror_mode": {
    "name": "ipython",
    "version": 3
   },
   "file_extension": ".py",
   "mimetype": "text/x-python",
   "name": "python",
   "nbconvert_exporter": "python",
   "pygments_lexer": "ipython3",
   "version": "3.12.0"
  }
 },
 "nbformat": 4,
 "nbformat_minor": 5
}
