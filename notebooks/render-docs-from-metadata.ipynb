{
 "cells": [
  {
   "cell_type": "code",
   "execution_count": 2,
   "id": "dfc08dfa-d54f-47a9-9983-6259839b8313",
   "metadata": {},
   "outputs": [],
   "source": [
    "from mendeleev.models import ValueOrigin, PropertyMetadata\n",
    "from mendeleev.db import get_session, get_engine\n",
    "from mendeleev.fetch import fetch_table\n",
    "from sqlalchemy import select, distinct"
   ]
  },
  {
   "cell_type": "code",
   "execution_count": 3,
   "id": "bfcf8a73-ecfe-454b-8cd8-ef5690463ca3",
   "metadata": {},
   "outputs": [],
   "source": [
    "from mendeleev.utils import render_rst_table, apply_rst_format"
   ]
  },
  {
   "cell_type": "code",
   "execution_count": 4,
   "id": "d188e6dd-f67d-473b-9bb2-22897794019b",
   "metadata": {},
   "outputs": [],
   "source": [
    "def render_doc_table(class_name: str) -> str:\n",
    "    \"\"\"\n",
    "    Fetch attributes for a specific class and render a table for documentation.\n",
    "    \"\"\"\n",
    "    df = fetch_table(\"propertymetadata\")\n",
    "    df = df.loc[df[\"class_name\"] == class_name]\n",
    "    df = apply_rst_format(df)\n",
    "    \n",
    "    cols = [\n",
    "        'Attribute name',\n",
    "        'Description',\n",
    "        'Unit',\n",
    "        'Value origin',\n",
    "        'Citation keys'\n",
    "    ]\n",
    "    # display version of the column names\n",
    "    return render_rst_table(df[cols].sort_values(\"Attribute name\"))"
   ]
  },
  {
   "cell_type": "code",
   "execution_count": 79,
   "id": "fec2c748-dcb1-449d-9f9b-22604a5c93c8",
   "metadata": {},
   "outputs": [],
   "source": [
    "from docutils import nodes\n",
    "import pandas as pd\n",
    "\n",
    "def pandas_to_docutils_table(df: pd.DataFrame) -> nodes.table:\n",
    "    \"\"\"\n",
    "    Convert a pandas DataFrame into a docutils.table node.\n",
    "\n",
    "    Parameters:\n",
    "    - df (pd.DataFrame): The DataFrame to convert.\n",
    "\n",
    "    Returns:\n",
    "    - nodes.table: A docutils table node representing the DataFrame.\n",
    "    \"\"\"\n",
    "    # Create the table node\n",
    "    table = nodes.table()\n",
    "\n",
    "    # Define the table structure\n",
    "    tgroup = nodes.tgroup(cols=len(df.columns))\n",
    "    table += tgroup\n",
    "\n",
    "    # Define columns\n",
    "    for _ in df.columns:\n",
    "        tgroup += nodes.colspec(colwidth=1)\n",
    "\n",
    "    # Add header row\n",
    "    thead = nodes.thead()\n",
    "    tgroup += thead\n",
    "    header_row = nodes.row()\n",
    "    thead += header_row\n",
    "    for column_name in df.columns:\n",
    "        entry = nodes.entry()\n",
    "        entry += nodes.paragraph(text=str(column_name))\n",
    "        header_row += entry\n",
    "\n",
    "    # Add data rows\n",
    "    tbody = nodes.tbody()\n",
    "    tgroup += tbody\n",
    "    for _, row in df.iterrows():\n",
    "        body_row = nodes.row()\n",
    "        tbody += body_row\n",
    "        for cell in row:\n",
    "            entry = nodes.entry()\n",
    "            entry += nodes.paragraph(text=str(cell))\n",
    "            body_row += entry\n",
    "\n",
    "    return table\n"
   ]
  },
  {
   "cell_type": "code",
   "execution_count": 6,
   "id": "4db78ae5-cda6-4877-b57c-cc436b2d3deb",
   "metadata": {},
   "outputs": [],
   "source": [
    "df = fetch_table(\"propertymetadata\")\n",
    "df = df.loc[df[\"class_name\"] == \"Element\"]"
   ]
  },
  {
   "cell_type": "code",
   "execution_count": 9,
   "id": "94420bb7-5b68-48af-b714-ff48e0b52b01",
   "metadata": {},
   "outputs": [],
   "source": [
    "dut = pandas_to_docutils_table(df)"
   ]
  },
  {
   "cell_type": "code",
   "execution_count": null,
   "id": "bc33ae72-1315-438a-b985-5db8cfe50906",
   "metadata": {},
   "outputs": [],
   "source": []
  },
  {
   "cell_type": "code",
   "execution_count": 36,
   "id": "f6f546d1-fe28-46f7-bb6c-19809ed998fd",
   "metadata": {},
   "outputs": [],
   "source": [
    "from sqlalchemy import MetaData\n",
    "from mendeleev.db import get_engine\n",
    "\n",
    "\n",
    "def get_all_tables():\n",
    "    \"Get all tables in the database\"\n",
    "    # TODO: filter out tables not mapped in ORM\n",
    "    engine = get_engine()\n",
    "\n",
    "    meta = MetaData()\n",
    "    meta.reflect(bind=engine)\n",
    "\n",
    "    return [t.name for t in meta.sorted_tables]"
   ]
  },
  {
   "cell_type": "code",
   "execution_count": 72,
   "id": "a2fb2377-c753-4294-8ce4-31edd3b7198c",
   "metadata": {},
   "outputs": [],
   "source": [
    "from sphinxcontrib.bibtex.roles import CiteRole\n",
    "from sphinxcontrib.bibtex.style.template import SphinxReferenceInfo, SphinxReferenceText\n",
    "from docutils.parsers.rst.roles import set_classes, normalized_role_options"
   ]
  },
  {
   "cell_type": "code",
   "execution_count": 88,
   "id": "c1ed0bf6-ca70-47a6-b16d-594a3d6c2619",
   "metadata": {},
   "outputs": [],
   "source": [
    "info = SphinxReferenceInfo(\n",
    "    builder=\"docutils\",\n",
    "    fromdocname=\"\",\n",
    "    todocname=\"\",\n",
    "    citation_id=\"haynes\",\n",
    "    title=\"test\",\n",
    "    pre_text=\"\",\n",
    "    post_text=\"\"\n",
    ")\n",
    "node = SphinxReferenceText(info)"
   ]
  },
  {
   "cell_type": "code",
   "execution_count": 89,
   "id": "14e60627-16b4-4899-8d9a-914f23b0b21f",
   "metadata": {},
   "outputs": [
    {
     "data": {
      "text/plain": [
       "[<sphinxcontrib.bibtex.style.template.SphinxReferenceText at 0x7f32bdbde7b0>]"
      ]
     },
     "execution_count": 89,
     "metadata": {},
     "output_type": "execute_result"
    }
   ],
   "source": [
    "nodes.paragraph() + [t]"
   ]
  },
  {
   "cell_type": "code",
   "execution_count": null,
   "id": "4052175d-8089-4d7f-bc8e-ea43ab4809c0",
   "metadata": {},
   "outputs": [],
   "source": []
  },
  {
   "cell_type": "code",
   "execution_count": 90,
   "id": "c0e33b98-e140-4ba9-a185-d81d6ee35df3",
   "metadata": {},
   "outputs": [
    {
     "ename": "AssertionError",
     "evalue": "SphinxReferenceText only supports the docutils backend",
     "output_type": "error",
     "traceback": [
      "\u001b[0;31m---------------------------------------------------------------------------\u001b[0m",
      "\u001b[0;31mAssertionError\u001b[0m                            Traceback (most recent call last)",
      "Cell \u001b[0;32mIn[90], line 1\u001b[0m\n\u001b[0;32m----> 1\u001b[0m \u001b[43mt\u001b[49m\u001b[38;5;241;43m.\u001b[39;49m\u001b[43mrender\u001b[49m\u001b[43m(\u001b[49m\u001b[43mbackend\u001b[49m\u001b[38;5;241;43m=\u001b[39;49m\u001b[38;5;124;43m\"\u001b[39;49m\u001b[38;5;124;43mdocutils\u001b[39;49m\u001b[38;5;124;43m\"\u001b[39;49m\u001b[43m)\u001b[49m\n",
      "File \u001b[0;32m~/.cache/pypoetry/virtualenvs/mendeleev-ZDKABmhr-py3.12/lib/python3.12/site-packages/sphinxcontrib/bibtex/style/template.py:157\u001b[0m, in \u001b[0;36mSphinxReferenceText.render\u001b[0;34m(self, backend)\u001b[0m\n\u001b[1;32m    156\u001b[0m \u001b[38;5;28;01mdef\u001b[39;00m \u001b[38;5;21mrender\u001b[39m(\u001b[38;5;28mself\u001b[39m, backend: \u001b[38;5;124m\"\u001b[39m\u001b[38;5;124mBaseBackend\u001b[39m\u001b[38;5;124m\"\u001b[39m) \u001b[38;5;241m-\u001b[39m\u001b[38;5;241m>\u001b[39m List[docutils\u001b[38;5;241m.\u001b[39mnodes\u001b[38;5;241m.\u001b[39mElement]:\n\u001b[0;32m--> 157\u001b[0m     \u001b[38;5;28;01massert\u001b[39;00m \u001b[38;5;28misinstance\u001b[39m(\n\u001b[1;32m    158\u001b[0m         backend, pybtex_docutils\u001b[38;5;241m.\u001b[39mBackend\n\u001b[1;32m    159\u001b[0m     ), \u001b[38;5;124m\"\u001b[39m\u001b[38;5;124mSphinxReferenceText only supports the docutils backend\u001b[39m\u001b[38;5;124m\"\u001b[39m\n\u001b[1;32m    160\u001b[0m     info \u001b[38;5;241m=\u001b[39m \u001b[38;5;28mself\u001b[39m\u001b[38;5;241m.\u001b[39minfo[\u001b[38;5;241m0\u001b[39m]\n\u001b[1;32m    161\u001b[0m     \u001b[38;5;28;01mif\u001b[39;00m info\u001b[38;5;241m.\u001b[39mbuilder\u001b[38;5;241m.\u001b[39mname \u001b[38;5;241m==\u001b[39m \u001b[38;5;124m\"\u001b[39m\u001b[38;5;124mlatex\u001b[39m\u001b[38;5;124m\"\u001b[39m:\n",
      "\u001b[0;31mAssertionError\u001b[0m: SphinxReferenceText only supports the docutils backend"
     ]
    }
   ],
   "source": [
    "t.render(backend=\"docutils\")"
   ]
  },
  {
   "cell_type": "code",
   "execution_count": 63,
   "id": "96537279-4821-4447-81e8-774d74179c06",
   "metadata": {},
   "outputs": [],
   "source": [
    "role = CiteRole()"
   ]
  },
  {
   "cell_type": "code",
   "execution_count": 68,
   "id": "f994830c-7b05-44f2-be60-6115eae3a457",
   "metadata": {},
   "outputs": [
    {
     "data": {
      "text/plain": [
       "\u001b[0;31mSignature:\u001b[0m \u001b[0mrole\u001b[0m\u001b[0;34m.\u001b[0m\u001b[0mcreate_non_xref_node\u001b[0m\u001b[0;34m(\u001b[0m\u001b[0;34m)\u001b[0m \u001b[0;34m->\u001b[0m \u001b[0;34m'tuple[list[Node], list[system_message]]'\u001b[0m\u001b[0;34m\u001b[0m\u001b[0;34m\u001b[0m\u001b[0m\n",
       "\u001b[0;31mDocstring:\u001b[0m <no docstring>\n",
       "\u001b[0;31mFile:\u001b[0m      ~/.cache/pypoetry/virtualenvs/mendeleev-ZDKABmhr-py3.12/lib/python3.12/site-packages/sphinx/roles.py\n",
       "\u001b[0;31mType:\u001b[0m      method"
      ]
     },
     "metadata": {},
     "output_type": "display_data"
    }
   ],
   "source": [
    "role."
   ]
  },
  {
   "cell_type": "code",
   "execution_count": 61,
   "id": "80d459b6-f5fc-4a29-9eef-112819fe04fa",
   "metadata": {},
   "outputs": [
    {
     "ename": "TypeError",
     "evalue": "normalized_role_options() takes 1 positional argument but 2 were given",
     "output_type": "error",
     "traceback": [
      "\u001b[0;31m---------------------------------------------------------------------------\u001b[0m",
      "\u001b[0;31mTypeError\u001b[0m                                 Traceback (most recent call last)",
      "Cell \u001b[0;32mIn[61], line 2\u001b[0m\n\u001b[1;32m      1\u001b[0m citation_key \u001b[38;5;241m=\u001b[39m \u001b[38;5;124m\"\u001b[39m\u001b[38;5;124mHaynes\u001b[39m\u001b[38;5;124m\"\u001b[39m\n\u001b[0;32m----> 2\u001b[0m \u001b[43mnormalized_role_options\u001b[49m\u001b[43m(\u001b[49m\u001b[43m{\u001b[49m\u001b[43m}\u001b[49m\u001b[43m,\u001b[49m\u001b[43m \u001b[49m\u001b[38;5;124;43mf\u001b[39;49m\u001b[38;5;124;43m'\u001b[39;49m\u001b[38;5;124;43m:cite:`\u001b[39;49m\u001b[38;5;132;43;01m{\u001b[39;49;00m\u001b[43mcitation_key\u001b[49m\u001b[38;5;132;43;01m}\u001b[39;49;00m\u001b[38;5;124;43m`\u001b[39;49m\u001b[38;5;124;43m'\u001b[39;49m\u001b[43m)\u001b[49m\n",
      "\u001b[0;31mTypeError\u001b[0m: normalized_role_options() takes 1 positional argument but 2 were given"
     ]
    }
   ],
   "source": [
    "citation_key = \"Haynes\"\n",
    "normalized_role_options({}, f':cite:`{citation_key}`')"
   ]
  },
  {
   "cell_type": "code",
   "execution_count": 56,
   "id": "4f6daeaf-15a7-4475-beb6-69844b07485c",
   "metadata": {},
   "outputs": [],
   "source": [
    "node = CiteRole()"
   ]
  },
  {
   "cell_type": "code",
   "execution_count": 57,
   "id": "df5c2535-2b04-417b-a85b-182626b4b7e5",
   "metadata": {},
   "outputs": [
    {
     "ename": "AttributeError",
     "evalue": "'CiteRole' object has no attribute 'target'",
     "output_type": "error",
     "traceback": [
      "\u001b[0;31m---------------------------------------------------------------------------\u001b[0m",
      "\u001b[0;31mAttributeError\u001b[0m                            Traceback (most recent call last)",
      "Cell \u001b[0;32mIn[57], line 1\u001b[0m\n\u001b[0;32m----> 1\u001b[0m \u001b[43mnode\u001b[49m\u001b[38;5;241;43m.\u001b[39;49m\u001b[43mcreate_xref_node\u001b[49m\u001b[43m(\u001b[49m\u001b[43m)\u001b[49m\n",
      "File \u001b[0;32m~/.cache/pypoetry/virtualenvs/mendeleev-ZDKABmhr-py3.12/lib/python3.12/site-packages/sphinx/roles.py:126\u001b[0m, in \u001b[0;36mXRefRole.create_xref_node\u001b[0;34m(self)\u001b[0m\n\u001b[1;32m    125\u001b[0m \u001b[38;5;28;01mdef\u001b[39;00m \u001b[38;5;21mcreate_xref_node\u001b[39m(\u001b[38;5;28mself\u001b[39m) \u001b[38;5;241m-\u001b[39m\u001b[38;5;241m>\u001b[39m \u001b[38;5;28mtuple\u001b[39m[\u001b[38;5;28mlist\u001b[39m[Node], \u001b[38;5;28mlist\u001b[39m[system_message]]:\n\u001b[0;32m--> 126\u001b[0m     target \u001b[38;5;241m=\u001b[39m \u001b[38;5;28;43mself\u001b[39;49m\u001b[38;5;241;43m.\u001b[39;49m\u001b[43mtarget\u001b[49m\n\u001b[1;32m    127\u001b[0m     title \u001b[38;5;241m=\u001b[39m \u001b[38;5;28mself\u001b[39m\u001b[38;5;241m.\u001b[39mtitle\n\u001b[1;32m    128\u001b[0m     \u001b[38;5;28;01mif\u001b[39;00m \u001b[38;5;28mself\u001b[39m\u001b[38;5;241m.\u001b[39mlowercase:\n",
      "\u001b[0;31mAttributeError\u001b[0m: 'CiteRole' object has no attribute 'target'"
     ]
    }
   ],
   "source": [
    "node.create_xref_node()"
   ]
  },
  {
   "cell_type": "code",
   "execution_count": 49,
   "id": "010a7308-7eca-4d63-b732-7caec3b2f1fc",
   "metadata": {},
   "outputs": [
    {
     "name": "stdout",
     "output_type": "stream",
     "text": [
      "<pending_xref text=\"Haynes\">\n",
      "\n"
     ]
    }
   ],
   "source": [
    "print(node.pformat())"
   ]
  },
  {
   "cell_type": "code",
   "execution_count": 37,
   "id": "87bf3e9a-ec8f-46b8-95a3-941bf899cc3d",
   "metadata": {},
   "outputs": [
    {
     "data": {
      "text/plain": [
       "['alembic_version',\n",
       " 'groups',\n",
       " 'ionizationenergies',\n",
       " 'phasetransitions',\n",
       " 'propertymetadata',\n",
       " 'scattering_factors',\n",
       " 'series',\n",
       " 'elements',\n",
       " 'ionicradii',\n",
       " 'isotopes',\n",
       " 'oxidationstates',\n",
       " 'screeningconstants',\n",
       " 'isotopedecaymodes']"
      ]
     },
     "execution_count": 37,
     "metadata": {},
     "output_type": "execute_result"
    }
   ],
   "source": [
    "get_all_tables()"
   ]
  },
  {
   "cell_type": "code",
   "execution_count": 38,
   "id": "d06c2e25-6fd7-4667-8dfc-59dcb56770f5",
   "metadata": {},
   "outputs": [],
   "source": [
    "from mendeleev import models"
   ]
  },
  {
   "cell_type": "code",
   "execution_count": 39,
   "id": "1208ff55-bcdb-4027-a3ac-bab8487505a5",
   "metadata": {},
   "outputs": [
    {
     "data": {
      "text/plain": [
       "['Element',\n",
       " 'Group',\n",
       " 'IonicRadius',\n",
       " 'IonizationEnergy',\n",
       " 'Isotope',\n",
       " 'IsotopeDecayMode',\n",
       " 'OxidationState',\n",
       " 'PhaseTransition',\n",
       " 'PropertyMetadata',\n",
       " 'ScatteringFactor',\n",
       " 'ScreeningConstant',\n",
       " 'Series']"
      ]
     },
     "execution_count": 39,
     "metadata": {},
     "output_type": "execute_result"
    }
   ],
   "source": [
    "models.__all__"
   ]
  },
  {
   "cell_type": "code",
   "execution_count": 40,
   "id": "896024e2-582f-4d36-80ba-374a6d3341aa",
   "metadata": {},
   "outputs": [
    {
     "data": {
      "text/plain": [
       "['Admonition',\n",
       " 'BackLinkable',\n",
       " 'Bibliographic',\n",
       " 'Body',\n",
       " 'Counter',\n",
       " 'Decorative',\n",
       " 'Element',\n",
       " 'FixedTextElement',\n",
       " 'General',\n",
       " 'GenericNodeVisitor',\n",
       " 'Inline',\n",
       " 'Invisible',\n",
       " 'Labeled',\n",
       " 'Node',\n",
       " 'NodeFound',\n",
       " 'NodeVisitor',\n",
       " 'Part',\n",
       " 'PreBibliographic',\n",
       " 'Referential',\n",
       " 'Resolvable',\n",
       " 'Root',\n",
       " 'Sequential',\n",
       " 'SkipChildren',\n",
       " 'SkipDeparture',\n",
       " 'SkipNode',\n",
       " 'SkipSiblings',\n",
       " 'SparseNodeVisitor',\n",
       " 'Special',\n",
       " 'StopTraversal',\n",
       " 'Structural',\n",
       " 'Targetable',\n",
       " 'Text',\n",
       " 'TextElement',\n",
       " 'Titular',\n",
       " 'TreeCopyVisitor',\n",
       " 'TreePruningException',\n",
       " '__builtins__',\n",
       " '__cached__',\n",
       " '__doc__',\n",
       " '__docformat__',\n",
       " '__file__',\n",
       " '__loader__',\n",
       " '__name__',\n",
       " '__package__',\n",
       " '__spec__',\n",
       " '_add_node_class_names',\n",
       " '_call_default_departure',\n",
       " '_call_default_visit',\n",
       " '_non_id_at_ends',\n",
       " '_non_id_chars',\n",
       " '_non_id_translate',\n",
       " '_non_id_translate_digraphs',\n",
       " '_nop',\n",
       " 'abbreviation',\n",
       " 'acronym',\n",
       " 'address',\n",
       " 'admonition',\n",
       " 'attention',\n",
       " 'attribution',\n",
       " 'author',\n",
       " 'authors',\n",
       " 'block_quote',\n",
       " 'bullet_list',\n",
       " 'caption',\n",
       " 'caution',\n",
       " 'citation',\n",
       " 'citation_reference',\n",
       " 'classifier',\n",
       " 'colspec',\n",
       " 'comment',\n",
       " 'compound',\n",
       " 'contact',\n",
       " 'container',\n",
       " 'copyright',\n",
       " 'danger',\n",
       " 'date',\n",
       " 'decoration',\n",
       " 'definition',\n",
       " 'definition_list',\n",
       " 'definition_list_item',\n",
       " 'description',\n",
       " 'docinfo',\n",
       " 'doctest_block',\n",
       " 'document',\n",
       " 'dupname',\n",
       " 'emphasis',\n",
       " 'ensure_str',\n",
       " 'entry',\n",
       " 'enumerated_list',\n",
       " 'error',\n",
       " 'field',\n",
       " 'field_body',\n",
       " 'field_list',\n",
       " 'field_name',\n",
       " 'figure',\n",
       " 'footer',\n",
       " 'footnote',\n",
       " 'footnote_reference',\n",
       " 'fully_normalize_name',\n",
       " 'generated',\n",
       " 'header',\n",
       " 'hint',\n",
       " 'image',\n",
       " 'important',\n",
       " 'inline',\n",
       " 'label',\n",
       " 'legend',\n",
       " 'line',\n",
       " 'line_block',\n",
       " 'list_item',\n",
       " 'literal',\n",
       " 'literal_block',\n",
       " 'make_id',\n",
       " 'math',\n",
       " 'math_block',\n",
       " 'meta',\n",
       " 'node_class_names',\n",
       " 'note',\n",
       " 'option',\n",
       " 'option_argument',\n",
       " 'option_group',\n",
       " 'option_list',\n",
       " 'option_list_item',\n",
       " 'option_string',\n",
       " 'organization',\n",
       " 'paragraph',\n",
       " 'pending',\n",
       " 'problematic',\n",
       " 'pseudo_quoteattr',\n",
       " 'raw',\n",
       " 're',\n",
       " 'reference',\n",
       " 'reprunicode',\n",
       " 'revision',\n",
       " 'row',\n",
       " 'rubric',\n",
       " 'section',\n",
       " 'serial_escape',\n",
       " 'sidebar',\n",
       " 'status',\n",
       " 'strong',\n",
       " 'subscript',\n",
       " 'substitution_definition',\n",
       " 'substitution_reference',\n",
       " 'subtitle',\n",
       " 'superscript',\n",
       " 'sys',\n",
       " 'system_message',\n",
       " 'table',\n",
       " 'target',\n",
       " 'tbody',\n",
       " 'term',\n",
       " 'tgroup',\n",
       " 'thead',\n",
       " 'tip',\n",
       " 'title',\n",
       " 'title_reference',\n",
       " 'topic',\n",
       " 'transition',\n",
       " 'unescape',\n",
       " 'unicodedata',\n",
       " 'version',\n",
       " 'warning',\n",
       " 'warnings',\n",
       " 'whitespace_normalize_name']"
      ]
     },
     "execution_count": 40,
     "metadata": {},
     "output_type": "execute_result"
    }
   ],
   "source": [
    "dir(nodes)"
   ]
  },
  {
   "cell_type": "code",
   "execution_count": null,
   "id": "c692907c-6a3a-453c-b097-326d90453c07",
   "metadata": {},
   "outputs": [],
   "source": []
  },
  {
   "cell_type": "markdown",
   "id": "923addd1-f2c6-4cfd-9d6f-6dd2727b292c",
   "metadata": {},
   "source": [
    "## Elements"
   ]
  },
  {
   "cell_type": "code",
   "execution_count": null,
   "id": "140f15ed-bbab-4376-9374-17871698c87f",
   "metadata": {
    "scrolled": true
   },
   "outputs": [],
   "source": [
    "table = render_doc_table(\"Element\")\n",
    "print(table)"
   ]
  },
  {
   "cell_type": "markdown",
   "id": "8c68e88e-e30c-440d-b8ce-981273fe6e7c",
   "metadata": {},
   "source": [
    "## IonicRadius"
   ]
  },
  {
   "cell_type": "code",
   "execution_count": null,
   "id": "5d26ad06-af78-499a-abf6-32e4eff18ef3",
   "metadata": {},
   "outputs": [],
   "source": [
    "table = render_doc_table(\"IonicRadius\")\n",
    "print(table)"
   ]
  },
  {
   "cell_type": "markdown",
   "id": "230f1375-8476-4644-b41f-1deed0a29dc4",
   "metadata": {},
   "source": [
    "## Isotopes"
   ]
  },
  {
   "cell_type": "code",
   "execution_count": null,
   "id": "b605fec2-d336-4662-9819-837cc8a766f3",
   "metadata": {},
   "outputs": [],
   "source": [
    "table = render_doc_table(\"Isotope\")\n",
    "print(table)"
   ]
  },
  {
   "cell_type": "markdown",
   "id": "ad2138e2-4439-4348-81b5-fa00919ca05c",
   "metadata": {},
   "source": [
    "## Isotope Decay Modes"
   ]
  },
  {
   "cell_type": "code",
   "execution_count": null,
   "id": "7b529265-14d6-4306-b6d7-8c7f32a4f6df",
   "metadata": {},
   "outputs": [],
   "source": [
    "table = render_doc_table(\"IsotopeDecayMode\")\n",
    "print(table)"
   ]
  },
  {
   "cell_type": "markdown",
   "id": "4fbe1d2c-26c2-4c27-94c6-4ae6b66c4685",
   "metadata": {},
   "source": [
    "## Atomic Scattering Factors"
   ]
  },
  {
   "cell_type": "code",
   "execution_count": null,
   "id": "81a79ab6-b0bb-474f-aba7-a7dae85b9ced",
   "metadata": {},
   "outputs": [],
   "source": [
    "table = render_doc_table(\"ScatteringFactor\")\n",
    "print(table)"
   ]
  },
  {
   "cell_type": "markdown",
   "id": "2c866a3a-5800-4826-920e-c6cbcc8d504f",
   "metadata": {},
   "source": [
    "## Ionization Energies"
   ]
  },
  {
   "cell_type": "code",
   "execution_count": 20,
   "id": "11f567eb-271b-42bc-af49-2d524ab6ec5c",
   "metadata": {},
   "outputs": [
    {
     "name": "stdout",
     "output_type": "stream",
     "text": [
      "+---------------------------+-------------------------------------------------------------------------+------+--------------+---------------+\n",
      "| Attribute name            | Description                                                             | Unit | Value origin | Citation keys |\n",
      "+===========================+=========================================================================+======+==============+===============+\n",
      "| ``atomic_number``         | Atomic number of the element                                            |      | stored       |               |\n",
      "+---------------------------+-------------------------------------------------------------------------+------+--------------+---------------+\n",
      "| ``ground_configuration``  | Ground state electronic configuration                                   |      | stored       |               |\n",
      "+---------------------------+-------------------------------------------------------------------------+------+--------------+---------------+\n",
      "| ``ground_level``          | Term symbol and *J* value for the largest component in the ground level |      | stored       |               |\n",
      "+---------------------------+-------------------------------------------------------------------------+------+--------------+---------------+\n",
      "| ``ground_shells``         | Ground state shells                                                     |      | stored       |               |\n",
      "+---------------------------+-------------------------------------------------------------------------+------+--------------+---------------+\n",
      "| ``ion_charge``            | Charge of the ion (degree of ionization relative to neutral atom)       |      | stored       |               |\n",
      "+---------------------------+-------------------------------------------------------------------------+------+--------------+---------------+\n",
      "| ``ionization_energy``     | Ionization energy in eV                                                 | eV   | stored       |               |\n",
      "+---------------------------+-------------------------------------------------------------------------+------+--------------+---------------+\n",
      "| ``ionized_level``         | Configuration, term, and *J* value of the next ionized state            |      | stored       |               |\n",
      "+---------------------------+-------------------------------------------------------------------------+------+--------------+---------------+\n",
      "| ``is_semi_empirical``     | Flag for semi-empirical determination of the ionization energy          |      | stored       |               |\n",
      "+---------------------------+-------------------------------------------------------------------------+------+--------------+---------------+\n",
      "| ``is_theoretical``        | Flag for theoretical determination of the ionization energy             |      | stored       |               |\n",
      "+---------------------------+-------------------------------------------------------------------------+------+--------------+---------------+\n",
      "| ``isoelectonic_sequence`` | Isoelectronic sequence of the species                                   |      | stored       |               |\n",
      "+---------------------------+-------------------------------------------------------------------------+------+--------------+---------------+\n",
      "| ``references``            | References related to the ionization energies                           |      | stored       |               |\n",
      "+---------------------------+-------------------------------------------------------------------------+------+--------------+---------------+\n",
      "| ``species_name``          | Name of the species                                                     |      | stored       |               |\n",
      "+---------------------------+-------------------------------------------------------------------------+------+--------------+---------------+\n",
      "| ``uncertainty``           | Uncertainty in the ionization energy measurement                        | eV   | stored       |               |\n",
      "+---------------------------+-------------------------------------------------------------------------+------+--------------+---------------+\n"
     ]
    }
   ],
   "source": [
    "table = render_doc_table(\"IonizationEnergy\")\n",
    "print(table)"
   ]
  },
  {
   "cell_type": "markdown",
   "id": "fcc7db46-8ef9-482f-8202-9f2e1138de97",
   "metadata": {},
   "source": [
    "## Screening Constants"
   ]
  },
  {
   "cell_type": "code",
   "execution_count": null,
   "id": "ede28c4c-cb74-4670-8bfb-09b583785d42",
   "metadata": {},
   "outputs": [],
   "source": [
    "table = render_doc_table(\"ScreeningConstant\")\n",
    "print(table)"
   ]
  },
  {
   "cell_type": "markdown",
   "id": "f50ff7ef-e18b-47cf-aa08-3e3c3343818f",
   "metadata": {},
   "source": [
    "## Oxidation States"
   ]
  },
  {
   "cell_type": "code",
   "execution_count": null,
   "id": "8601497d-df35-4759-bf78-5228d965f733",
   "metadata": {},
   "outputs": [],
   "source": [
    "table = render_doc_table(\"OxidationState\")\n",
    "print(table)"
   ]
  },
  {
   "cell_type": "markdown",
   "id": "3408b575-0b11-4320-8847-8a44d09fc033",
   "metadata": {},
   "source": [
    "## Phase Transition"
   ]
  },
  {
   "cell_type": "code",
   "execution_count": null,
   "id": "ad55bb92-9a44-4130-9d5c-5ec53fea519e",
   "metadata": {},
   "outputs": [],
   "source": [
    "table = render_doc_table(\"PhaseTransition\")\n",
    "print(table)"
   ]
  },
  {
   "cell_type": "code",
   "execution_count": 3,
   "id": "c33e17c6-0814-42ca-a33e-cbb64bd9db3c",
   "metadata": {},
   "outputs": [],
   "source": [
    "from jinja2 import Environment"
   ]
  },
  {
   "cell_type": "code",
   "execution_count": 12,
   "id": "61c9b8e2-0cb0-4258-bbfb-3e0c0b660941",
   "metadata": {},
   "outputs": [],
   "source": [
    "template_string = \"\"\"\n",
    "{{ class_name }}\n",
    "{{ underline }}\n",
    "\n",
    "{{ table }}\n",
    "\"\"\"\n",
    "\n",
    "env = Environment()\n",
    "template = env.from_string(template_string)"
   ]
  },
  {
   "cell_type": "code",
   "execution_count": 16,
   "id": "8a669fd9-6b2f-41ba-b5ba-ef2c71b0e320",
   "metadata": {
    "scrolled": true
   },
   "outputs": [
    {
     "name": "stdout",
     "output_type": "stream",
     "text": [
      "\n",
      "Element\n",
      "=======\n",
      "\n",
      "+-----------------------------------------+----------------------------------------------------------------------+----------------+--------------+------------------------------------------------+\n",
      "| Attribute name                          | Description                                                          | Unit           | Value origin | Citation keys                                  |\n",
      "+=========================================+======================================================================+================+==============+================================================+\n",
      "| ``abundance_crust``                     | Abundance in the Earth's crust                                       | mg/kg          | stored       | :cite:`haynes2014crc`                          |\n",
      "+-----------------------------------------+----------------------------------------------------------------------+----------------+--------------+------------------------------------------------+\n",
      "| ``abundance_sea``                       | Abundance in the seas                                                | mg/L           | stored       | :cite:`haynes2014crc`                          |\n",
      "+-----------------------------------------+----------------------------------------------------------------------+----------------+--------------+------------------------------------------------+\n",
      "| ``atomic_number``                       | Atomic number                                                        |                | stored       |                                                |\n",
      "+-----------------------------------------+----------------------------------------------------------------------+----------------+--------------+------------------------------------------------+\n",
      "| ``atomic_radius_rahm``                  | Atomic radius by Rahm et al.                                         | pm             | stored       | :cite:`Rahm2016,Rahm2017`                      |\n",
      "+-----------------------------------------+----------------------------------------------------------------------+----------------+--------------+------------------------------------------------+\n",
      "| ``atomic_radius``                       | Atomic radius                                                        | pm             | stored       | :cite:`Slater1964`                             |\n",
      "+-----------------------------------------+----------------------------------------------------------------------+----------------+--------------+------------------------------------------------+\n",
      "| ``atomic_volume``                       | Atomic volume                                                        | cm^3/mol       | stored       |                                                |\n",
      "+-----------------------------------------+----------------------------------------------------------------------+----------------+--------------+------------------------------------------------+\n",
      "| ``atomic_weight_uncertainty``           | Atomic weight uncertainty                                            | Da             | stored       | :cite:`Meija2016,iupac-weights`                |\n",
      "+-----------------------------------------+----------------------------------------------------------------------+----------------+--------------+------------------------------------------------+\n",
      "| ``atomic_weight``                       | Relative atomic weight ([#f_atomic_weight]_)                         | Da             | stored       | :cite:`Meija2016,iupac-weights`                |\n",
      "+-----------------------------------------+----------------------------------------------------------------------+----------------+--------------+------------------------------------------------+\n",
      "| ``block``                               | Block in periodic table                                              |                | stored       |                                                |\n",
      "+-----------------------------------------+----------------------------------------------------------------------+----------------+--------------+------------------------------------------------+\n",
      "| ``boiling_point``                       | Boiling point                                                        | K              | stored       | :cite:`haynes2016crc`                          |\n",
      "+-----------------------------------------+----------------------------------------------------------------------+----------------+--------------+------------------------------------------------+\n",
      "| ``c6_gb``                               | C_6 dispersion coefficient according to Gould & Bučko                | hartree/bohr^6 | stored       | :cite:`Gould2016`                              |\n",
      "+-----------------------------------------+----------------------------------------------------------------------+----------------+--------------+------------------------------------------------+\n",
      "| ``c6``                                  | C_6 dispersion coefficient                                           | hartree/bohr^6 | stored       | :cite:`Chu2004,Tang1976`                       |\n",
      "+-----------------------------------------+----------------------------------------------------------------------+----------------+--------------+------------------------------------------------+\n",
      "| ``cas``                                 | Chemical Abstracts Serice identifier                                 |                | stored       |                                                |\n",
      "+-----------------------------------------+----------------------------------------------------------------------+----------------+--------------+------------------------------------------------+\n",
      "| ``covalent_radius_bragg``               | Covalent radius by Bragg                                             | pm             | stored       | :cite:`Bragg1920`                              |\n",
      "+-----------------------------------------+----------------------------------------------------------------------+----------------+--------------+------------------------------------------------+\n",
      "| ``covalent_radius_cordero``             | Covalent radius by Cerdero et al. ([#f_covalent_radius_cordero]_)    | pm             | stored       | :cite:`Cordero2008`                            |\n",
      "+-----------------------------------------+----------------------------------------------------------------------+----------------+--------------+------------------------------------------------+\n",
      "| ``covalent_radius_pyykko_double``       | Double bond covalent radius by Pyykko et al.                         | pm             | stored       | :cite:`Pyykko2009a`                            |\n",
      "+-----------------------------------------+----------------------------------------------------------------------+----------------+--------------+------------------------------------------------+\n",
      "| ``covalent_radius_pyykko_triple``       | Triple bond covalent radius by Pyykko et al.                         | pm             | stored       | :cite:`Pyykko2005`                             |\n",
      "+-----------------------------------------+----------------------------------------------------------------------+----------------+--------------+------------------------------------------------+\n",
      "| ``covalent_radius_pyykko``              | Single bond covalent radius by Pyykko et al.                         | pm             | stored       | :cite:`Pyykko2009`                             |\n",
      "+-----------------------------------------+----------------------------------------------------------------------+----------------+--------------+------------------------------------------------+\n",
      "| ``cpk_color``                           | Element color in CPK convention as HEX codes.                        |                | stored       | :cite:`wiki-cpk`                               |\n",
      "+-----------------------------------------+----------------------------------------------------------------------+----------------+--------------+------------------------------------------------+\n",
      "| ``critical_pressure``                   | Critical pressure                                                    | MPa            | stored       | :cite:`haynes2016crc`                          |\n",
      "+-----------------------------------------+----------------------------------------------------------------------+----------------+--------------+------------------------------------------------+\n",
      "| ``critical_temperature``                | Critical temperature                                                 | K              | stored       | :cite:`haynes2016crc`                          |\n",
      "+-----------------------------------------+----------------------------------------------------------------------+----------------+--------------+------------------------------------------------+\n",
      "| ``density``                             | Density at 295K ([#f_density]_)                                      | g/cm^3         | stored       | :cite:`haynes2014crc,enwiki:1039678864`        |\n",
      "+-----------------------------------------+----------------------------------------------------------------------+----------------+--------------+------------------------------------------------+\n",
      "| ``description``                         | Short description of the element                                     |                | stored       |                                                |\n",
      "+-----------------------------------------+----------------------------------------------------------------------+----------------+--------------+------------------------------------------------+\n",
      "| ``dipole_polarizability_unc``           | Uncertainty of the dipole polarizability                             | bohr^3         | stored       | :cite:`Schwerdtfeger2018`                      |\n",
      "+-----------------------------------------+----------------------------------------------------------------------+----------------+--------------+------------------------------------------------+\n",
      "| ``dipole_polarizability``               | Dipole polarizability                                                | bohr^3         | stored       | :cite:`Schwerdtfeger2018`                      |\n",
      "+-----------------------------------------+----------------------------------------------------------------------+----------------+--------------+------------------------------------------------+\n",
      "| ``discoverers``                         | The discoverers of the element                                       |                | stored       |                                                |\n",
      "+-----------------------------------------+----------------------------------------------------------------------+----------------+--------------+------------------------------------------------+\n",
      "| ``discovery_location``                  | The location where the element was discovered                        |                | stored       |                                                |\n",
      "+-----------------------------------------+----------------------------------------------------------------------+----------------+--------------+------------------------------------------------+\n",
      "| ``discovery_year``                      | The year the element was discovered                                  |                | stored       |                                                |\n",
      "+-----------------------------------------+----------------------------------------------------------------------+----------------+--------------+------------------------------------------------+\n",
      "| ``econf``                               | Ground state electronic configuration                                |                | stored       |                                                |\n",
      "+-----------------------------------------+----------------------------------------------------------------------+----------------+--------------+------------------------------------------------+\n",
      "| ``electron_affinity``                   | Electron affinity ([#f_electron_affinity]_)                          | eV             | stored       | :cite:`haynes2014crc,Andersen2004`             |\n",
      "+-----------------------------------------+----------------------------------------------------------------------+----------------+--------------+------------------------------------------------+\n",
      "| ``electronegativity_allen``             | Allen's scale of electronegativity ([#f_electronegativity_allen]_)   | eV             | stored       | :cite:`Mann2000a,Mann2000`                     |\n",
      "+-----------------------------------------+----------------------------------------------------------------------+----------------+--------------+------------------------------------------------+\n",
      "| ``electronegativity_allred_rochow``     | Allred and Rochow's scale of electronegativity                       | e^2/pm^2       | computed     | :cite:`Allred1958`                             |\n",
      "+-----------------------------------------+----------------------------------------------------------------------+----------------+--------------+------------------------------------------------+\n",
      "| ``electronegativity_cottrell_sutton``   | Cottrell and Sutton's scale of electronegativity                     | e^0.5/pm^0.5   | computed     | :cite:`Cottrell1951`                           |\n",
      "+-----------------------------------------+----------------------------------------------------------------------+----------------+--------------+------------------------------------------------+\n",
      "| ``electronegativity_ghosh``             | Ghosh's scale of electronegativity                                   | 1/pm           | stored       | :cite:`Ghosh2005`                              |\n",
      "+-----------------------------------------+----------------------------------------------------------------------+----------------+--------------+------------------------------------------------+\n",
      "| ``electronegativity_gordy``             | Gordy's scale of electronegativity                                   | e/pm           | computed     | :cite:`Gordy1946`                              |\n",
      "+-----------------------------------------+----------------------------------------------------------------------+----------------+--------------+------------------------------------------------+\n",
      "| ``electronegativity_li_xue``            | Li and Xue's scale of electronegativity                              | 1/pm           | computed     | :cite:`Li2006,Li2009`                          |\n",
      "+-----------------------------------------+----------------------------------------------------------------------+----------------+--------------+------------------------------------------------+\n",
      "| ``electronegativity_martynov_batsanov`` | Martynov and Batsanov's scale of electronegativity                   | eV^0.5         | computed     | :cite:`Batsanov1982`                           |\n",
      "+-----------------------------------------+----------------------------------------------------------------------+----------------+--------------+------------------------------------------------+\n",
      "| ``electronegativity_mulliken``          | Mulliken's scale of electronegativity                                | eV             | computed     | :cite:`Mulliken1934`                           |\n",
      "+-----------------------------------------+----------------------------------------------------------------------+----------------+--------------+------------------------------------------------+\n",
      "| ``electronegativity_nagle``             | Nagle's scale of electronegativity                                   | 1/bohr         | computed     | :cite:`Nagle1990`                              |\n",
      "+-----------------------------------------+----------------------------------------------------------------------+----------------+--------------+------------------------------------------------+\n",
      "| ``electronegativity_pauling``           | Pauling's scale of electronegativity                                 |                | stored       | :cite:`haynes2014crc`                          |\n",
      "+-----------------------------------------+----------------------------------------------------------------------+----------------+--------------+------------------------------------------------+\n",
      "| ``electronegativity_sanderson``         | Sanderson's scale of electronegativity                               |                | computed     | :cite:`Sanderson1951,Sanderson1952`            |\n",
      "+-----------------------------------------+----------------------------------------------------------------------+----------------+--------------+------------------------------------------------+\n",
      "| ``electrons``                           | Number of electrons                                                  |                | computed     |                                                |\n",
      "+-----------------------------------------+----------------------------------------------------------------------+----------------+--------------+------------------------------------------------+\n",
      "| ``electrophilicity``                    | Parr's electrophilicity index                                        |                | computed     | :cite:`Parr1999`                               |\n",
      "+-----------------------------------------+----------------------------------------------------------------------+----------------+--------------+------------------------------------------------+\n",
      "| ``evaporation_heat``                    | Evaporation heat                                                     | kJ/mol         | stored       |                                                |\n",
      "+-----------------------------------------+----------------------------------------------------------------------+----------------+--------------+------------------------------------------------+\n",
      "| ``fusion_heat``                         | Fusion heat                                                          | kJ/mol         | stored       |                                                |\n",
      "+-----------------------------------------+----------------------------------------------------------------------+----------------+--------------+------------------------------------------------+\n",
      "| ``gas_basicity``                        | Gas basicity                                                         | kJ/mol         | stored       | :cite:`haynes2014crc`                          |\n",
      "+-----------------------------------------+----------------------------------------------------------------------+----------------+--------------+------------------------------------------------+\n",
      "| ``geochemical_class``                   | Geochemical classification                                           |                | stored       | :cite:`white2013geochemistry`                  |\n",
      "+-----------------------------------------+----------------------------------------------------------------------+----------------+--------------+------------------------------------------------+\n",
      "| ``glawe_number``                        | Glawe's number (scale)                                               |                | stored       | :cite:`Glawe2016`                              |\n",
      "+-----------------------------------------+----------------------------------------------------------------------+----------------+--------------+------------------------------------------------+\n",
      "| ``goldschmidt_class``                   | Goldschmidt classification                                           |                | stored       | :cite:`white2013geochemistry,wiki-goldschmidt` |\n",
      "+-----------------------------------------+----------------------------------------------------------------------+----------------+--------------+------------------------------------------------+\n",
      "| ``group``                               | Group in the periodic table                                          |                | stored       |                                                |\n",
      "+-----------------------------------------+----------------------------------------------------------------------+----------------+--------------+------------------------------------------------+\n",
      "| ``hardness``                            | Absolute hardness. Can also be calcualted for ions.                  | eV             | computed     | :cite:`ParrPearson1983`                        |\n",
      "+-----------------------------------------+----------------------------------------------------------------------+----------------+--------------+------------------------------------------------+\n",
      "| ``heat_of_formation``                   | Heat of formation                                                    | kJ/mol         | stored       | :cite:`haynes2014crc`                          |\n",
      "+-----------------------------------------+----------------------------------------------------------------------+----------------+--------------+------------------------------------------------+\n",
      "| ``inchi``                               | International Chemical Identifier                                    |                | computed     | :cite:`IUPAC-InChI`                            |\n",
      "+-----------------------------------------+----------------------------------------------------------------------+----------------+--------------+------------------------------------------------+\n",
      "| ``ionenergy``                           | See IonizationEnergy class documentation                             |                | stored       | :cite:`ionization_energies`                    |\n",
      "+-----------------------------------------+----------------------------------------------------------------------+----------------+--------------+------------------------------------------------+\n",
      "| ``ionic_radii``                         | See IonicRadius class documentation                                  |                | stored       | :cite:`Shannon1976,Lundberg2016`               |\n",
      "+-----------------------------------------+----------------------------------------------------------------------+----------------+--------------+------------------------------------------------+\n",
      "| ``is_monoisotopic``                     | Is the element monoisotopic                                          |                | stored       |                                                |\n",
      "+-----------------------------------------+----------------------------------------------------------------------+----------------+--------------+------------------------------------------------+\n",
      "| ``is_radioactive``                      | Is the element radioactive                                           |                | stored       |                                                |\n",
      "+-----------------------------------------+----------------------------------------------------------------------+----------------+--------------+------------------------------------------------+\n",
      "| ``isotopes``                            | See Isotope class documentation                                      |                | stored       |                                                |\n",
      "+-----------------------------------------+----------------------------------------------------------------------+----------------+--------------+------------------------------------------------+\n",
      "| ``jmol_color``                          | Element color in Jmol convention as HEX codes.                       |                | stored       | :cite:`jmol-colors`                            |\n",
      "+-----------------------------------------+----------------------------------------------------------------------+----------------+--------------+------------------------------------------------+\n",
      "| ``lattice_constant``                    | Lattice constant                                                     | angstrom       | stored       |                                                |\n",
      "+-----------------------------------------+----------------------------------------------------------------------+----------------+--------------+------------------------------------------------+\n",
      "| ``lattice_structure``                   | Lattice structure code                                               |                | stored       |                                                |\n",
      "+-----------------------------------------+----------------------------------------------------------------------+----------------+--------------+------------------------------------------------+\n",
      "| ``mass_number``                         | Mass number of the most abundant isotope                             |                | computed     |                                                |\n",
      "+-----------------------------------------+----------------------------------------------------------------------+----------------+--------------+------------------------------------------------+\n",
      "| ``melting_point``                       | Melting point                                                        | K              | stored       | :cite:`haynes2016crc`                          |\n",
      "+-----------------------------------------+----------------------------------------------------------------------+----------------+--------------+------------------------------------------------+\n",
      "| ``mendeleev_number``                    | Mendeleev's number ([#f_mendeleev_number]_)                          |                | stored       | :cite:`Pettifor1984,Villars2004`               |\n",
      "+-----------------------------------------+----------------------------------------------------------------------+----------------+--------------+------------------------------------------------+\n",
      "| ``metallic_radius_c12``                 | Metallic radius with 12 nearest neighbors                            | pm             | stored       | :cite:`kyleandlaby`                            |\n",
      "+-----------------------------------------+----------------------------------------------------------------------+----------------+--------------+------------------------------------------------+\n",
      "| ``metallic_radius``                     | Single-bond metallic radius                                          | pm             | stored       | :cite:`kyleandlaby`                            |\n",
      "+-----------------------------------------+----------------------------------------------------------------------+----------------+--------------+------------------------------------------------+\n",
      "| ``molar_heat_capacity``                 | Molar heat capacity @ 25 C, 1 bar                                    | J/mol/K        | stored       | :cite:`haynes2014crc`                          |\n",
      "+-----------------------------------------+----------------------------------------------------------------------+----------------+--------------+------------------------------------------------+\n",
      "| ``molcas_gv_color``                     | Element color in MOCAS GV convention as HEX codes.                   |                | stored       | :cite:`molcas-colors`                          |\n",
      "+-----------------------------------------+----------------------------------------------------------------------+----------------+--------------+------------------------------------------------+\n",
      "| ``name_origin``                         | Origin of the name                                                   |                | stored       |                                                |\n",
      "+-----------------------------------------+----------------------------------------------------------------------+----------------+--------------+------------------------------------------------+\n",
      "| ``name``                                | Name in English                                                      |                | stored       |                                                |\n",
      "+-----------------------------------------+----------------------------------------------------------------------+----------------+--------------+------------------------------------------------+\n",
      "| ``neutrons``                            | Number of neutrons                                                   |                | computed     |                                                |\n",
      "+-----------------------------------------+----------------------------------------------------------------------+----------------+--------------+------------------------------------------------+\n",
      "| ``nist_webbook_url``                    | URL for the NIST Chemistry WebBook                                   |                | computed     | :cite:`NIST-CH-WB`                             |\n",
      "+-----------------------------------------+----------------------------------------------------------------------+----------------+--------------+------------------------------------------------+\n",
      "| ``nvalence``                            | Number of valence electrons                                          |                | computed     |                                                |\n",
      "+-----------------------------------------+----------------------------------------------------------------------+----------------+--------------+------------------------------------------------+\n",
      "| ``oxides``                              | Possible oxides based on oxidation numbers                           |                | computed     |                                                |\n",
      "+-----------------------------------------+----------------------------------------------------------------------+----------------+--------------+------------------------------------------------+\n",
      "| ``oxistates``                           | See OxidationState class documentation                               |                | stored       | :cite:`enwiki:1102394064`                      |\n",
      "+-----------------------------------------+----------------------------------------------------------------------+----------------+--------------+------------------------------------------------+\n",
      "| ``period``                              | Period in periodic table                                             |                | stored       |                                                |\n",
      "+-----------------------------------------+----------------------------------------------------------------------+----------------+--------------+------------------------------------------------+\n",
      "| ``pettifor_number``                     | Pettifor scale                                                       |                | stored       | :cite:`Pettifor1984`                           |\n",
      "+-----------------------------------------+----------------------------------------------------------------------+----------------+--------------+------------------------------------------------+\n",
      "| ``proton_affinity``                     | Proton affinity                                                      | kJ/mol         | stored       | :cite:`haynes2014crc`                          |\n",
      "+-----------------------------------------+----------------------------------------------------------------------+----------------+--------------+------------------------------------------------+\n",
      "| ``protons``                             | Number of protons                                                    |                | computed     |                                                |\n",
      "+-----------------------------------------+----------------------------------------------------------------------+----------------+--------------+------------------------------------------------+\n",
      "| ``sconst``                              | See ScreeningConstant class documentation ([#f_sconst]_)             |                | stored       | :cite:`Clementi1963,Clementi1967`              |\n",
      "+-----------------------------------------+----------------------------------------------------------------------+----------------+--------------+------------------------------------------------+\n",
      "| ``series``                              | Series in the periodic table                                         |                | stored       |                                                |\n",
      "+-----------------------------------------+----------------------------------------------------------------------+----------------+--------------+------------------------------------------------+\n",
      "| ``softness``                            | Absolute softness. Can also be calculated for ions.                  | 1/eV           | computed     |                                                |\n",
      "+-----------------------------------------+----------------------------------------------------------------------+----------------+--------------+------------------------------------------------+\n",
      "| ``sources``                             | Sources of the element                                               |                | stored       |                                                |\n",
      "+-----------------------------------------+----------------------------------------------------------------------+----------------+--------------+------------------------------------------------+\n",
      "| ``specific_heat_capacity``              | Specific heat capacity @ 25 C, 1 bar                                 | J/g/K          | stored       | :cite:`haynes2014crc`                          |\n",
      "+-----------------------------------------+----------------------------------------------------------------------+----------------+--------------+------------------------------------------------+\n",
      "| ``symbol``                              | Chemical symbol                                                      |                | stored       |                                                |\n",
      "+-----------------------------------------+----------------------------------------------------------------------+----------------+--------------+------------------------------------------------+\n",
      "| ``thermal_conductivity``                | Thermal conductivity @25 C                                           | W/m/K          | stored       |                                                |\n",
      "+-----------------------------------------+----------------------------------------------------------------------+----------------+--------------+------------------------------------------------+\n",
      "| ``triple_point_pressure``               | Presseure of the triple point                                        | kPa            | stored       | :cite:`haynes2016crc`                          |\n",
      "+-----------------------------------------+----------------------------------------------------------------------+----------------+--------------+------------------------------------------------+\n",
      "| ``triple_point_temperature``            | Temperature of the triple point                                      | K              | stored       | :cite:`haynes2016crc`                          |\n",
      "+-----------------------------------------+----------------------------------------------------------------------+----------------+--------------+------------------------------------------------+\n",
      "| ``uses``                                | Main applications of the element                                     |                | stored       |                                                |\n",
      "+-----------------------------------------+----------------------------------------------------------------------+----------------+--------------+------------------------------------------------+\n",
      "| ``vdw_radius_alvarez``                  | Van der Waals radius according to Alvarez ([#f_vdw_radius_alvarez]_) | pm             | stored       | :cite:`Alvarez2013,Vogt2014`                   |\n",
      "+-----------------------------------------+----------------------------------------------------------------------+----------------+--------------+------------------------------------------------+\n",
      "| ``vdw_radius_batsanov``                 | Van der Waals radius according to Batsanov                           | pm             | stored       | :cite:`Batsanov2001`                           |\n",
      "+-----------------------------------------+----------------------------------------------------------------------+----------------+--------------+------------------------------------------------+\n",
      "| ``vdw_radius_bondi``                    | Van der Waals radius according to Bondi                              | pm             | stored       | :cite:`Bondi1964`                              |\n",
      "+-----------------------------------------+----------------------------------------------------------------------+----------------+--------------+------------------------------------------------+\n",
      "| ``vdw_radius_dreiding``                 | Van der Waals radius from the DREIDING FF                            | pm             | stored       | :cite:`Mayo1990`                               |\n",
      "+-----------------------------------------+----------------------------------------------------------------------+----------------+--------------+------------------------------------------------+\n",
      "| ``vdw_radius_mm3``                      | Van der Waals radius from the MM3 FF                                 | pm             | stored       | :cite:`Allinger1994`                           |\n",
      "+-----------------------------------------+----------------------------------------------------------------------+----------------+--------------+------------------------------------------------+\n",
      "| ``vdw_radius_rt``                       | Van der Waals radius according to Rowland and Taylor                 | pm             | stored       | :cite:`Rowland1996`                            |\n",
      "+-----------------------------------------+----------------------------------------------------------------------+----------------+--------------+------------------------------------------------+\n",
      "| ``vdw_radius_truhlar``                  | Van der Waals radius according to Truhlar                            | pm             | stored       | :cite:`Mantina2009`                            |\n",
      "+-----------------------------------------+----------------------------------------------------------------------+----------------+--------------+------------------------------------------------+\n",
      "| ``vdw_radius_uff``                      | Van der Waals radius from the UFF                                    | pm             | stored       | :cite:`Rappe1992`                              |\n",
      "+-----------------------------------------+----------------------------------------------------------------------+----------------+--------------+------------------------------------------------+\n",
      "| ``vdw_radius``                          | Van der Waals radius                                                 | pm             | stored       | :cite:`haynes2014crc`                          |\n",
      "+-----------------------------------------+----------------------------------------------------------------------+----------------+--------------+------------------------------------------------+\n",
      "| ``zeff``                                | Effective nuclear charge                                             |                | computed     |                                                |\n",
      "+-----------------------------------------+----------------------------------------------------------------------+----------------+--------------+------------------------------------------------+\n"
     ]
    }
   ],
   "source": [
    "class_name = \"Element\"\n",
    "print(template.render(class_name=class_name, underline=\"=\" * len(class_name), table=render_doc_table(class_name)))"
   ]
  },
  {
   "cell_type": "code",
   "execution_count": null,
   "id": "31bf09ad-3424-4b69-906e-85d4743c7c07",
   "metadata": {},
   "outputs": [],
   "source": []
  }
 ],
 "metadata": {
  "kernelspec": {
   "display_name": "Python 3 (ipykernel)",
   "language": "python",
   "name": "python3"
  },
  "language_info": {
   "codemirror_mode": {
    "name": "ipython",
    "version": 3
   },
   "file_extension": ".py",
   "mimetype": "text/x-python",
   "name": "python",
   "nbconvert_exporter": "python",
   "pygments_lexer": "ipython3",
   "version": "3.12.0"
  }
 },
 "nbformat": 4,
 "nbformat_minor": 5
}
